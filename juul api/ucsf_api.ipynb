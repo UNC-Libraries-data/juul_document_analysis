{
 "cells": [
  {
   "cell_type": "code",
   "execution_count": 1,
   "metadata": {},
   "outputs": [],
   "source": [
    "from ucsf_api import *"
   ]
  },
  {
   "cell_type": "code",
   "execution_count": 2,
   "metadata": {},
   "outputs": [],
   "source": [
    "api = IndustryDocsSearch()"
   ]
  },
  {
   "cell_type": "code",
   "execution_count": 3,
   "metadata": {},
   "outputs": [
    {
     "name": "stdout",
     "output_type": "stream",
     "text": [
      "Results are done!\n"
     ]
    }
   ],
   "source": [
    "api.query(q='vape', wt='json')"
   ]
  },
  {
   "cell_type": "code",
   "execution_count": 4,
   "metadata": {},
   "outputs": [
    {
     "data": {
      "text/plain": [
       "35521"
      ]
     },
     "execution_count": 4,
     "metadata": {},
     "output_type": "execute_result"
    }
   ],
   "source": [
    "len(api.results)"
   ]
  },
  {
   "cell_type": "code",
   "execution_count": 5,
   "metadata": {},
   "outputs": [
    {
     "data": {
      "text/plain": [
       "{'id': 'ffbc0291',\n",
       " 'collection': ['JUUL Labs Collection'],\n",
       " 'collectioncode': ['juul'],\n",
       " 'custodian': ['David, Matthew;Davis, Victoria'],\n",
       " 'availability': ['public', 'no restrictions'],\n",
       " 'source': '[{\"type\":\"plaintext\",\"title\":\"University Libraries, University of North Carolina at Chapel Hill\"}]',\n",
       " 'datesent': '2018 December 25',\n",
       " 'filename': 'Tulchan APAC Media Monitoring: 27 December 2018',\n",
       " 'filepath': ['\\\\David, Matthew\\\\Matt_David_Email_4-28-2020--mattdavid@juul.com_1 .mbox\\\\INBOX\\\\1620967255934093937-718c0fc2-56a7-44a0-91ce-1cbcb378e72d.mbox.eml\\\\Tulchan APAC Media Monitoring: 27 December 2018',\n",
       "  '\\\\Davis, Victoria\\\\Victoria Davis_Email_9-15-2018 to 3-31-2020\\\\Victoria_Davis_Email_9-15-2018_to_3-31-2020--vdavis@juul.com_1 .mbox\\\\INBOX\\\\1620967255799089320-43bb7596-7d7e-4e82-a03f-bc7ff4912d1e.mbox.eml\\\\Tulchan APAC Media Monitoring: 27 December 2018'],\n",
       " 'case': ['State of North Carolina, ex rel. Joshua H. Stein, Attorney General,  v. JUUL Labs, Inc'],\n",
       " 'title': 'Tulchan APAC Media Monitoring: 27 December 2018',\n",
       " 'author': ['Namira Binte Abdul Nasir <nabdulnasir@tulchangroup.com>'],\n",
       " 'documentdate': '2018 December 25',\n",
       " 'type': ['email'],\n",
       " 'pages': 2,\n",
       " 'recipient': ['juul-apac@juul.com',\n",
       "  'vdavis@juul.com',\n",
       "  'Matt David <mattdavid@juul.com>',\n",
       "  'Rob Terra <rterra@juul.com>',\n",
       "  'Anshul Abbott <anshul@juul.com>',\n",
       "  'Elissa Leechawengwongs <elissa@juul.com>',\n",
       "  'Avinash Reddy <avinash.reddy@juul.com>',\n",
       "  'Jay Harriman <jharriman@bowergroupasia.com>',\n",
       "  'Mengyi Wu <mengyi.wu@bain.com>',\n",
       "  'anubhav.soni@juul.com',\n",
       "  'shanahan.chua <shanahan.chua@juul.com>',\n",
       "  'Sol Iglesias <sol.iglesias@juul.com>',\n",
       "  'Erika Widury <erika.widury@juul.com>',\n",
       "  'johnwoo.suk@juul.com',\n",
       "  'Mark Fritz <mfritz@juul.com>',\n",
       "  'zara.lightowler@bain.com'],\n",
       " 'copied': ['Juul <juul@tulchangroup.com>'],\n",
       " 'brand': ['Juul'],\n",
       " 'bates': 'JLI09843303',\n",
       " 'dateaddeducsf': '2024 February 29'}"
      ]
     },
     "execution_count": 5,
     "metadata": {},
     "output_type": "execute_result"
    }
   ],
   "source": [
    "api.results[0]"
   ]
  },
  {
   "cell_type": "code",
   "execution_count": 6,
   "metadata": {},
   "outputs": [],
   "source": [
    "api.save_json()"
   ]
  },
  {
   "cell_type": "code",
   "execution_count": 6,
   "metadata": {},
   "outputs": [],
   "source": [
    "api.save_csv()"
   ]
  },
  {
   "cell_type": "code",
   "execution_count": 1,
   "metadata": {},
   "outputs": [],
   "source": [
    "from ucsf_api import *"
   ]
  },
  {
   "cell_type": "code",
   "execution_count": 4,
   "metadata": {},
   "outputs": [
    {
     "ename": "JSONDecodeError",
     "evalue": "Expecting value: line 1 column 1 (char 0)",
     "output_type": "error",
     "traceback": [
      "\u001b[0;31m---------------------------------------------------------------------------\u001b[0m",
      "\u001b[0;31mJSONDecodeError\u001b[0m                           Traceback (most recent call last)",
      "\u001b[0;32m/var/folders/ls/m6_fgtz542sb3x2krf5mxsn40000gn/T/ipykernel_2703/570699764.py\u001b[0m in \u001b[0;36m<module>\u001b[0;34m\u001b[0m\n\u001b[0;32m----> 1\u001b[0;31m \u001b[0mresults_dict\u001b[0m \u001b[0;34m=\u001b[0m \u001b[0mjson\u001b[0m\u001b[0;34m.\u001b[0m\u001b[0mloads\u001b[0m\u001b[0;34m(\u001b[0m\u001b[0;34m'collection_JUUL_results.json'\u001b[0m\u001b[0;34m)\u001b[0m\u001b[0;34m\u001b[0m\u001b[0;34m\u001b[0m\u001b[0m\n\u001b[0m",
      "\u001b[0;32m~/opt/anaconda3/lib/python3.9/json/__init__.py\u001b[0m in \u001b[0;36mloads\u001b[0;34m(s, cls, object_hook, parse_float, parse_int, parse_constant, object_pairs_hook, **kw)\u001b[0m\n\u001b[1;32m    344\u001b[0m             \u001b[0mparse_int\u001b[0m \u001b[0;32mis\u001b[0m \u001b[0;32mNone\u001b[0m \u001b[0;32mand\u001b[0m \u001b[0mparse_float\u001b[0m \u001b[0;32mis\u001b[0m \u001b[0;32mNone\u001b[0m \u001b[0;32mand\u001b[0m\u001b[0;34m\u001b[0m\u001b[0;34m\u001b[0m\u001b[0m\n\u001b[1;32m    345\u001b[0m             parse_constant is None and object_pairs_hook is None and not kw):\n\u001b[0;32m--> 346\u001b[0;31m         \u001b[0;32mreturn\u001b[0m \u001b[0m_default_decoder\u001b[0m\u001b[0;34m.\u001b[0m\u001b[0mdecode\u001b[0m\u001b[0;34m(\u001b[0m\u001b[0ms\u001b[0m\u001b[0;34m)\u001b[0m\u001b[0;34m\u001b[0m\u001b[0;34m\u001b[0m\u001b[0m\n\u001b[0m\u001b[1;32m    347\u001b[0m     \u001b[0;32mif\u001b[0m \u001b[0mcls\u001b[0m \u001b[0;32mis\u001b[0m \u001b[0;32mNone\u001b[0m\u001b[0;34m:\u001b[0m\u001b[0;34m\u001b[0m\u001b[0;34m\u001b[0m\u001b[0m\n\u001b[1;32m    348\u001b[0m         \u001b[0mcls\u001b[0m \u001b[0;34m=\u001b[0m \u001b[0mJSONDecoder\u001b[0m\u001b[0;34m\u001b[0m\u001b[0;34m\u001b[0m\u001b[0m\n",
      "\u001b[0;32m~/opt/anaconda3/lib/python3.9/json/decoder.py\u001b[0m in \u001b[0;36mdecode\u001b[0;34m(self, s, _w)\u001b[0m\n\u001b[1;32m    335\u001b[0m \u001b[0;34m\u001b[0m\u001b[0m\n\u001b[1;32m    336\u001b[0m         \"\"\"\n\u001b[0;32m--> 337\u001b[0;31m         \u001b[0mobj\u001b[0m\u001b[0;34m,\u001b[0m \u001b[0mend\u001b[0m \u001b[0;34m=\u001b[0m \u001b[0mself\u001b[0m\u001b[0;34m.\u001b[0m\u001b[0mraw_decode\u001b[0m\u001b[0;34m(\u001b[0m\u001b[0ms\u001b[0m\u001b[0;34m,\u001b[0m \u001b[0midx\u001b[0m\u001b[0;34m=\u001b[0m\u001b[0m_w\u001b[0m\u001b[0;34m(\u001b[0m\u001b[0ms\u001b[0m\u001b[0;34m,\u001b[0m \u001b[0;36m0\u001b[0m\u001b[0;34m)\u001b[0m\u001b[0;34m.\u001b[0m\u001b[0mend\u001b[0m\u001b[0;34m(\u001b[0m\u001b[0;34m)\u001b[0m\u001b[0;34m)\u001b[0m\u001b[0;34m\u001b[0m\u001b[0;34m\u001b[0m\u001b[0m\n\u001b[0m\u001b[1;32m    338\u001b[0m         \u001b[0mend\u001b[0m \u001b[0;34m=\u001b[0m \u001b[0m_w\u001b[0m\u001b[0;34m(\u001b[0m\u001b[0ms\u001b[0m\u001b[0;34m,\u001b[0m \u001b[0mend\u001b[0m\u001b[0;34m)\u001b[0m\u001b[0;34m.\u001b[0m\u001b[0mend\u001b[0m\u001b[0;34m(\u001b[0m\u001b[0;34m)\u001b[0m\u001b[0;34m\u001b[0m\u001b[0;34m\u001b[0m\u001b[0m\n\u001b[1;32m    339\u001b[0m         \u001b[0;32mif\u001b[0m \u001b[0mend\u001b[0m \u001b[0;34m!=\u001b[0m \u001b[0mlen\u001b[0m\u001b[0;34m(\u001b[0m\u001b[0ms\u001b[0m\u001b[0;34m)\u001b[0m\u001b[0;34m:\u001b[0m\u001b[0;34m\u001b[0m\u001b[0;34m\u001b[0m\u001b[0m\n",
      "\u001b[0;32m~/opt/anaconda3/lib/python3.9/json/decoder.py\u001b[0m in \u001b[0;36mraw_decode\u001b[0;34m(self, s, idx)\u001b[0m\n\u001b[1;32m    353\u001b[0m             \u001b[0mobj\u001b[0m\u001b[0;34m,\u001b[0m \u001b[0mend\u001b[0m \u001b[0;34m=\u001b[0m \u001b[0mself\u001b[0m\u001b[0;34m.\u001b[0m\u001b[0mscan_once\u001b[0m\u001b[0;34m(\u001b[0m\u001b[0ms\u001b[0m\u001b[0;34m,\u001b[0m \u001b[0midx\u001b[0m\u001b[0;34m)\u001b[0m\u001b[0;34m\u001b[0m\u001b[0;34m\u001b[0m\u001b[0m\n\u001b[1;32m    354\u001b[0m         \u001b[0;32mexcept\u001b[0m \u001b[0mStopIteration\u001b[0m \u001b[0;32mas\u001b[0m \u001b[0merr\u001b[0m\u001b[0;34m:\u001b[0m\u001b[0;34m\u001b[0m\u001b[0;34m\u001b[0m\u001b[0m\n\u001b[0;32m--> 355\u001b[0;31m             \u001b[0;32mraise\u001b[0m \u001b[0mJSONDecodeError\u001b[0m\u001b[0;34m(\u001b[0m\u001b[0;34m\"Expecting value\"\u001b[0m\u001b[0;34m,\u001b[0m \u001b[0ms\u001b[0m\u001b[0;34m,\u001b[0m \u001b[0merr\u001b[0m\u001b[0;34m.\u001b[0m\u001b[0mvalue\u001b[0m\u001b[0;34m)\u001b[0m \u001b[0;32mfrom\u001b[0m \u001b[0;32mNone\u001b[0m\u001b[0;34m\u001b[0m\u001b[0;34m\u001b[0m\u001b[0m\n\u001b[0m\u001b[1;32m    356\u001b[0m         \u001b[0;32mreturn\u001b[0m \u001b[0mobj\u001b[0m\u001b[0;34m,\u001b[0m \u001b[0mend\u001b[0m\u001b[0;34m\u001b[0m\u001b[0;34m\u001b[0m\u001b[0m\n",
      "\u001b[0;31mJSONDecodeError\u001b[0m: Expecting value: line 1 column 1 (char 0)"
     ]
    }
   ],
   "source": [
    "results_dict = json.loads('collection_JUUL_results.json')"
   ]
  },
  {
   "cell_type": "code",
   "execution_count": 2,
   "metadata": {},
   "outputs": [],
   "source": [
    "api = IndustryDocsSearch()\n",
    "api.read('./collection_JUUL_results.json')"
   ]
  },
  {
   "cell_type": "code",
   "execution_count": 3,
   "metadata": {},
   "outputs": [
    {
     "data": {
      "text/html": [
       "<div>\n",
       "<style scoped>\n",
       "    .dataframe tbody tr th:only-of-type {\n",
       "        vertical-align: middle;\n",
       "    }\n",
       "\n",
       "    .dataframe tbody tr th {\n",
       "        vertical-align: top;\n",
       "    }\n",
       "\n",
       "    .dataframe thead th {\n",
       "        text-align: right;\n",
       "    }\n",
       "</style>\n",
       "<table border=\"1\" class=\"dataframe\">\n",
       "  <thead>\n",
       "    <tr style=\"text-align: right;\">\n",
       "      <th></th>\n",
       "      <th>results</th>\n",
       "    </tr>\n",
       "  </thead>\n",
       "  <tbody>\n",
       "    <tr>\n",
       "      <th>0</th>\n",
       "      <td>{'id': 'ffbb0284', 'collection': ['JUUL Labs C...</td>\n",
       "    </tr>\n",
       "    <tr>\n",
       "      <th>1</th>\n",
       "      <td>{'id': 'ffbb0285', 'collection': ['JUUL Labs C...</td>\n",
       "    </tr>\n",
       "    <tr>\n",
       "      <th>2</th>\n",
       "      <td>{'id': 'ffbb0286', 'collection': ['JUUL Labs C...</td>\n",
       "    </tr>\n",
       "    <tr>\n",
       "      <th>3</th>\n",
       "      <td>{'id': 'ffbb0287', 'collection': ['JUUL Labs C...</td>\n",
       "    </tr>\n",
       "    <tr>\n",
       "      <th>4</th>\n",
       "      <td>{'id': 'ffbc0284', 'collection': ['JUUL Labs C...</td>\n",
       "    </tr>\n",
       "    <tr>\n",
       "      <th>...</th>\n",
       "      <td>...</td>\n",
       "    </tr>\n",
       "    <tr>\n",
       "      <th>280064</th>\n",
       "      <td>{'id': 'zzyx0286', 'collection': ['JUUL Labs C...</td>\n",
       "    </tr>\n",
       "    <tr>\n",
       "      <th>280065</th>\n",
       "      <td>{'id': 'zzyy0283', 'collection': ['JUUL Labs C...</td>\n",
       "    </tr>\n",
       "    <tr>\n",
       "      <th>280066</th>\n",
       "      <td>{'id': 'zzyy0284', 'collection': ['JUUL Labs C...</td>\n",
       "    </tr>\n",
       "    <tr>\n",
       "      <th>280067</th>\n",
       "      <td>{'id': 'zzyy0285', 'collection': ['JUUL Labs C...</td>\n",
       "    </tr>\n",
       "    <tr>\n",
       "      <th>280068</th>\n",
       "      <td>{'id': 'zzyy0286', 'collection': ['JUUL Labs C...</td>\n",
       "    </tr>\n",
       "  </tbody>\n",
       "</table>\n",
       "<p>280069 rows × 1 columns</p>\n",
       "</div>"
      ],
      "text/plain": [
       "                                                  results\n",
       "0       {'id': 'ffbb0284', 'collection': ['JUUL Labs C...\n",
       "1       {'id': 'ffbb0285', 'collection': ['JUUL Labs C...\n",
       "2       {'id': 'ffbb0286', 'collection': ['JUUL Labs C...\n",
       "3       {'id': 'ffbb0287', 'collection': ['JUUL Labs C...\n",
       "4       {'id': 'ffbc0284', 'collection': ['JUUL Labs C...\n",
       "...                                                   ...\n",
       "280064  {'id': 'zzyx0286', 'collection': ['JUUL Labs C...\n",
       "280065  {'id': 'zzyy0283', 'collection': ['JUUL Labs C...\n",
       "280066  {'id': 'zzyy0284', 'collection': ['JUUL Labs C...\n",
       "280067  {'id': 'zzyy0285', 'collection': ['JUUL Labs C...\n",
       "280068  {'id': 'zzyy0286', 'collection': ['JUUL Labs C...\n",
       "\n",
       "[280069 rows x 1 columns]"
      ]
     },
     "execution_count": 3,
     "metadata": {},
     "output_type": "execute_result"
    }
   ],
   "source": [
    "api.results"
   ]
  },
  {
   "cell_type": "code",
   "execution_count": 1,
   "metadata": {},
   "outputs": [],
   "source": [
    "test = 'zzyy0286'"
   ]
  },
  {
   "cell_type": "code",
   "execution_count": 2,
   "metadata": {},
   "outputs": [],
   "source": [
    "import re"
   ]
  },
  {
   "cell_type": "code",
   "execution_count": 13,
   "metadata": {},
   "outputs": [
    {
     "data": {
      "text/plain": [
       "'z/z/y/y'"
      ]
     },
     "execution_count": 13,
     "metadata": {},
     "output_type": "execute_result"
    }
   ],
   "source": [
    "dirs = '/'.join([x for x in re.search(r'[a-z]+(?=[0-9])', test)[0]])\n",
    "\n",
    "dirs"
   ]
  }
 ],
 "metadata": {
  "kernelspec": {
   "display_name": "Python 3",
   "language": "python",
   "name": "python3"
  },
  "language_info": {
   "codemirror_mode": {
    "name": "ipython",
    "version": 3
   },
   "file_extension": ".py",
   "mimetype": "text/x-python",
   "name": "python",
   "nbconvert_exporter": "python",
   "pygments_lexer": "ipython3",
   "version": "3.9.13"
  }
 },
 "nbformat": 4,
 "nbformat_minor": 2
}
