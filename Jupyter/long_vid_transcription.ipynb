{
 "cells": [
  {
   "cell_type": "markdown",
   "metadata": {},
   "source": [
    "### Transcribing Longer Videos\n",
    "\n",
    "Whisper AI has a limit on how large of a file it can process, so in order to be able to process longer videos, we have to convert the MP4 files to MP3. Video files contain both audio and video, making them much larger. Converting to MP3 keeps the audio quality high while significantly reducing file size. "
   ]
  },
  {
   "cell_type": "markdown",
   "metadata": {},
   "source": [
    "Import necessary libraries."
   ]
  },
  {
   "cell_type": "code",
   "execution_count": 2,
   "metadata": {},
   "outputs": [],
   "source": [
    "import os\n",
    "import whisper"
   ]
  },
  {
   "cell_type": "code",
   "execution_count": 3,
   "metadata": {},
   "outputs": [],
   "source": [
    "from moviepy.editor import (VideoClip, VideoFileClip, AudioFileClip)\n",
    "import moviepy"
   ]
  },
  {
   "cell_type": "markdown",
   "metadata": {},
   "source": [
    "We use moviepy to load the video and extract the audio. Since Whisper AI has a limit on how large a file it can process at once, if the audio file is too large, the model might fail or take an extremely long time.\n",
    "\n",
    "The bitrate=\"40k\" reduces file size while keeping speech clear for transcription."
   ]
  },
  {
   "cell_type": "code",
   "execution_count": 4,
   "metadata": {},
   "outputs": [],
   "source": [
    "vid_path = \"./all_hands.mp4\"\n",
    "audio_output = \"audio_transcription.mp3\"\n",
    "\n",
    "vid_clip = VideoFileClip(vid_path)\n",
    "\n",
    "audio_clip = vid_clip.audio"
   ]
  },
  {
   "cell_type": "code",
   "execution_count": 5,
   "metadata": {},
   "outputs": [
    {
     "name": "stdout",
     "output_type": "stream",
     "text": [
      "MoviePy - Writing audio in audio_transcription.mp3\n"
     ]
    },
    {
     "name": "stderr",
     "output_type": "stream",
     "text": [
      "chunk:   0%|          | 0/56913 [00:00<?, ?it/s, now=None]"
     ]
    },
    {
     "name": "stderr",
     "output_type": "stream",
     "text": [
      "                                                                        "
     ]
    },
    {
     "name": "stdout",
     "output_type": "stream",
     "text": [
      "MoviePy - Done.\n"
     ]
    },
    {
     "name": "stderr",
     "output_type": "stream",
     "text": [
      "\r"
     ]
    }
   ],
   "source": [
    "audio_clip.write_audiofile(audio_output, bitrate=\"40k\")"
   ]
  },
  {
   "cell_type": "markdown",
   "metadata": {},
   "source": [
    "Load and Run Whisper Model.\n",
    "\n",
    "We load the Whisper model and transcribe the extracted MP3 file."
   ]
  },
  {
   "cell_type": "code",
   "execution_count": 6,
   "metadata": {},
   "outputs": [
    {
     "name": "stderr",
     "output_type": "stream",
     "text": [
      "c:\\Users\\rolando\\miniforge3\\Lib\\site-packages\\whisper\\__init__.py:150: FutureWarning: You are using `torch.load` with `weights_only=False` (the current default value), which uses the default pickle module implicitly. It is possible to construct malicious pickle data which will execute arbitrary code during unpickling (See https://github.com/pytorch/pytorch/blob/main/SECURITY.md#untrusted-models for more details). In a future release, the default value for `weights_only` will be flipped to `True`. This limits the functions that could be executed during unpickling. Arbitrary objects will no longer be allowed to be loaded via this mode unless they are explicitly allowlisted by the user via `torch.serialization.add_safe_globals`. We recommend you start setting `weights_only=True` for any use case where you don't have full control of the loaded file. Please open an issue on GitHub for any issues related to this experimental feature.\n",
      "  checkpoint = torch.load(fp, map_location=device)\n"
     ]
    },
    {
     "name": "stdout",
     "output_type": "stream",
     "text": [
      " you One of the few companies that sort of did both they built up a what looked like for a while a pretty sizable business now of course in contrast to us not quite so. But they did pretty well with direct. Effectively not a ton of differentiation there, but they were one of the earliest players in the e-commerce marketplace and they got a lot of the early traction there. Built up a lot of direct sales a lot of work with a lot of third parties. This is interesting stuff and they were creative in building out all these things they're also pretty creative in building out different kinds of products they went so broad that they. You know pretty they explored a whole bunch of different things so as one of the remaining the few remaining independence in the market we saw an opportunity to. And then we went back into some of the areas that they've explored over a number of years some of those things are potentially beneficial. Some are definitely beneficial to in the right hands here with us at jewel and we we want to get the most out of that possible I think at the moment maybe Kevin wants to speak to this more we're still sort of in process of assessing the company. There's people it's talent and its capabilities and understanding what we want to integrate from B2 and what we what we see as problem. A lot of work right we all know this. Especially in the quality side regulatory other oversight all the fun work that a lot of you guys do day to day. B2 is a much smaller company they haven't been able to hold to as tight quality standards as we have certainly not across the board. So there's a lot of things that we're going to need to stop doing at V2 in in fairly short order they're aware of this it's not a surprise. But we're assessing what we're going to hang on to and what we're going to really integrate into the company Kevin do you have the same where I'm at. There's a microphone. I think James is right. There's a lot of capabilities that we do like I like the resources that they haven't China as a launching pattern we need to have much more presence in China. Whether it's from marketplace or from an engineering resources perspective. As James has said we're all figuring out what the regulatory requirements are and they've got some challenges in terms of what they have around their standards around testing and in website age verification. So we're not going to have what is now part of the company. If it said, the MR not being regulatory compliance so Tim has been down there last couple days we've been having daily phone calls with the two founders and CEO president Yan and Dan. And we'll take the right action there'll be some restructuring actions we're not really going to make a strategy move into the open system and that's part of their business. And if we go through restructuring as we've said on the phone we'll do it in a very open transparent way will treat people fairly if there's impact on them. But we got to figure out how to overall protect our company as well as we dig more into some of the certification operating practices down there and we'll try to be balanced on it. This one's for you. If most of you know me I'm not particularly into hanging out with celebs. And investors and board members that are and I have to pay my duty and spending time with board members and investors sometimes. I did the bare minimum 61 minutes of the 60 minute conversation and then I said got leave was on the phone or something I had to leave the room. So Leo is a long time vapor he's tried he said 100 products over his lifetime he started smoking when he was 13 he smokes for 18 years. He's been on his journey for 10 years to stop smoking. And now an at at you know that. Ava user of dual product and he is you know a huge believer in harm reduction from a smoker so he had some points of view we want to share. I don't know what to go forward is he you know he has a large foundation that is focused on environmental harm reduction in general harm reduction overall so we had some discussions. I other than the fact that he was wearing a Dodgers cap when he came in which I didn't very much like. I told him take your cap off when you're in the building please if it's a Dodgers hat if it's a giant set you can wear it but the dodger if take it off. But I will tell you he's sincere he's got a lot of personal experiences story around the harm that's cigarette smoking is done in him and all his friends he has by the way huge array of friends that have all converted off of smoking. They're now jewelers so it's pretty amazing for somebody who started when they're smoking when they were 13 years old to pack a day smoke for 13 years. So he was a heavy smoker so he came in some of the investors have met him. I don't think we're going to do you know it's not our style we're not going to go do celebrity arrangements and things of that nature but he's got some perspectives as a smoker and the categories interest didn't learn anymore so I kind of be very sincere and he had a lot of. Personal connectivity the product. I have to say in the 60 minutes he was there there was a lot of people booking appointments with Linda outside my office that I had never seen before in the company. I looked out like there's eight people out there booking meetings all like this trying to book the name. So it was kind of funny terms of what was happening yes my wife was pretty bummed out that she didn't come down and visit that day so. Did you talk about the FDA James all. So a few of us met with the FDA last Tuesday the commissioner was on CNBC on Friday I'll tell you some of the commentary was make it was interesting. I think we had words and thoughts that had been shared in some of the meetings I think. The question is we have a sense might respond to. So we officially over response by the 11th will submit on the 9th since the 9th is Friday I don't think they're going to be in the office waiting for our response on Sunday on the 11th and then we don't know what the plan is after that. We have some choices to make. There is one action plan where we can say hey we have a plan which we think is responsive. And from a leadership position and leadership manner that we're going to go take some actions and we can take those actions. Right away on the 12th of 13th and not wait for the FDA response it's unclear what the FDA is going to do with the input they get. It's unclear what their final decision is going to be. I do not believe they'll share their final decisions before they decide what they are and implement them. We could wait the alternative is to wait to see what the FDA's response is. And then collaborate and be coordinate with them. We offered to be collaborative and coordinate with the FDA they didn't seem to be that concerned if we went out ahead of time and made some actions. I'm frankly worried if they wait two four six eight weeks in terms of actions. They'll probably have to go back to OMB who has final regulatory authority and who knows what sign off say have to get. If we're really committed to making some progress on this youth uptake issue. I worry waiting two four six eight weeks is not solving the issue. So we're having debates internally right now about what we're going to do. We have a strong set of recommendations on actions that we think to take. Our presentation was a little bit in the spirit of we think the whole category is kind of gotten out ahead of itself a little bit. We strongly disagree that there's any notion that we've been out marketing to you through that's a target marketplace for us. Frankly as we've told everybody we don't need one person whether they're youth or not that's an on nicotine user. We're going to grow the hell out of our business is just not true in terms of the marketplace. So we're formulating the plans. There'll be a comms plan around it sometime between the 12th and the subsequent four to six weeks. There'll be some action taken. And frankly the big debate is do we go out on our own and take action because we think of the right actions to take and get going. What do we wait and see what the FDA does and draft off the FDA a little bit. So we're going to have discussions taking place. So I thought it was a productive conversation it was a 50 minute meeting they probably had 25 people in the meeting. And we're offering or proposing some actions which we think will have impact. And as we tell them all the time though it's balanced with the fact that we need to maintain the category and a tremendous opportunity for the 38 million Americans in the billion people worldwide. And we're concerned about the spectrum of all users. So that's some of the debate in the discussion we have with them. Just to add to that really quickly a lot of you a lot of you. Whether you really know it or not have contributed a ton to preparations for these FDA responses. Some of you very overtly read action plans on specific responses. Different ways that we would look at better controlling the industry in ways that haven't been done before. And then some of you in ways that you may not be as clear right we've been building new product platforms to do all sorts of new things that that may not be obvious to all of you. I think one of the difficult things in this kind of moment is how sensitive we need to treat this kind of information. So I think what we'd love to do right now is just commend you guys as overtly as possible and say, look here's exactly the kind of input that you guys have had and what impact it's had with the FDA. The fact is we're still in the midst of this right now. But regardless, thank you so much so many of you that have been putting in all the effort that's gone into what is an incredibly comprehensive and thoughtful response to FDA. We don't know what they're going to pick up on here. What's really going to resonate with them. But I think we're what we can also say is that we're we're not going to be fully dependent just on what the FDA responds to. We know internally what we think is right and we know that because we've been digging into a lot of the data on what works and what that and what doesn't work. And whether or not that gets to be sort of a kumbaya moment with the FDA and we say hand in hand, right, this is exactly what we're all going to do together and it's fully supported. It's probably pretty unlikely situation that it's going to look quite that clean. But there are other areas of the world where we will get to explore effectively all of the solutions that you guys have helped put on the table. And I think it's going to be a work in progress for a while, but every bit of work that you guys have done is going to see some sort of light of day at some point it's going to make a material impact on the reputation of the company. And really functionally on getting ahead of this issue. I think the reality is that there's just not a clear understanding of exactly what the problem is right now. And we're in the midst of having conversations with stakeholders, not just the FDA, but state AGs and others to socialize right what is really happening and what are the right solutions to this. I think the unfortunate reality and frankly fortunate reality as well is that we know the most about this right of anyone who's involved and couldn't be more proud of that. Unfortunately, that does mean a lot of socialization and a lot of effort. And I think one thing that we really want to do to make you guys as proud as possible of all the work that you put in is is find a way to ultimately get a lot more of our voice out there publicly. So that what we know internally is sort of the right thing to do is better understood by the public and by regulators ultimately as well. Bill and James is point you know we've made an explicit decision not to get into a PR battle with the FDA over the last month. So the commissioners on CNBC every week and they're out loud talking about this. If you sit in the room with them, it is clear that we probably have knowledge on the category that most. You know some of these assertions like you know all online is bad online is not online I go on every day and go to my favorite three sites and click that I'm 21 and go to my PayPal account and buy a starter kit every day. There is no age verification system. I think that is very different from our age verification process was now enclosed, but it includes less for digits, so security number and we'll soon have two factor authentication. So not everybody is either totally informed or well intended in terms of their communication, but calling online is online is just a misrepresentation of that. I was with the meeting over the weekend with some California legislators flavors are not flavors so we brought them out and pulled out a bag of 10 packages that we bought in the bake shop of bubble gum and gummy bear and no duds and dragons blood in the 10 we had. And then I plopped our flavors and said are you telling me you think that is the same as that. You said that's horrible said that's not us that's other folks so there's a lot of misinformation out there. It is not a simple story to talk about what we're trying to do. The behavioral data that we're getting and all the studies around switching rates is hugely effective when you talk to people that there's sweetpeaks smokers who are buying our product are switching at a 50 to 60% rate, which is about 10 times the average of available in our tea products today. Talk about the role of flavors of people that date mango switch at 20 points higher than if they use a tobacco product they don't know those facts that we share those facts. So we've probably we made a decision not to publicly battle with the FDA, but there's a lot of this information out there and part of our job is to get information. Asking myself and Patrick Lynch who with the Massachusetts attorney general on Friday and we spent time with her staff for almost two hours and there's just poor information some of it is. Because you know again I think a lot of folks have come from a traditional tobacco background would just like us to go away and start with the presumption of badness and others it's there's a lot of misinformation out there so we're trying to get information out there. But we're going to go out there with facts. I also think we're going to get much more aggressive in terms of pushing on our mission the team is in New York this week shooting TV material that we would go out in terms of a campaign that we would launch in late November and December, which is very testimonial oriented very smoke or to smoke or oriented very focused on our mission it would be literally impossible for someone to misperceive that as attracting youth. So we're going to start getting stronger in terms of our mission and you know making sure that the 38 million Americans are being represented correctly. What are the chances that we have to stop selling flavors I'd hate to put odds I'm not a I'm not a Las Vegas bookie in terms of odds I don't know what the FDA is going to go do you see some of the comments from the commission he talks about maybe flavors and certain channels maybe certain types of flavors. I don't think and again don't quote me I don't think that the FDA and the government want to shut down the category I don't think they want to restrict some of the success we're showing adult smokers they're trying to figure that out so I don't know what's going to happen there. Have a unified single workspace for all San Francisco employees. My question will be over what time period. We could do it in two ways we could cut the San Francisco workforce down by two thirds which is not my preference. That is a solution my preference is we go find a space to three a sure now when we have almost a campus like I've asked Anna and James a little bit to go buy a big chunk of land someplace and just have a destination there's we get there that would be the intent over time yes. And I like to build a really big campus and fill it up and run out of space again because we're being so successful. State of California State's employees are allowed two hours PTO on election day to vote will polling place volunteers be eligible for taking the whole day office PTO. I have no friggin idea where anybody is every any day so if you want to go. Go work at a polling place for a day probably inform your boss and leave I'm not sure what the official policy is but. Somebody asked me where somebody was it said no friggin idea where they are I don't know every calendar. As a as we wrap up twenty-ten with the executive team rate joules performances come well before the moon. So we'll come back with some thoughts on first half of nineteen we're going through the planning process now. Jules performance as a company eighteen. Now I'm going to get into a commitment as to what the bonus multiplier is going to be I'm trying to think through the unintended consequences and I'm not. I mean let's let's just step back for a second the company is going to grow about seven X in revenue we're having a huge impact in terms of getting product and smokers hands. We're finally figuring out what data that we're switching people of the fifty to sixty percent rate. We're adding capability throughout the company that we need to add which is really important as we talked about building this backbone capability so that we can grow. We're now going to be in seven countries by the end of the year maybe more if we can get James out of Russia he's going to get into Russia getting them out is going to be the challenge. Not that anybody's going to call ahead of time and say check on but I'm just saying he's going to have a tough time getting out. We mean seven countries will have a few hundred people in international we start the earth one P.O.T.s probably here is the one. We're continuing to grow our brand we've got a lot of headwind in the U.S. I think every market is going to be different. It would be hard to say if you looked at almost every metric and by no means are we perfect because we're running hard and we're learning along the way. It would be hard to believe that if the companies growing seven times built the base put capability in place. It's created all this employment. If you look at the financial performance all most every indication is moved up in terms of positive or quality rate. If you look at our margin performance or yield overall manufacturing it'd be hard to say that we haven't had or having a phenomenal year. And that's because of all you in the room and all your colleagues around around the world. There are many many many things that we can be doing better and I take every opportunity to meetings to voice those that things we need to work on only because we have this unbelievable opportunity. But we're in the you know baseball analogy we're in the top of the first inning maybe the bottom of the first. And we've got a market of a billion smokers around the globe. We're just starting to get into countries like Israel, UK, Canada will be in Russian Switzerland, November will be in Germany and France in December and. Teams got a large rollout plan going forward which has put a lot of stress here and out internationally. We got to find that balance. We're getting into new businesses our new leader around enterprise markets there. We're building capability on proud of what we're doing around our quality systems. It can be painful sometimes. But I think we got to take those actions to be a market leader. So I think you know the company I would tell you and thanks to everybody we're having a pretty good year. Change his name to heat not burns. I am a heat not burn advocate though. I think we should have a product James has shown me the industrial design and said if you can make that the right cost and it works. I like it so no I haven't considered any nicknames. Can we get a band to perform with the holiday party here? Well it looks like James and I are going to for a market launch and then coming back just for the holiday party. So maybe we can be the surprise ban. So I think we can be the surprise ban. What do you think? I think it's like the time for that. So on this next question, uh, reminiscent of big tobacco marketing and what is the question? Could we invite them to give us suggestions? I mean we've always you know we made it clear we're open to suggestions. I don't, you know, and I think we've been tightening up our marketing more and more as we go along. We'll continue to open to suggestions there. But you know I think that this is really just kind of reflecting of our early early campaign, which you know we we've accepted is was kind of misguided and we're not going to engage in that kind of lifestyle marketing again. I don't want to add to that. This is such a crazy thing. I mean, I don't know how many of you ever would have seen our earliest marketing work. I had it not been for this kind of moment and press right now. The grand irony of this is that the earliest marketing campaign generated almost no traction and really was incredibly limited in scope. And only lasted what about three months and six six months. Some of that. So look, I just want to tell the story. I get a I get letters. I think we probably all do from time to time from both people that are. Success stories right that are super thrilled to have gotten finally found a product that got them off of smoking and those are good letters and those are fun to get. Pretty nasty letters. But you know from parents and other people and I got one the other day that included a photocopy of our marketing campaign from back in 2015 saying, this is terrible. Why would you do this? Why are you doing this right today. And it's it's really just ashamed right that we we learned from that exercise. We moved past it. And we can't move past it right. These things come back to haunt us. And I think there's a lesson to be learned there that one of the reasons that were so so tight. The tightly diligence about the kind of work that we do today. In the way that we talk to the public and quite frankly, the. We have tightly. We are talking here about FDA responses and other things. Because we're learning right from those lessons. We know that these things floating out there will will survive eternity online. It's it's always going to be there in the way back machine and someone's going to press the dial because it makes good headlines and could clickbait. So. James said this, you know, company ran a campaign. It was a lifestyle campaign. I think the company was an evolution. I don't I wasn't here by look at it. I don't think it was youth oriented. It might be more youthful than what we have today in terms of our current content, which is more testimonial based. But the James's point is I tell people. You know, in the subsequent 12 months after the campaign, we sold 207,000 devices in all of 2016. We sold 207,000 devices in Monday, Tuesday of this week. So it did not set the tone. The company really took off in the middle of 2017. It was probably the first time we really started getting the ability to scale supply wise. We're going through channel. You know, decisions and transformations. It was really a horizontal reference oriented. The smoker would be using the product and refer to it or the three of the other friends or quaintes or smokers who were supply constrained. So notion that that campaign launched the company. It's just not factually true. You tell them. And you know, look at where we are today in terms of position in the company like others just evolved and we settle on a position, which is much more focused on switching and very much focused on adult smoke. And we look at our social media content today. You look at our website. Look at anything we're doing on printing radio. It would be hard to articulate an argue that we're oriented towards youth in terms of that. It's a very clear focus on the adult smoke or so. But it lives in history and people pulled up and they find it someplace and they said, look at your campaign. Said, man, are you still watching VH1 or MTV or something? I don't know where this is, but it's not out there in the public domain today. So it's just not true. User stories. So yeah, the user stories we are. Look at our print that we're running right now. It's all testimonials. You look at our websites. All testimonials. A lot of our visuals testimonials. We're doing shoots right now that we could do over the top media TV testimonials. We've got this ability now to upload photos with people's personal testimonials. We're now putting that into digital so people can send us a video and do uploads of that. We're going to be approving some copy that has mosaics of user testimonials so that it's very clear in terms of what the focus is. So it's a very much of a focus. We're not going to shoot confetti canyons with jewel pods. I'm highly confident that. Just as a story she know we had a TSM that was at a college football game. Decided to throw jewel pods out in the stands. They are now a former TSM. At the company. Because it's just not the image that we want to have in the appropriate behavior when having the company. So when we found out on that, the person was terminated the next day. Sunday and. Had to refund their sign on bonus as well. It's just not the representation we want. So we're not going to have anything associated with that. The quiddy events. We can't. It's often asked whether we're likely to be acquired by a tobacco company. What's the best way to answer that? I don't know and I don't know the honestly that's not a wise answer. We don't think much about the liquidity event. We're always thinking about how to go out and. Best position in the company and there are lots of investors coming in and the TALS team is spearheading a lot of those and. We have a great job with others to educate people on the category and we have lots of interest. We're always looking at it. And when we do we have something definitive we'll share that that's not what trying to hide something that's. A lot of factors in that. I can never say never around what the long term direction of the company and ownership or not. I don't think there's any buddy right now trying to market the company to sell the company. But if people want to come in and have discussions and make offers as I tell people. You listen so I don't think I think the answer is companies very focused on getting regulatory clarity in the US. Very focused on continuing to grow our business to dole smokers very focused on international expansion. Very focused on scaling our product and technology capabilities and very focused on building the team overall. And that's what we're focused on all this other stuff. If we do like we've done we create a great business and we're fulfilling our mission. There will be options to pop up for financing or other things to come up on but. You know people get excited about the business based on who we are and the mission we have in the culture we built in the performance of the business. You do those great lots of options come up going forward. Another fundraising round I just think I talked about that you know we're not in the process of doing anything right now we really want to get into James is quite the moment it's probably going to take 60 to 90 days to get some clarity around any actions we take in the FDA takes. So I think that's the focus in terms of getting through the end of the year. Ramping up lobbying efforts. We are spending more money in terms of what I would call lobbying efforts. It's clear that we need to have our voice heard by people that are in decision making authority positions. I can tell you with 100% certainty going to DC is probably my least favorite thing associated with the company. But we also have to go do it. I've met now at 13 state AG's and lots of people in the Senate and Congress. They don't know the story all I know is the media tidbits they don't know the facts and if they're willing to sit down for half an hour or 45 minutes an hour. It is amazing in terms of kind of look on their face in terms when they hear the story and they see the facts. So it's a bit of a slot we hadn't done as a company company grew so fast we didn't have a need to do it frankly. But you know you've got 435 members in Congress and 100 senators and 51 AG's not counting some of the other quarter we go. Guam others I think there's 56 actually with 51 including DC that we need to go educate and spend time with and hear the story in this been highly effective so far but it's a bit of a slog. It's a lot of people to go cover and you know there are other people covering them like tobacco companies that I'm sure not saying the same nice things about us as we say about ourselves. So it's part of the effort we are ramping our team we've got a much bigger coms team we've gone from one to 10 I think we've now got over 25 and government affairs. And we're doing that so that people understand our mission and our informed because they're not informed and it's not a 30 second conversation takes a few minutes to go through the whole mission and the effectiveness and switching. Now you've got a technology platform you can migrate them on nicotine and we're finding that you know and by the way it's they don't all get it the first time to have to show the second third and fourth time to go convince them so we are spending more money on those efforts. Costco and Sam's club Sam's is before the end of the year. Costco I don't know Walmart I think is before the end of the year on their sea stores so we're going to roll out their sea stores first I think we just missed the window on their reset and the fall terms are doing that but they're very interested in going forward in the February March timeframe. A lot of external pressure working here everything all doesn't dress so far today are the resources for people to talk to me hard openly talk that one to sound like one of our credits. It's a good question. I have to take that back in terms of that in terms of who we talked to but it's a good question and listen I there's a lot of external pressure here and you know I'd say talk about it if there's things that we're not communicating internally raise them go through data we can raise them here we can raise them otherwise I like certainly more certainty about the regulatory environment we just don't have it. I think you know every time I go to Baltimore we go to other places where we're having an impact or I get notes like James says from people that have switched off of cigarettes and had an impact it offsets that a little bit but I understand it's hard and there's a lot of pressure and there's a lot of negative media associated with it so just voice what we can do to be helpful in terms of the story of the facts and we'll have to try to address it. Is there anything coming up that you are really excited for? Thanksgiving. I'll tell you I'm excited every day when I go into meetings you know we're talking I got off the phone this morning talking about the ramp plan and Germany and France and talking about Bob's up in Canada right now doing a tour and I'm Monday I went through the store and store review we're going to open up our first store or expand our store and store. It's great in the US. I think there's a lot to be excited I went through a technology. Robemap discussion in the last week that's exciting I think a lot of exciting stuff happened at the company. Julian kids is more important emotional how are we joined that emotional discussion in sponsor way. Frankly we're not joining in the emotional discussion. We're continuing to try to go out there at the facts. We have more data than anybody in the industry frankly have more data than some of the authorities like the FDI believe we're going out there with facts. Recognize the issue on youth uptake it is a legitimate issue that we don't want to have and we need to get ahead of and get that in a different direction if you believe the uptake issues from the CDC survey. We have to go address that we have to see progress on that and the reality is that we'll dampen all of our abilities to go impact this huge issue around the 38 million Americans and billion worldwide if we don't. So we've got to find a way to dampen that get that in the right direction. Help be a leader in solving that issue or improving that issue while not completely walking away from all the other constituents which frankly the smokeer constituency group is not one that has. It is well represented or has a big voice but is going through a lot of harm so we got to find that balance there. Well we ever produce a commercial 0% pod not in your term. There is logic for it if you believe it's a way for people to vape without getting nicotine. The problem is you've just opened up the on ramp potentially to an easy jump on and then the one becomes a three and becomes a five. So at this point we said that is a tricky balance where more focused on getting broader 3% out there will have a full set in Canada by March will have a full set of 1.5%. So we'll have a 5 3 1.5% in Canada. The first time we'll have a full spectrum of strengths out there but I don't think we want to enter into this 0% it's it's my my sense it's a bit of an easy need your reaction. So it's just make it 0% and they don't think the implications and when kids are then using it say well there's no nicotine and then all of a sudden they use in 5% pods and we've on ramped them very easily. It's getting really expensive to exercise shares as an old employee would go over a million on time. I would love to exercise them by can't afford to other plans to help with this process maybe some sort of split so no we're not considering a split I've been in one meeting we're talking about a split. I won't comment the fact if you have a million dollars of taxes it means you have a lot of non tax income as well. I get it so we're focused on continue to think about liquidity options going forward. You can imagine right now with some of the volatile the FDA is not a good time to be going out to the marketplace and doing a financial transaction. I think we can also do that. Yeah, I think the biggest point there is right if you've got a million dollars in taxes right think about the non tax portion of that. Exactly that was the point I was going to make is yeah whoever anonymous attendee is and maybe speaking for everyone who wanted to ask that question. Do your math on California there's not actually a huge tax differential if you get really excited about early exercise. To the math see how it works out it's not a gigantic differential I think the goal heater is ultimately to we owe this to you guys right especially those that have been here for a long time. We need to find ways for you to access liquidity when the time is right and we're trying to protect you as much as possible from getting how did by some really nasty people in the secondary community. I'm sure a lot of you have been approached by some. Come back. There's a lot of them out there. This is this whole industry in in San Francisco in particular and you know when you someone was telling me about one of them. I think their name was like. It was a really sleazy sounding name it was effectively like the opportunist or something like that right sounded that way to me at least. This stuff is nasty I mean look a lot of these folks that you reach out to you and tell you to have some way around transfer restrictions or whatever our total scumbags a lot of them are just looking for information that they can leak to the press or to others. Understand that you need to not tell them that information we will we will do our damn dust to make sure that you guys are protected and not taking advantage of by. There's a lot of these sleazy market places that are sort of out there and we want to get you guys the best price and the best return on the investment that you guys have made by being care every day. But do your math from the taxes. And to change his point listen to that you guys are holding up your end of the bark and having the company perform because that's the easiest way to go get any kind of refinance and done. And so right now with the FDA's public announcement and actions were taking and what the FDA's actions could take any kind of major macro instability which investors would get nervous about is not a good time to be going out into the financing market. So my view is there's a possibility that over the next 60 days we get some clarity about what the regulatory environment is going to be. We get back focused on our mission and and going back to work will have good launching points in you know up to 10 to 15 markets by the end of q1 next year and nationally. And I don't think long term investors are dissuaded by the immense opportunity we have and we'll enter back into those discussions we have lots of relationship with lots of investors that we've talked to over time. And if the time is right and we feel that the numbers are right we'll go back and have a discussion and we'll provide for liquidity you know the good thing is we got plenty of capital on the balance sheet right now so we're in a great position to continue to run the business not have to worry about any kind of downsides scenario from liquidity standpoint on a super position. But you know we're James said we're sensitive to this issue we got to wait till there's I take a little bit more clarity about the regulatory environment in the US and I think we'll be back on the marketplace talking investors at that point early next year. And no, I know there's like a trick question I think in there earlier right yeah. The question about you know how would executive team rate performance of dual you guys I saw this kind of floating around on LinkedIn there was an article about jewel being the fastest growing company ever. Well, I mean depends on how you measure it right atoms made this point at much times that's really only if you measure jewel as jewel or jewel since launch not including the very long time that existed before that what were you saying before it's like an overnight success 13 years in the making you know. There's a lot of truth in that so there's a lot of growing pains and such and a lot of these questions come from that right from the growing pains of being quite possibly the fastest growing company ever and I think you should all be super proud of that so cool. Oh, I think we're done.\n"
     ]
    }
   ],
   "source": [
    "# Load the model\n",
    "model = whisper.load_model(\"base\")\n",
    "result = model.transcribe(\"./audio_transcription.mp3\", fp16=False)\n",
    "\n",
    "# Print the transcription\n",
    "print(result[\"text\"])"
   ]
  },
  {
   "cell_type": "markdown",
   "metadata": {},
   "source": [
    "Format Timestamps\n",
    "\n",
    "Whisper returns timestamps in seconds, so we convert them to MM:SS format for better readability. We also format the transcription and store it in a structured list."
   ]
  },
  {
   "cell_type": "code",
   "execution_count": 16,
   "metadata": {},
   "outputs": [],
   "source": [
    "# add timestamps\n",
    "def format_time(seconds):\n",
    "    minutes, seconds = divmod(int(seconds), 60)\n",
    "    return f\"{minutes:02}:{seconds:02}\"\n",
    "\n",
    "# Print transcription with formatted timestamps\n",
    "transcription_lines = []\n",
    "for segment in result[\"segments\"]:\n",
    "    start_time = format_time(segment[\"start\"])\n",
    "    end_time = format_time(segment[\"end\"])\n",
    "    text = segment[\"text\"]\n",
    "    transcription_lines.append(f\"[{start_time} - {end_time}] {text}\")"
   ]
  },
  {
   "cell_type": "markdown",
   "metadata": {},
   "source": [
    "Write Transcription to a Text File\n",
    "\n",
    "Now, we write the transcription into a .txt file for easy access."
   ]
  },
  {
   "cell_type": "code",
   "execution_count": 19,
   "metadata": {},
   "outputs": [
    {
     "name": "stdout",
     "output_type": "stream",
     "text": [
      "Transcription saved to text file.\n"
     ]
    }
   ],
   "source": [
    "# Save the transcription to a text file\n",
    "with open(\"all_hands_transcription.txt\", \"w\", encoding=\"utf-8\") as f:\n",
    "    f.write(\"\\n\".join(transcription_lines))\n",
    "\n",
    "print(f\"Transcription saved to text file.\")"
   ]
  }
 ],
 "metadata": {
  "kernelspec": {
   "display_name": "Python 3",
   "language": "python",
   "name": "python3"
  },
  "language_info": {
   "codemirror_mode": {
    "name": "ipython",
    "version": 3
   },
   "file_extension": ".py",
   "mimetype": "text/x-python",
   "name": "python",
   "nbconvert_exporter": "python",
   "pygments_lexer": "ipython3",
   "version": "3.12.7"
  }
 },
 "nbformat": 4,
 "nbformat_minor": 2
}
