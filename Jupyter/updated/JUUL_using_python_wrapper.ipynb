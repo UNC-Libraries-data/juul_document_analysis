{
 "cells": [
  {
   "cell_type": "markdown",
   "metadata": {},
   "source": [
    "# Using the Industry Documents Library API Python Wrapper"
   ]
  },
  {
   "cell_type": "markdown",
   "metadata": {},
   "source": [
    "#### This tutorial will demonstrate the basic usage of the Python library wrapper for the UCSF Industry Documents Library API. You can visit the library's [GitHub Repository](https://github.com/UNC-Libraries/UCSF-Industry-Docs-API-Python-Wrapper). You can also click [here](https://www.industrydocuments.ucsf.edu/tobacco/research-tools/api/) to learn more about the Indsutry Document Library API."
   ]
  },
  {
   "cell_type": "code",
   "execution_count": 1,
   "metadata": {},
   "outputs": [],
   "source": [
    "# if you have downloaded the wrapper library, uncomment the following line to install it via pip\n",
    "#!pip install industryDocumentsWrapper"
   ]
  },
  {
   "cell_type": "markdown",
   "metadata": {},
   "source": [
    "#### We can start by importing the main class `IndustryDocsSearch` and assigning it to a variable"
   ]
  },
  {
   "cell_type": "code",
   "execution_count": 1,
   "metadata": {},
   "outputs": [],
   "source": [
    "from industryDocumentsWrapper import IndustryDocsSearch\n",
    "import polars as pl"
   ]
  },
  {
   "cell_type": "code",
   "execution_count": 2,
   "metadata": {},
   "outputs": [],
   "source": [
    "wrapper = IndustryDocsSearch()"
   ]
  },
  {
   "cell_type": "markdown",
   "metadata": {},
   "source": [
    "#### We construct a simple query for email documents from the JUUL Labs Collection specifically from the State of North Carolina. By default, the query will return the first 1000 documents. If you want more or less results, you can also pass in the argument `n` (i.e. `n=50000`)."
   ]
  },
  {
   "cell_type": "code",
   "execution_count": 3,
   "metadata": {},
   "outputs": [
    {
     "name": "stdout",
     "output_type": "stream",
     "text": [
      "100/1000 documents collected\n",
      "200/1000 documents collected\n",
      "300/1000 documents collected\n",
      "400/1000 documents collected\n",
      "500/1000 documents collected\n",
      "600/1000 documents collected\n",
      "700/1000 documents collected\n",
      "800/1000 documents collected\n",
      "900/1000 documents collected\n",
      "1000/1000 documents collected\n"
     ]
    }
   ],
   "source": [
    "# if you want to change the number of returned results, uncomment the following line and adjust 'n' to fit your needs\n",
    "# wrapper.query(q='(case:\"State of North Carolina\" AND collection:\"JUUL Labs Collection\" AND type:Email)', n=50000)\n",
    "wrapper.query(q='(case:\"State of North Carolina\" AND collection:\"JUUL Labs Collection\" AND type:Email)')"
   ]
  },
  {
   "cell_type": "code",
   "execution_count": 4,
   "metadata": {},
   "outputs": [
    {
     "data": {
      "text/plain": [
       "1000"
      ]
     },
     "execution_count": 4,
     "metadata": {},
     "output_type": "execute_result"
    }
   ],
   "source": [
    "len(wrapper.results)"
   ]
  },
  {
   "cell_type": "markdown",
   "metadata": {},
   "source": [
    "#### We can see the results:"
   ]
  },
  {
   "cell_type": "code",
   "execution_count": 4,
   "metadata": {},
   "outputs": [
    {
     "data": {
      "text/plain": [
       "{'id': 'ffbb0284',\n",
       " 'collection': ['JUUL Labs Collection'],\n",
       " 'collectioncode': ['juul'],\n",
       " 'custodian': ['Marand, Ashley'],\n",
       " 'availability': ['public', 'no restrictions'],\n",
       " 'source': '[{\"type\":\"plaintext\",\"title\":\"University Libraries, University of North Carolina at Chapel Hill\"}]',\n",
       " 'datesent': '2015 July 07',\n",
       " 'redactedby': ['UCSF'],\n",
       " 'datereceived': '2015 July 07',\n",
       " 'filename': 'Re: Changes to JUULvapor.com Events',\n",
       " 'filepath': ['\\\\Marand, Ashley\\\\Ashley_Marand_ashley@pax.com_25.pst\\\\Top of Personal Folders\\\\Inbox\\\\Re: Changes to JUULvapor.com Events'],\n",
       " 'case': ['State of North Carolina, ex rel. Joshua H. Stein, Attorney General,  v. JUUL Labs, Inc'],\n",
       " 'title': 'Re: Changes to JUULvapor.com Events',\n",
       " 'author': ['Lee Garvey <lee@pax.com>'],\n",
       " 'documentdate': '2015 July 07',\n",
       " 'type': ['email'],\n",
       " 'pages': 1,\n",
       " 'recipient': ['Ashley Marand <\"ashley marand <ashley@pax.com>\">'],\n",
       " 'brand': ['Juul'],\n",
       " 'bates': 'JLI00489744',\n",
       " 'redacted': 'yes',\n",
       " 'dateaddeducsf': '2024 January 25'}"
      ]
     },
     "execution_count": 4,
     "metadata": {},
     "output_type": "execute_result"
    }
   ],
   "source": [
    "wrapper.results[0]"
   ]
  },
  {
   "cell_type": "markdown",
   "metadata": {},
   "source": [
    "#### We can save the results as either JSON or parquest files formats. "
   ]
  },
  {
   "cell_type": "code",
   "execution_count": 5,
   "metadata": {},
   "outputs": [],
   "source": [
    "wrapper.save('test.parquet', format='parquet')"
   ]
  },
  {
   "cell_type": "markdown",
   "metadata": {},
   "source": [
    "#### Now, we may want to actually want analyze the content of the documents that we searched. You can either download the entire [zipped JUUL collection](https://ucsf.app.box.com/v/IDL-DataSets/file/1447029625798) and find the content based on the `id` column. In this case, we have created a parquet file with all the email documents from the North Carolina JUUL case for our convenience. See this [tutorial](https://unc-libraries-data.github.io/juul_document_analysis/html/JUUL_create_type_dataset.html) for how to create your own dataset."
   ]
  },
  {
   "cell_type": "code",
   "execution_count": 6,
   "metadata": {},
   "outputs": [],
   "source": [
    "# Step 1: Load in the results from the our query and the email data\n",
    "query_df = pl.read_parquet('test.parquet')\n",
    "df = pl.read_parquet('../../data/juul_unc_emails.parquet')"
   ]
  },
  {
   "cell_type": "code",
   "execution_count": 8,
   "metadata": {},
   "outputs": [
    {
     "name": "stdout",
     "output_type": "stream",
     "text": [
      "Original query_df shape: (1000, 25)\n",
      "Joined dataframe shape: (1000, 26)\n"
     ]
    },
    {
     "data": {
      "text/html": [
       "<div><style>\n",
       ".dataframe > thead > tr,\n",
       ".dataframe > tbody > tr {\n",
       "  text-align: right;\n",
       "  white-space: pre-wrap;\n",
       "}\n",
       "</style>\n",
       "<small>shape: (3, 26)</small><table border=\"1\" class=\"dataframe\"><thead><tr><th>id</th><th>collection</th><th>collectioncode</th><th>custodian</th><th>availability</th><th>source</th><th>datesent</th><th>redactedby</th><th>datereceived</th><th>filename</th><th>filepath</th><th>case</th><th>title</th><th>author</th><th>documentdate</th><th>type</th><th>pages</th><th>recipient</th><th>brand</th><th>bates</th><th>redacted</th><th>dateaddeducsf</th><th>topic</th><th>copied</th><th>attachment</th><th>ocr_text</th></tr><tr><td>str</td><td>list[str]</td><td>list[str]</td><td>list[str]</td><td>list[str]</td><td>str</td><td>str</td><td>list[str]</td><td>str</td><td>str</td><td>list[str]</td><td>list[str]</td><td>str</td><td>list[str]</td><td>str</td><td>list[str]</td><td>i64</td><td>list[str]</td><td>list[str]</td><td>str</td><td>str</td><td>str</td><td>str</td><td>list[str]</td><td>list[str]</td><td>str</td></tr></thead><tbody><tr><td>&quot;ffbb0284&quot;</td><td>[&quot;JUUL Labs Collection&quot;]</td><td>[&quot;juul&quot;]</td><td>[&quot;Marand, Ashley&quot;]</td><td>[&quot;public&quot;, &quot;no restrictions&quot;]</td><td>&quot;[{&quot;type&quot;:&quot;plaintext&quot;,&quot;title&quot;:&quot;…</td><td>&quot;2015 July 07&quot;</td><td>[&quot;UCSF&quot;]</td><td>&quot;2015 July 07&quot;</td><td>&quot;Re: Changes to JUULvapor.com E…</td><td>[&quot;\\Marand, Ashley\\Ashley_Marand_ashley@pax.com_25.pst\\Top of Personal Folders\\Inbox\\Re: Changes to JUULvapor.com Events&quot;]</td><td>[&quot;State of North Carolina, ex rel. Joshua H. Stein, Attorney General,&nbsp;&nbsp;v. JUUL Labs, Inc&quot;]</td><td>&quot;Re: Changes to JUULvapor.com E…</td><td>[&quot;Lee Garvey &lt;lee@pax.com&gt;&quot;]</td><td>&quot;2015 July 07&quot;</td><td>[&quot;email&quot;]</td><td>1</td><td>[&quot;Ashley Marand &lt;&quot;ashley marand &lt;ashley@pax.com&gt;&quot;&gt;&quot;]</td><td>[&quot;Juul&quot;]</td><td>&quot;JLI00489744&quot;</td><td>&quot;yes&quot;</td><td>&quot;2024 January 25&quot;</td><td>null</td><td>null</td><td>null</td><td>&quot;From:&nbsp;&nbsp;To:&nbsp;&nbsp;Sent:&nbsp;&nbsp;Subject:&nbsp;&nbsp;&nbsp;…</td></tr><tr><td>&quot;ffbb0285&quot;</td><td>[&quot;JUUL Labs Collection&quot;]</td><td>[&quot;juul&quot;]</td><td>[&quot;Goulart, Tania;Long-Rotstein, Kelly&quot;]</td><td>[&quot;public&quot;, &quot;no restrictions&quot;]</td><td>&quot;[{&quot;type&quot;:&quot;plaintext&quot;,&quot;title&quot;:&quot;…</td><td>&quot;2016 March 09&quot;</td><td>[&quot;UCSF&quot;]</td><td>&quot;2016 March 09&quot;</td><td>&quot;Re: [Update] B2B Portal - Soli…</td><td>[&quot;\\Long, Kelly\\Kelly Long\\Kelly_Long_kelly@pax.com_108.pst\\Top of Personal Folders\\Inbox\\Re: [Update] B2B Portal - Solidify Phase 1 Requirements&quot;, &quot;\\Goulart, Tania\\Tania_Goulart_tania@pax.com_17.pst\\Top of Personal Folders\\Inbox\\Re: [Update] B2B Portal - Solidify Phase 1 Requirements&quot;, &quot;\\Goulart, Tania\\Tania Goulart_Email\\Tania_Goulart_Email_tania@juul.com_34.pst\\Top of Personal Folders\\Inbox\\Re: [Update] B2B Portal - Solidify Phase 1 Requirements&quot;]</td><td>[&quot;State of North Carolina, ex rel. Joshua H. Stein, Attorney General,&nbsp;&nbsp;v. JUUL Labs, Inc&quot;]</td><td>&quot;Re: [Update] B2B Portal - Soli…</td><td>[&quot;Kelly Long &lt;kelly@pax.com&gt;&quot;]</td><td>&quot;2016 March 09&quot;</td><td>[&quot;email&quot;]</td><td>6</td><td>[&quot;Tania Goulart &lt;&quot;tania goulart &lt;tania@pax.com&gt;&quot;&gt;&quot;]</td><td>[&quot;Juul&quot;]</td><td>&quot;JLI03638986&quot;</td><td>&quot;yes&quot;</td><td>&quot;2024 January 25&quot;</td><td>&quot;Marketing&quot;</td><td>null</td><td>null</td><td>&quot;From:&nbsp;&nbsp;To:&nbsp;&nbsp;Sent:&nbsp;&nbsp;Subject:&nbsp;&nbsp;&nbsp;…</td></tr><tr><td>&quot;ffbb0287&quot;</td><td>[&quot;JUUL Labs Collection&quot;]</td><td>[&quot;juul&quot;]</td><td>[&quot;Berrier, Jon;Burbidge, Cole;Cruise, Daniel;David, Matthew;Davis, Victoria;Esquea, Jim;Foster, Heather;Gould, Ashley;Honig, Jake;Kwong, Ted;Sillin, Nat;Taylor, Jessica;Troy, Tevi;Winterton, Grant&quot;]</td><td>[&quot;public&quot;, &quot;no restrictions&quot;]</td><td>&quot;[{&quot;type&quot;:&quot;plaintext&quot;,&quot;title&quot;:&quot;…</td><td>&quot;2019 April 14&quot;</td><td>null</td><td>null</td><td>&quot;Event Tracker: 4/15/19&quot;</td><td>[&quot;\\Berrier, Jon\\Jon Berrier_Email_All through 4-1-2020\\Jon_Berrier_Email_All_through_4-1-2020--jon@juul.com_0 .mbox\\flag-alerts\\1630919068580615622-e1dfdbc1-2666-47fa-9c9e-213410ca6652.mbox.eml\\Event Tracker: 4/15/19&quot;, &quot;\\Burbidge, Cole\\Cole_Burbidge_Email_cburbidge@juul.com_0 .mbox\\flag-alerts\\1630919069155943942-5ab412c5-d9ab-4e4d-87af-a4825f80ec94.mbox.eml\\Event Tracker: 4/15/19&quot;, … &quot;\\Winterton, Grant\\Grant_Winterton_Email_4-28-2020--grant@juul.com_3 .mbox\\TRASH\\1630919067683967005-cd8516e1-a624-48aa-9f4e-bf7dd5d40223.mbox.eml\\Event Tracker: 4/15/19&quot;]</td><td>[&quot;State of North Carolina, ex rel. Joshua H. Stein, Attorney General,&nbsp;&nbsp;v. JUUL Labs, Inc&quot;]</td><td>&quot;Event Tracker: 4/15/19&quot;</td><td>[&quot;Flag Alerts &lt;alerts@fmaalerts.com&gt;&quot;]</td><td>&quot;2019 April 14&quot;</td><td>[&quot;email&quot;]</td><td>1</td><td>[&quot;juulalerts@flagmediaanalytics.com&quot;]</td><td>[&quot;Juul&quot;]</td><td>&quot;JLI05453876&quot;</td><td>null</td><td>&quot;2024 January 25&quot;</td><td>null</td><td>null</td><td>null</td><td>&quot;From:&nbsp;&nbsp;To:&nbsp;&nbsp;&nbsp;&nbsp;Sent:&nbsp;&nbsp;Subject: …</td></tr></tbody></table></div>"
      ],
      "text/plain": [
       "shape: (3, 26)\n",
       "┌──────────┬───────────┬───────────┬───────────┬───┬───────────┬───────────┬───────────┬───────────┐\n",
       "│ id       ┆ collectio ┆ collectio ┆ custodian ┆ … ┆ topic     ┆ copied    ┆ attachmen ┆ ocr_text  │\n",
       "│ ---      ┆ n         ┆ ncode     ┆ ---       ┆   ┆ ---       ┆ ---       ┆ t         ┆ ---       │\n",
       "│ str      ┆ ---       ┆ ---       ┆ list[str] ┆   ┆ str       ┆ list[str] ┆ ---       ┆ str       │\n",
       "│          ┆ list[str] ┆ list[str] ┆           ┆   ┆           ┆           ┆ list[str] ┆           │\n",
       "╞══════════╪═══════════╪═══════════╪═══════════╪═══╪═══════════╪═══════════╪═══════════╪═══════════╡\n",
       "│ ffbb0284 ┆ [\"JUUL    ┆ [\"juul\"]  ┆ [\"Marand, ┆ … ┆ null      ┆ null      ┆ null      ┆ From:     │\n",
       "│          ┆ Labs Coll ┆           ┆ Ashley\"]  ┆   ┆           ┆           ┆           ┆ To:       │\n",
       "│          ┆ ection\"]  ┆           ┆           ┆   ┆           ┆           ┆           ┆ Sent:     │\n",
       "│          ┆           ┆           ┆           ┆   ┆           ┆           ┆           ┆ Subject:  │\n",
       "│          ┆           ┆           ┆           ┆   ┆           ┆           ┆           ┆ …         │\n",
       "│ ffbb0285 ┆ [\"JUUL    ┆ [\"juul\"]  ┆ [\"Goulart ┆ … ┆ Marketing ┆ null      ┆ null      ┆ From:     │\n",
       "│          ┆ Labs Coll ┆           ┆ , Tania;L ┆   ┆           ┆           ┆           ┆ To:       │\n",
       "│          ┆ ection\"]  ┆           ┆ ong-Rotst ┆   ┆           ┆           ┆           ┆ Sent:     │\n",
       "│          ┆           ┆           ┆ ein…      ┆   ┆           ┆           ┆           ┆ Subject:  │\n",
       "│          ┆           ┆           ┆           ┆   ┆           ┆           ┆           ┆ …         │\n",
       "│ ffbb0287 ┆ [\"JUUL    ┆ [\"juul\"]  ┆ [\"Berrier ┆ … ┆ null      ┆ null      ┆ null      ┆ From:     │\n",
       "│          ┆ Labs Coll ┆           ┆ , Jon;Bur ┆   ┆           ┆           ┆           ┆ To:       │\n",
       "│          ┆ ection\"]  ┆           ┆ bidge,    ┆   ┆           ┆           ┆           ┆ Sent:     │\n",
       "│          ┆           ┆           ┆ Cole;…    ┆   ┆           ┆           ┆           ┆ Subject:  │\n",
       "│          ┆           ┆           ┆           ┆   ┆           ┆           ┆           ┆ …         │\n",
       "└──────────┴───────────┴───────────┴───────────┴───┴───────────┴───────────┴───────────┴───────────┘"
      ]
     },
     "execution_count": 8,
     "metadata": {},
     "output_type": "execute_result"
    }
   ],
   "source": [
    "# Step 2: Join the dataframes on the 'id' column to get the OCR content\n",
    "joined_df = query_df.join(df.select(['id', 'ocr_text']), on='id', how='left')\n",
    "\n",
    "# Step 3: Let's make sure our join worked correclty\n",
    "print(f\"Original query_df shape: {query_df.shape}\")\n",
    "print(f\"Joined dataframe shape: {joined_df.shape}\")\n",
    "joined_df.head(3)"
   ]
  },
  {
   "cell_type": "code",
   "execution_count": 9,
   "metadata": {},
   "outputs": [],
   "source": [
    "# Step 4: Save the joined dataframe to a new parquet file\n",
    "joined_df.write_parquet('juul_query_with_ocr.parquet')"
   ]
  },
  {
   "cell_type": "markdown",
   "metadata": {},
   "source": [
    "#### That's it! Now you are able to construct your own queries in the Industry Documents Library. For more information about using this Python package, visit the [GitHub repository](https://github.com/UNC-Libraries/UCSF-Industry-Docs-API-Python-Wrapper)."
   ]
  }
 ],
 "metadata": {
  "kernelspec": {
   "display_name": "base",
   "language": "python",
   "name": "python3"
  },
  "language_info": {
   "codemirror_mode": {
    "name": "ipython",
    "version": 3
   },
   "file_extension": ".py",
   "mimetype": "text/x-python",
   "name": "python",
   "nbconvert_exporter": "python",
   "pygments_lexer": "ipython3",
   "version": "3.12.7"
  }
 },
 "nbformat": 4,
 "nbformat_minor": 2
}
