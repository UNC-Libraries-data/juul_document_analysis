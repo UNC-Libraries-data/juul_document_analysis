{
 "cells": [
  {
   "cell_type": "markdown",
   "metadata": {},
   "source": [
    "# Stitch Slack Messages\n",
    "\n",
    "This notebook demonstrates how to use the `IndustryDocsSearch` wrapper to query documents, process OCR content from a zip file, filter messages, and stitch conversations into a formatted text file.\n",
    "\n",
    "<img src = \"assets/slack_message_screenshot.png\" width = 900>"
   ]
  },
  {
   "cell_type": "code",
   "execution_count": 1,
   "metadata": {},
   "outputs": [],
   "source": [
    "import os\n",
    "import requests\n",
    "import polars as pl\n",
    "from industryDocumentsWrapper import IndustryDocsSearch"
   ]
  },
  {
   "cell_type": "markdown",
   "metadata": {},
   "source": [
    "## Query Metadata Using IndustryDocsSearch\n",
    "\n",
    "We're going to query the database using the Python wrapper for the UCSF Industry Documents API. The result of the query will provide the metadata, including document IDs, required to pull OCR text from the downloaded zip file."
   ]
  },
  {
   "cell_type": "code",
   "execution_count": 2,
   "metadata": {},
   "outputs": [
    {
     "name": "stdout",
     "output_type": "stream",
     "text": [
      "10/10 documents collected\n"
     ]
    }
   ],
   "source": [
    "wrapper = IndustryDocsSearch()\n",
    "wrapper.query(q=\"type:'unknown' AND box:'GLPVD9GQP'\", n=-1)\n",
    "wrapper.save('messages_results.json', format='json')"
   ]
  },
  {
   "cell_type": "code",
   "execution_count": 3,
   "metadata": {},
   "outputs": [
    {
     "data": {
      "text/plain": [
       "10"
      ]
     },
     "execution_count": 3,
     "metadata": {},
     "output_type": "execute_result"
    }
   ],
   "source": [
    "len(wrapper.results)"
   ]
  },
  {
   "cell_type": "code",
   "execution_count": 4,
   "metadata": {},
   "outputs": [],
   "source": [
    "df = pl.read_json('messages_results.json')"
   ]
  },
  {
   "cell_type": "code",
   "execution_count": 5,
   "metadata": {},
   "outputs": [
    {
     "name": "stdout",
     "output_type": "stream",
     "text": [
      "{'GLPVD9GQP'}\n"
     ]
    }
   ],
   "source": [
    "print(set(df[\"box\"]))"
   ]
  },
  {
   "cell_type": "code",
   "execution_count": 6,
   "metadata": {},
   "outputs": [
    {
     "data": {
      "text/html": [
       "<div><style>\n",
       ".dataframe > thead > tr,\n",
       ".dataframe > tbody > tr {\n",
       "  text-align: right;\n",
       "  white-space: pre-wrap;\n",
       "}\n",
       "</style>\n",
       "<small>shape: (5, 16)</small><table border=\"1\" class=\"dataframe\"><thead><tr><th>id</th><th>collection</th><th>collectioncode</th><th>box</th><th>availability</th><th>source</th><th>filepath</th><th>case</th><th>author</th><th>documentdate</th><th>type</th><th>pages</th><th>recipient</th><th>brand</th><th>bates</th><th>dateaddeducsf</th></tr><tr><td>str</td><td>list[str]</td><td>list[str]</td><td>str</td><td>list[str]</td><td>str</td><td>list[str]</td><td>list[str]</td><td>list[str]</td><td>str</td><td>list[str]</td><td>i64</td><td>list[str]</td><td>list[str]</td><td>str</td><td>str</td></tr></thead><tbody><tr><td>&quot;kqkk0323&quot;</td><td>[&quot;JUUL Labs Collection&quot;]</td><td>[&quot;juul&quot;]</td><td>&quot;GLPVD9GQP&quot;</td><td>[&quot;public&quot;, &quot;no restrictions&quot;]</td><td>&quot;[{&quot;type&quot;:&quot;plaintext&quot;,&quot;title&quot;:&quot;…</td><td>[&quot;Multiparty Messages\\GLPVD9GQP&quot;]</td><td>[&quot;State of North Carolina, ex rel. Joshua H. Stein, Attorney General,&nbsp;&nbsp;v. JUUL Labs, Inc&quot;]</td><td>[&quot;Deborah Tham&quot;]</td><td>&quot;2019 July 22&quot;</td><td>[&quot;unknown&quot;]</td><td>1</td><td>[&quot;Amy Ding&quot;, &quot;Deborah Tham&quot;, … &quot;Sarah Ellinger&quot;]</td><td>[&quot;Juul&quot;]</td><td>&quot;JLI50301949&quot;</td><td>&quot;2024 September 26&quot;</td></tr><tr><td>&quot;lqkk0323&quot;</td><td>[&quot;JUUL Labs Collection&quot;]</td><td>[&quot;juul&quot;]</td><td>&quot;GLPVD9GQP&quot;</td><td>[&quot;public&quot;, &quot;no restrictions&quot;]</td><td>&quot;[{&quot;type&quot;:&quot;plaintext&quot;,&quot;title&quot;:&quot;…</td><td>[&quot;Multiparty Messages\\GLPVD9GQP&quot;]</td><td>[&quot;State of North Carolina, ex rel. Joshua H. Stein, Attorney General,&nbsp;&nbsp;v. JUUL Labs, Inc&quot;]</td><td>[&quot;Deborah Tham&quot;]</td><td>&quot;2019 July 22&quot;</td><td>[&quot;unknown&quot;]</td><td>1</td><td>[&quot;Amy Ding&quot;, &quot;Deborah Tham&quot;, … &quot;Sarah Ellinger&quot;]</td><td>[&quot;Juul&quot;]</td><td>&quot;JLI50301950&quot;</td><td>&quot;2024 September 26&quot;</td></tr><tr><td>&quot;mqkk0323&quot;</td><td>[&quot;JUUL Labs Collection&quot;]</td><td>[&quot;juul&quot;]</td><td>&quot;GLPVD9GQP&quot;</td><td>[&quot;public&quot;, &quot;no restrictions&quot;]</td><td>&quot;[{&quot;type&quot;:&quot;plaintext&quot;,&quot;title&quot;:&quot;…</td><td>[&quot;Multiparty Messages\\GLPVD9GQP&quot;]</td><td>[&quot;State of North Carolina, ex rel. Joshua H. Stein, Attorney General,&nbsp;&nbsp;v. JUUL Labs, Inc&quot;]</td><td>[&quot;Deborah Tham&quot;]</td><td>&quot;2019 July 22&quot;</td><td>[&quot;unknown&quot;]</td><td>1</td><td>[&quot;Amy Ding&quot;, &quot;Deborah Tham&quot;, … &quot;Sarah Ellinger&quot;]</td><td>[&quot;Juul&quot;]</td><td>&quot;JLI50301951&quot;</td><td>&quot;2024 September 26&quot;</td></tr><tr><td>&quot;pqkk0323&quot;</td><td>[&quot;JUUL Labs Collection&quot;]</td><td>[&quot;juul&quot;]</td><td>&quot;GLPVD9GQP&quot;</td><td>[&quot;public&quot;, &quot;no restrictions&quot;]</td><td>&quot;[{&quot;type&quot;:&quot;plaintext&quot;,&quot;title&quot;:&quot;…</td><td>[&quot;Multiparty Messages\\GLPVD9GQP&quot;]</td><td>[&quot;State of North Carolina, ex rel. Joshua H. Stein, Attorney General,&nbsp;&nbsp;v. JUUL Labs, Inc&quot;]</td><td>[&quot;Amy Ding&quot;]</td><td>&quot;2019 July 22&quot;</td><td>[&quot;unknown&quot;]</td><td>1</td><td>[&quot;Amy Ding&quot;, &quot;Deborah Tham&quot;, … &quot;Sarah Ellinger&quot;]</td><td>[&quot;Juul&quot;]</td><td>&quot;JLI50301954&quot;</td><td>&quot;2024 September 26&quot;</td></tr><tr><td>&quot;qqkk0323&quot;</td><td>[&quot;JUUL Labs Collection&quot;]</td><td>[&quot;juul&quot;]</td><td>&quot;GLPVD9GQP&quot;</td><td>[&quot;public&quot;, &quot;no restrictions&quot;]</td><td>&quot;[{&quot;type&quot;:&quot;plaintext&quot;,&quot;title&quot;:&quot;…</td><td>[&quot;Multiparty Messages\\GLPVD9GQP&quot;]</td><td>[&quot;State of North Carolina, ex rel. Joshua H. Stein, Attorney General,&nbsp;&nbsp;v. JUUL Labs, Inc&quot;]</td><td>[&quot;Deborah Tham&quot;]</td><td>&quot;2019 July 22&quot;</td><td>[&quot;unknown&quot;]</td><td>1</td><td>[&quot;Amy Ding&quot;, &quot;Deborah Tham&quot;, … &quot;Sarah Ellinger&quot;]</td><td>[&quot;Juul&quot;]</td><td>&quot;JLI50301955&quot;</td><td>&quot;2024 September 26&quot;</td></tr></tbody></table></div>"
      ],
      "text/plain": [
       "shape: (5, 16)\n",
       "┌──────────┬───────────┬───────────┬───────────┬───┬───────────┬───────────┬───────────┬───────────┐\n",
       "│ id       ┆ collectio ┆ collectio ┆ box       ┆ … ┆ recipient ┆ brand     ┆ bates     ┆ dateadded │\n",
       "│ ---      ┆ n         ┆ ncode     ┆ ---       ┆   ┆ ---       ┆ ---       ┆ ---       ┆ ucsf      │\n",
       "│ str      ┆ ---       ┆ ---       ┆ str       ┆   ┆ list[str] ┆ list[str] ┆ str       ┆ ---       │\n",
       "│          ┆ list[str] ┆ list[str] ┆           ┆   ┆           ┆           ┆           ┆ str       │\n",
       "╞══════════╪═══════════╪═══════════╪═══════════╪═══╪═══════════╪═══════════╪═══════════╪═══════════╡\n",
       "│ kqkk0323 ┆ [\"JUUL    ┆ [\"juul\"]  ┆ GLPVD9GQP ┆ … ┆ [\"Amy     ┆ [\"Juul\"]  ┆ JLI503019 ┆ 2024      │\n",
       "│          ┆ Labs Coll ┆           ┆           ┆   ┆ Ding\",    ┆           ┆ 49        ┆ September │\n",
       "│          ┆ ection\"]  ┆           ┆           ┆   ┆ \"Deborah  ┆           ┆           ┆ 26        │\n",
       "│          ┆           ┆           ┆           ┆   ┆ Tham\", …… ┆           ┆           ┆           │\n",
       "│ lqkk0323 ┆ [\"JUUL    ┆ [\"juul\"]  ┆ GLPVD9GQP ┆ … ┆ [\"Amy     ┆ [\"Juul\"]  ┆ JLI503019 ┆ 2024      │\n",
       "│          ┆ Labs Coll ┆           ┆           ┆   ┆ Ding\",    ┆           ┆ 50        ┆ September │\n",
       "│          ┆ ection\"]  ┆           ┆           ┆   ┆ \"Deborah  ┆           ┆           ┆ 26        │\n",
       "│          ┆           ┆           ┆           ┆   ┆ Tham\", …… ┆           ┆           ┆           │\n",
       "│ mqkk0323 ┆ [\"JUUL    ┆ [\"juul\"]  ┆ GLPVD9GQP ┆ … ┆ [\"Amy     ┆ [\"Juul\"]  ┆ JLI503019 ┆ 2024      │\n",
       "│          ┆ Labs Coll ┆           ┆           ┆   ┆ Ding\",    ┆           ┆ 51        ┆ September │\n",
       "│          ┆ ection\"]  ┆           ┆           ┆   ┆ \"Deborah  ┆           ┆           ┆ 26        │\n",
       "│          ┆           ┆           ┆           ┆   ┆ Tham\", …… ┆           ┆           ┆           │\n",
       "│ pqkk0323 ┆ [\"JUUL    ┆ [\"juul\"]  ┆ GLPVD9GQP ┆ … ┆ [\"Amy     ┆ [\"Juul\"]  ┆ JLI503019 ┆ 2024      │\n",
       "│          ┆ Labs Coll ┆           ┆           ┆   ┆ Ding\",    ┆           ┆ 54        ┆ September │\n",
       "│          ┆ ection\"]  ┆           ┆           ┆   ┆ \"Deborah  ┆           ┆           ┆ 26        │\n",
       "│          ┆           ┆           ┆           ┆   ┆ Tham\", …… ┆           ┆           ┆           │\n",
       "│ qqkk0323 ┆ [\"JUUL    ┆ [\"juul\"]  ┆ GLPVD9GQP ┆ … ┆ [\"Amy     ┆ [\"Juul\"]  ┆ JLI503019 ┆ 2024      │\n",
       "│          ┆ Labs Coll ┆           ┆           ┆   ┆ Ding\",    ┆           ┆ 55        ┆ September │\n",
       "│          ┆ ection\"]  ┆           ┆           ┆   ┆ \"Deborah  ┆           ┆           ┆ 26        │\n",
       "│          ┆           ┆           ┆           ┆   ┆ Tham\", …… ┆           ┆           ┆           │\n",
       "└──────────┴───────────┴───────────┴───────────┴───┴───────────┴───────────┴───────────┴───────────┘"
      ]
     },
     "execution_count": 6,
     "metadata": {},
     "output_type": "execute_result"
    }
   ],
   "source": [
    "df.head()"
   ]
  },
  {
   "cell_type": "markdown",
   "metadata": {},
   "source": [
    "## Get OCR Content from the 'Unknown' item type dataset\n",
    "Now, we will extract the OCR content for the queried documents using the IDs retrieved in the previous step."
   ]
  },
  {
   "cell_type": "code",
   "execution_count": 11,
   "metadata": {},
   "outputs": [],
   "source": [
    "messages_df = pl.read_json('messages_results.json')\n",
    "docs_df = pl.read_parquet('../../data/juul_unc_unknown.parquet')"
   ]
  },
  {
   "cell_type": "code",
   "execution_count": 12,
   "metadata": {},
   "outputs": [],
   "source": [
    "filtered_messages = docs_df.filter(pl.col(\"id\").is_in(messages_df[\"id\"]))"
   ]
  },
  {
   "cell_type": "markdown",
   "metadata": {},
   "source": [
    "Let's double check that all the messages belong to the same 'GLPVD9GQP' box for good measure."
   ]
  },
  {
   "cell_type": "code",
   "execution_count": 13,
   "metadata": {},
   "outputs": [
    {
     "data": {
      "text/html": [
       "<div><style>\n",
       ".dataframe > thead > tr,\n",
       ".dataframe > tbody > tr {\n",
       "  text-align: right;\n",
       "  white-space: pre-wrap;\n",
       "}\n",
       "</style>\n",
       "<small>shape: (1,)</small><table border=\"1\" class=\"dataframe\"><thead><tr><th>box</th></tr><tr><td>str</td></tr></thead><tbody><tr><td>&quot;GLPVD9GQP&quot;</td></tr></tbody></table></div>"
      ],
      "text/plain": [
       "shape: (1,)\n",
       "Series: 'box' [str]\n",
       "[\n",
       "\t\"GLPVD9GQP\"\n",
       "]"
      ]
     },
     "execution_count": 13,
     "metadata": {},
     "output_type": "execute_result"
    }
   ],
   "source": [
    "filtered_messages['box'].unique()"
   ]
  },
  {
   "cell_type": "markdown",
   "metadata": {},
   "source": [
    "## Sort and Filter the Extracted Data\n",
    "We will now sort the documents by their bates value and filter for the ones in the \"Direct Messages\" file path."
   ]
  },
  {
   "cell_type": "code",
   "execution_count": 19,
   "metadata": {},
   "outputs": [],
   "source": [
    "# order messages by bates\n",
    "sorted_messages = filtered_messages.sort('bates')"
   ]
  },
  {
   "cell_type": "code",
   "execution_count": 20,
   "metadata": {},
   "outputs": [
    {
     "data": {
      "text/html": [
       "<div><style>\n",
       ".dataframe > thead > tr,\n",
       ".dataframe > tbody > tr {\n",
       "  text-align: right;\n",
       "  white-space: pre-wrap;\n",
       "}\n",
       "</style>\n",
       "<small>shape: (3, 71)</small><table border=\"1\" class=\"dataframe\"><thead><tr><th>id</th><th>tid</th><th>bates</th><th>type</th><th>description</th><th>title</th><th>author</th><th>mentioned</th><th>attending</th><th>copied</th><th>recipient</th><th>redacted</th><th>collection_name</th><th>pages</th><th>exhibit_number</th><th>document_date</th><th>date_added_ucsf</th><th>date_modified_ucsf</th><th>date_added_industry</th><th>date_modified_industry</th><th>date_produced</th><th>date_shipped</th><th>deposition_date</th><th>date_privilege_logged</th><th>case</th><th>industry</th><th>drug</th><th>adverse_ruling</th><th>area</th><th>bates_alternate</th><th>box</th><th>brand</th><th>country</th><th>language</th><th>court</th><th>format</th><th>express_waiver</th><th>file</th><th>genre</th><th>keywords</th><th>bates_master</th><th>other_number</th><th>request_number</th><th>minnesota_request_number</th><th>privilege_code</th><th>topic</th><th>witness</th><th>cited</th><th>availability</th><th>grant_number</th><th>source</th><th>folder</th><th>series</th><th>chemical</th><th>food</th><th>rights</th><th>attachment</th><th>attachmentnum</th><th>conversation</th><th>conversationid</th><th>custodian</th><th>datereceived</th><th>datesent</th><th>filename</th><th>filepath</th><th>messageid</th><th>subject</th><th>timereceived</th><th>timesent</th><th>redaction</th><th>ocr_text</th></tr><tr><td>str</td><td>str</td><td>str</td><td>str</td><td>str</td><td>str</td><td>str</td><td>str</td><td>str</td><td>str</td><td>str</td><td>str</td><td>str</td><td>str</td><td>str</td><td>str</td><td>str</td><td>str</td><td>str</td><td>str</td><td>str</td><td>str</td><td>str</td><td>str</td><td>str</td><td>str</td><td>str</td><td>str</td><td>str</td><td>str</td><td>str</td><td>str</td><td>str</td><td>str</td><td>str</td><td>str</td><td>str</td><td>str</td><td>str</td><td>str</td><td>str</td><td>str</td><td>str</td><td>str</td><td>str</td><td>str</td><td>str</td><td>str</td><td>str</td><td>str</td><td>str</td><td>str</td><td>str</td><td>str</td><td>str</td><td>str</td><td>str</td><td>str</td><td>str</td><td>str</td><td>str</td><td>str</td><td>str</td><td>str</td><td>str</td><td>str</td><td>str</td><td>str</td><td>str</td><td>str</td><td>str</td></tr></thead><tbody><tr><td>&quot;kqkk0323&quot;</td><td>&quot; &quot;</td><td>&quot;JLI50301949&quot;</td><td>&quot;unknown&quot;</td><td>&quot; &quot;</td><td>&quot; &quot;</td><td>&quot;Deborah Tham&quot;</td><td>&quot; &quot;</td><td>&quot; &quot;</td><td>&quot; &quot;</td><td>&quot;Amy Ding, Deborah Tham, Eadon …</td><td>&quot; &quot;</td><td>&quot;JUUL Labs Collection&quot;</td><td>&quot;1&quot;</td><td>&quot; &quot;</td><td>&quot;Sun Jul 21 17:00:00 PDT 2019&quot;</td><td>&quot;Wed Sep 25 17:00:00 PDT 2024&quot;</td><td>&quot;Wed Sep 25 17:00:00 PDT 2024&quot;</td><td>&quot; &quot;</td><td>&quot; &quot;</td><td>&quot; &quot;</td><td>&quot; &quot;</td><td>&quot; &quot;</td><td>&quot; &quot;</td><td>&quot;State of North Carolina, ex re…</td><td>&quot;Tobacco&quot;</td><td>&quot; &quot;</td><td>&quot; &quot;</td><td>&quot; &quot;</td><td>&quot; &quot;</td><td>&quot;GLPVD9GQP&quot;</td><td>&quot;Juul&quot;</td><td>&quot; &quot;</td><td>&quot; &quot;</td><td>&quot; &quot;</td><td>&quot; &quot;</td><td>&quot; &quot;</td><td>&quot; &quot;</td><td>&quot; &quot;</td><td>&quot; &quot;</td><td>&quot; &quot;</td><td>&quot; &quot;</td><td>&quot; &quot;</td><td>&quot; &quot;</td><td>&quot; &quot;</td><td>&quot; &quot;</td><td>&quot; &quot;</td><td>&quot; &quot;</td><td>&quot;public, no restrictions&quot;</td><td>&quot; &quot;</td><td>&quot;{&quot;type&quot;:&quot;plaintext&quot;,&quot;title&quot;:&quot;U…</td><td>&quot; &quot;</td><td>&quot; &quot;</td><td>&quot; &quot;</td><td>&quot; &quot;</td><td>&quot; &quot;</td><td>&quot; &quot;</td><td>&quot; &quot;</td><td>&quot; &quot;</td><td>&quot; &quot;</td><td>&quot; &quot;</td><td>&quot; &quot;</td><td>&quot; &quot;</td><td>&quot; &quot;</td><td>&quot;Multiparty Messages\\GLPVD9GQP&quot;</td><td>&quot; &quot;</td><td>&quot; &quot;</td><td>&quot; &quot;</td><td>&quot; &quot;</td><td>&quot; &quot;</td><td>&quot;yep - thanks - for the third q…</td></tr><tr><td>&quot;lqkk0323&quot;</td><td>&quot; &quot;</td><td>&quot;JLI50301950&quot;</td><td>&quot;unknown&quot;</td><td>&quot; &quot;</td><td>&quot; &quot;</td><td>&quot;Deborah Tham&quot;</td><td>&quot; &quot;</td><td>&quot; &quot;</td><td>&quot; &quot;</td><td>&quot;Amy Ding, Deborah Tham, Eadon …</td><td>&quot; &quot;</td><td>&quot;JUUL Labs Collection&quot;</td><td>&quot;1&quot;</td><td>&quot; &quot;</td><td>&quot;Sun Jul 21 17:00:00 PDT 2019&quot;</td><td>&quot;Wed Sep 25 17:00:00 PDT 2024&quot;</td><td>&quot;Wed Sep 25 17:00:00 PDT 2024&quot;</td><td>&quot; &quot;</td><td>&quot; &quot;</td><td>&quot; &quot;</td><td>&quot; &quot;</td><td>&quot; &quot;</td><td>&quot; &quot;</td><td>&quot;State of North Carolina, ex re…</td><td>&quot;Tobacco&quot;</td><td>&quot; &quot;</td><td>&quot; &quot;</td><td>&quot; &quot;</td><td>&quot; &quot;</td><td>&quot;GLPVD9GQP&quot;</td><td>&quot;Juul&quot;</td><td>&quot; &quot;</td><td>&quot; &quot;</td><td>&quot; &quot;</td><td>&quot; &quot;</td><td>&quot; &quot;</td><td>&quot; &quot;</td><td>&quot; &quot;</td><td>&quot; &quot;</td><td>&quot; &quot;</td><td>&quot; &quot;</td><td>&quot; &quot;</td><td>&quot; &quot;</td><td>&quot; &quot;</td><td>&quot; &quot;</td><td>&quot; &quot;</td><td>&quot; &quot;</td><td>&quot;public, no restrictions&quot;</td><td>&quot; &quot;</td><td>&quot;{&quot;type&quot;:&quot;plaintext&quot;,&quot;title&quot;:&quot;U…</td><td>&quot; &quot;</td><td>&quot; &quot;</td><td>&quot; &quot;</td><td>&quot; &quot;</td><td>&quot; &quot;</td><td>&quot; &quot;</td><td>&quot; &quot;</td><td>&quot; &quot;</td><td>&quot; &quot;</td><td>&quot; &quot;</td><td>&quot; &quot;</td><td>&quot; &quot;</td><td>&quot; &quot;</td><td>&quot;Multiparty Messages\\GLPVD9GQP&quot;</td><td>&quot; &quot;</td><td>&quot; &quot;</td><td>&quot; &quot;</td><td>&quot; &quot;</td><td>&quot; &quot;</td><td>&quot;If we are deemed &quot;automated pr…</td></tr><tr><td>&quot;mqkk0323&quot;</td><td>&quot; &quot;</td><td>&quot;JLI50301951&quot;</td><td>&quot;unknown&quot;</td><td>&quot; &quot;</td><td>&quot; &quot;</td><td>&quot;Deborah Tham&quot;</td><td>&quot; &quot;</td><td>&quot; &quot;</td><td>&quot; &quot;</td><td>&quot;Amy Ding, Deborah Tham, Eadon …</td><td>&quot; &quot;</td><td>&quot;JUUL Labs Collection&quot;</td><td>&quot;1&quot;</td><td>&quot; &quot;</td><td>&quot;Sun Jul 21 17:00:00 PDT 2019&quot;</td><td>&quot;Wed Sep 25 17:00:00 PDT 2024&quot;</td><td>&quot;Wed Sep 25 17:00:00 PDT 2024&quot;</td><td>&quot; &quot;</td><td>&quot; &quot;</td><td>&quot; &quot;</td><td>&quot; &quot;</td><td>&quot; &quot;</td><td>&quot; &quot;</td><td>&quot;State of North Carolina, ex re…</td><td>&quot;Tobacco&quot;</td><td>&quot; &quot;</td><td>&quot; &quot;</td><td>&quot; &quot;</td><td>&quot; &quot;</td><td>&quot;GLPVD9GQP&quot;</td><td>&quot;Juul&quot;</td><td>&quot; &quot;</td><td>&quot; &quot;</td><td>&quot; &quot;</td><td>&quot; &quot;</td><td>&quot; &quot;</td><td>&quot; &quot;</td><td>&quot; &quot;</td><td>&quot; &quot;</td><td>&quot; &quot;</td><td>&quot; &quot;</td><td>&quot; &quot;</td><td>&quot; &quot;</td><td>&quot; &quot;</td><td>&quot; &quot;</td><td>&quot; &quot;</td><td>&quot; &quot;</td><td>&quot;public, no restrictions&quot;</td><td>&quot; &quot;</td><td>&quot;{&quot;type&quot;:&quot;plaintext&quot;,&quot;title&quot;:&quot;U…</td><td>&quot; &quot;</td><td>&quot; &quot;</td><td>&quot; &quot;</td><td>&quot; &quot;</td><td>&quot; &quot;</td><td>&quot; &quot;</td><td>&quot; &quot;</td><td>&quot; &quot;</td><td>&quot; &quot;</td><td>&quot; &quot;</td><td>&quot; &quot;</td><td>&quot; &quot;</td><td>&quot; &quot;</td><td>&quot;Multiparty Messages\\GLPVD9GQP&quot;</td><td>&quot; &quot;</td><td>&quot; &quot;</td><td>&quot; &quot;</td><td>&quot; &quot;</td><td>&quot; &quot;</td><td>&quot;my question is age verificatio…</td></tr></tbody></table></div>"
      ],
      "text/plain": [
       "shape: (3, 71)\n",
       "┌──────────┬─────┬─────────────┬─────────┬───┬──────────────┬──────────┬───────────┬───────────────┐\n",
       "│ id       ┆ tid ┆ bates       ┆ type    ┆ … ┆ timereceived ┆ timesent ┆ redaction ┆ ocr_text      │\n",
       "│ ---      ┆ --- ┆ ---         ┆ ---     ┆   ┆ ---          ┆ ---      ┆ ---       ┆ ---           │\n",
       "│ str      ┆ str ┆ str         ┆ str     ┆   ┆ str          ┆ str      ┆ str       ┆ str           │\n",
       "╞══════════╪═════╪═════════════╪═════════╪═══╪══════════════╪══════════╪═══════════╪═══════════════╡\n",
       "│ kqkk0323 ┆     ┆ JLI50301949 ┆ unknown ┆ … ┆              ┆          ┆           ┆ yep - thanks  │\n",
       "│          ┆     ┆             ┆         ┆   ┆              ┆          ┆           ┆ - for the     │\n",
       "│          ┆     ┆             ┆         ┆   ┆              ┆          ┆           ┆ third q…      │\n",
       "│ lqkk0323 ┆     ┆ JLI50301950 ┆ unknown ┆ … ┆              ┆          ┆           ┆ If we are     │\n",
       "│          ┆     ┆             ┆         ┆   ┆              ┆          ┆           ┆ deemed        │\n",
       "│          ┆     ┆             ┆         ┆   ┆              ┆          ┆           ┆ \"automated    │\n",
       "│          ┆     ┆             ┆         ┆   ┆              ┆          ┆           ┆ pr…           │\n",
       "│ mqkk0323 ┆     ┆ JLI50301951 ┆ unknown ┆ … ┆              ┆          ┆           ┆ my question   │\n",
       "│          ┆     ┆             ┆         ┆   ┆              ┆          ┆           ┆ is age        │\n",
       "│          ┆     ┆             ┆         ┆   ┆              ┆          ┆           ┆ verificatio…  │\n",
       "└──────────┴─────┴─────────────┴─────────┴───┴──────────────┴──────────┴───────────┴───────────────┘"
      ]
     },
     "execution_count": 20,
     "metadata": {},
     "output_type": "execute_result"
    }
   ],
   "source": [
    "sorted_messages.head(3)"
   ]
  },
  {
   "cell_type": "markdown",
   "metadata": {},
   "source": [
    "## Stitch Conversations\n",
    "Here, we will format the extracted messages into a conversational format. We will also clean the content to remove confidential information and unnecessary metadata."
   ]
  },
  {
   "cell_type": "code",
   "execution_count": 29,
   "metadata": {},
   "outputs": [],
   "source": [
    "# Stitches the conversation within box: DAWLDENGP\n",
    "import re\n",
    "\n",
    "def stitch_conversation(df: pl.DataFrame):\n",
    "    \n",
    "    conversation = []\n",
    "    for row in df.iter_rows(named=True):\n",
    "        date = row.get('document_date')\n",
    "        author = row.get('author')\n",
    "        content = row.get('ocr_text')\n",
    "        \n",
    "        # clean the content to remove CONFIDENTIAL and extra numbers so it just shows the slack message\n",
    "        cleaned_content = re.sub(r\"(HIGHLY)? CONFIDENTIAL\\s+NC-JLI-Consent Judgment\\s+JLI?\\d+\", \"\", content).strip()\n",
    "\n",
    "        # format as Date - Author - Content\n",
    "        conversation.append(f\"{date} -- {author} -- {cleaned_content}\\n\")\n",
    "\n",
    "    return \"\\n\".join(conversation)\n"
   ]
  },
  {
   "cell_type": "code",
   "execution_count": 30,
   "metadata": {},
   "outputs": [
    {
     "name": "stdout",
     "output_type": "stream",
     "text": [
      "Sun Jul 21 17:00:00 PDT 2019 -- Deborah Tham -- yep - thanks - for the third question around automated processing, I am concerned that Leo is raising this just now\n",
      "\n",
      "Sun Jul 21 17:00:00 PDT 2019 -- Deborah Tham -- If we are deemed \"automated processing\" under GDPR, this could require changes to our product- of which we have no time to implement without slipping\n",
      "\n",
      "Sun Jul 21 17:00:00 PDT 2019 -- Deborah Tham -- my question is age verification fully automated or does it require manual intervention?\n",
      "\n",
      "Sun Jul 21 17:00:00 PDT 2019 -- Amy Ding -- Sorry Deb, just saw that my response to your last e-mail got stuck in draft mode.  Was wondering where it went.\n",
      "\n",
      "Sun Jul 21 17:00:00 PDT 2019 -- Amy Ding -- Age Verification is fully automated on our side, but our current vendor JUMIO employs manual review on each and every transaction in addition to their algorithmic checks\n",
      "\n",
      "Sun Jul 21 17:00:00 PDT 2019 -- Deborah Tham -- phew\n",
      "\n",
      "  -- Deborah Tham -- thanks so much\n",
      "\n",
      "Sun Jul 21 17:00:00 PDT 2019 -- Amy Ding -- Our Compliance team also selectivelymanually  reviews and audits transactions\n",
      "\n",
      "Sun Jul 21 17:00:00 PDT 2019 -- Eadon Jacobs -- to build on amy’s answer, ID verification is not the only solution for ecomm.  We also use Veratad which is a fully automated solution (where we match on data points, not ID upload)\n",
      "\n",
      "Sun Jul 21 17:00:00 PDT 2019 -- Deborah Tham -- Under GDPR if we employ a fully automated process we may have additional requirements\n",
      "\n"
     ]
    }
   ],
   "source": [
    "conversation = stitch_conversation(sorted_messages)\n",
    "print(conversation)"
   ]
  },
  {
   "cell_type": "markdown",
   "metadata": {},
   "source": [
    "## Save the Conversation to a Text File\n",
    "Finally, we save the stitched conversation into a text file for further analysis or archiving."
   ]
  },
  {
   "cell_type": "code",
   "execution_count": 24,
   "metadata": {},
   "outputs": [],
   "source": [
    "# save as text file\n",
    "def save_conversation_to_file(df:pl.DataFrame, output_file: str):\n",
    "    conversation = stitch_conversation(df)\n",
    "    with open(output_file, 'w', encoding='utf-8') as file:\n",
    "        file.write(conversation)\n",
    "\n",
    "save_conversation_to_file(sorted_messages, f\"chat_{sorted_messages['box'][0]}.txt\")"
   ]
  }
 ],
 "metadata": {
  "kernelspec": {
   "display_name": "base",
   "language": "python",
   "name": "python3"
  },
  "language_info": {
   "codemirror_mode": {
    "name": "ipython",
    "version": 3
   },
   "file_extension": ".py",
   "mimetype": "text/x-python",
   "name": "python",
   "nbconvert_exporter": "python",
   "pygments_lexer": "ipython3",
   "version": "3.12.7"
  }
 },
 "nbformat": 4,
 "nbformat_minor": 2
}
