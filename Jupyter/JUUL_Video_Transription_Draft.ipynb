{
 "cells": [
  {
   "cell_type": "markdown",
   "metadata": {},
   "source": [
    "# Transcribing Audio from Videos\n",
    "This notebook will walk through the process of using OpenAI's Whisper to transcribe audio from a video file. Before we dive into the steps, ensure you have the following tools installed and configured:\n",
    "\n",
    "1. Install FFmpeg \n",
    "> FFmpeg is a multimedia framework needed for handling video and audio files. Download it from the official website: FFmpeg Downloads.\n",
    "\n",
    "2. Set FFmpeg Path and Install Necessary Libraries\n",
    "> Ensure that the ffmpeg executable is in the same directory as the script or added to your system's PATH variable. This allows Whisper to use FFmpeg seamlessly. You will also need the openai-whisper and ffmpeg-python libraries."
   ]
  },
  {
   "cell_type": "markdown",
   "metadata": {},
   "source": [
    "#### Install Necessary Libraries\n",
    "Use the following commands to install the required Python packages."
   ]
  },
  {
   "cell_type": "code",
   "execution_count": 34,
   "metadata": {},
   "outputs": [
    {
     "name": "stdout",
     "output_type": "stream",
     "text": [
      "Requirement already satisfied: openai-whisper in c:\\users\\rolando\\miniforge3\\lib\\site-packages (20240930)\n",
      "Requirement already satisfied: numba in c:\\users\\rolando\\miniforge3\\lib\\site-packages (from openai-whisper) (0.60.0)\n",
      "Requirement already satisfied: numpy in c:\\users\\rolando\\miniforge3\\lib\\site-packages (from openai-whisper) (2.0.2)\n",
      "Requirement already satisfied: torch in c:\\users\\rolando\\miniforge3\\lib\\site-packages (from openai-whisper) (2.5.1)\n",
      "Requirement already satisfied: tqdm in c:\\users\\rolando\\miniforge3\\lib\\site-packages (from openai-whisper) (4.66.5)\n",
      "Requirement already satisfied: more-itertools in c:\\users\\rolando\\miniforge3\\lib\\site-packages (from openai-whisper) (10.6.0)\n",
      "Requirement already satisfied: tiktoken in c:\\users\\rolando\\miniforge3\\lib\\site-packages (from openai-whisper) (0.8.0)\n",
      "Requirement already satisfied: llvmlite<0.44,>=0.43.0dev0 in c:\\users\\rolando\\miniforge3\\lib\\site-packages (from numba->openai-whisper) (0.43.0)\n",
      "Requirement already satisfied: regex>=2022.1.18 in c:\\users\\rolando\\miniforge3\\lib\\site-packages (from tiktoken->openai-whisper) (2024.11.6)\n",
      "Requirement already satisfied: requests>=2.26.0 in c:\\users\\rolando\\miniforge3\\lib\\site-packages (from tiktoken->openai-whisper) (2.32.3)\n",
      "Requirement already satisfied: filelock in c:\\users\\rolando\\miniforge3\\lib\\site-packages (from torch->openai-whisper) (3.16.1)\n",
      "Requirement already satisfied: typing-extensions>=4.8.0 in c:\\users\\rolando\\miniforge3\\lib\\site-packages (from torch->openai-whisper) (4.12.2)\n",
      "Requirement already satisfied: networkx in c:\\users\\rolando\\miniforge3\\lib\\site-packages (from torch->openai-whisper) (3.4.2)\n",
      "Requirement already satisfied: jinja2 in c:\\users\\rolando\\miniforge3\\lib\\site-packages (from torch->openai-whisper) (3.1.5)\n",
      "Requirement already satisfied: fsspec in c:\\users\\rolando\\miniforge3\\lib\\site-packages (from torch->openai-whisper) (2024.12.0)\n",
      "Requirement already satisfied: setuptools in c:\\users\\rolando\\miniforge3\\lib\\site-packages (from torch->openai-whisper) (75.1.0)\n",
      "Requirement already satisfied: sympy==1.13.1 in c:\\users\\rolando\\miniforge3\\lib\\site-packages (from torch->openai-whisper) (1.13.1)\n",
      "Requirement already satisfied: mpmath<1.4,>=1.1.0 in c:\\users\\rolando\\miniforge3\\lib\\site-packages (from sympy==1.13.1->torch->openai-whisper) (1.3.0)\n",
      "Requirement already satisfied: colorama in c:\\users\\rolando\\miniforge3\\lib\\site-packages (from tqdm->openai-whisper) (0.4.6)\n",
      "Requirement already satisfied: charset-normalizer<4,>=2 in c:\\users\\rolando\\miniforge3\\lib\\site-packages (from requests>=2.26.0->tiktoken->openai-whisper) (3.4.0)\n",
      "Requirement already satisfied: idna<4,>=2.5 in c:\\users\\rolando\\miniforge3\\lib\\site-packages (from requests>=2.26.0->tiktoken->openai-whisper) (3.10)\n",
      "Requirement already satisfied: urllib3<3,>=1.21.1 in c:\\users\\rolando\\miniforge3\\lib\\site-packages (from requests>=2.26.0->tiktoken->openai-whisper) (2.2.3)\n",
      "Requirement already satisfied: certifi>=2017.4.17 in c:\\users\\rolando\\miniforge3\\lib\\site-packages (from requests>=2.26.0->tiktoken->openai-whisper) (2024.8.30)\n",
      "Requirement already satisfied: MarkupSafe>=2.0 in c:\\users\\rolando\\miniforge3\\lib\\site-packages (from jinja2->torch->openai-whisper) (3.0.2)\n",
      "Note: you may need to restart the kernel to use updated packages.\n"
     ]
    },
    {
     "name": "stderr",
     "output_type": "stream",
     "text": [
      "WARNING: Ignoring invalid distribution ~oviepy (c:\\Users\\rolando\\miniforge3\\Lib\\site-packages)\n",
      "WARNING: Ignoring invalid distribution ~oviepy (c:\\Users\\rolando\\miniforge3\\Lib\\site-packages)\n",
      "WARNING: Ignoring invalid distribution ~oviepy (c:\\Users\\rolando\\miniforge3\\Lib\\site-packages)\n",
      "\n",
      "[notice] A new release of pip is available: 24.3.1 -> 25.0\n",
      "[notice] To update, run: python.exe -m pip install --upgrade pip\n"
     ]
    },
    {
     "name": "stdout",
     "output_type": "stream",
     "text": [
      "Requirement already satisfied: ffmpeg-python in c:\\users\\rolando\\miniforge3\\lib\\site-packages (0.2.0)Note: you may need to restart the kernel to use updated packages.\n",
      "\n",
      "Requirement already satisfied: future in c:\\users\\rolando\\miniforge3\\lib\\site-packages (from ffmpeg-python) (1.0.0)\n"
     ]
    },
    {
     "name": "stderr",
     "output_type": "stream",
     "text": [
      "WARNING: Ignoring invalid distribution ~oviepy (c:\\Users\\rolando\\miniforge3\\Lib\\site-packages)\n",
      "WARNING: Ignoring invalid distribution ~oviepy (c:\\Users\\rolando\\miniforge3\\Lib\\site-packages)\n",
      "WARNING: Ignoring invalid distribution ~oviepy (c:\\Users\\rolando\\miniforge3\\Lib\\site-packages)\n",
      "\n",
      "[notice] A new release of pip is available: 24.3.1 -> 25.0\n",
      "[notice] To update, run: python.exe -m pip install --upgrade pip\n"
     ]
    }
   ],
   "source": [
    "%pip install -U openai-whisper\n",
    "%pip install ffmpeg-python"
   ]
  },
  {
   "cell_type": "markdown",
   "metadata": {},
   "source": [
    "Import the necessary modules"
   ]
  },
  {
   "cell_type": "code",
   "execution_count": 35,
   "metadata": {},
   "outputs": [],
   "source": [
    "import os\n",
    "import whisper"
   ]
  },
  {
   "cell_type": "markdown",
   "metadata": {},
   "source": [
    "#### Using Whisper\n",
    "Load the Whisper model of your choice. For this tutorial, we used the \"base\" model. \n",
    "\n",
    "Use the 'transcribe' method to process the video file. Make sure the file is in the same directory as the script or provide the correct path.\n",
    "\n",
    "Print the transcribed text to the console for review.\n",
    "\n",
    "Finally, save the transcription to a text file; you can replace the name of the transcription to the name of your video."
   ]
  },
  {
   "cell_type": "code",
   "execution_count": 36,
   "metadata": {},
   "outputs": [
    {
     "name": "stdout",
     "output_type": "stream",
     "text": [
      " I bought my first jewel last September and for about a month I did both. I smoked cigarettes and used the jewel until I was just using the jewel 100% of the time.\n",
      "Transcription saved text file.\n"
     ]
    }
   ],
   "source": [
    "# Load the model\n",
    "model = whisper.load_model(\"base\")\n",
    "result = model.transcribe(\"./video-transcription.mp4\", fp16=False)\n",
    "\n",
    "# Print the transcription\n",
    "print(result[\"text\"])\n",
    "\n",
    "# Save the transcription to a text file\n",
    "with open(\"jgmb0319_transcription.txt\", \"w\", encoding=\"utf-8\") as file:\n",
    "    file.write(result[\"text\"])\n",
    "\n",
    "print(\"Transcription saved text file.\")"
   ]
  }
 ],
 "metadata": {
  "kernelspec": {
   "display_name": "Python 3",
   "language": "python",
   "name": "python3"
  },
  "language_info": {
   "codemirror_mode": {
    "name": "ipython",
    "version": 3
   },
   "file_extension": ".py",
   "mimetype": "text/x-python",
   "name": "python",
   "nbconvert_exporter": "python",
   "pygments_lexer": "ipython3",
   "version": "3.12.7"
  }
 },
 "nbformat": 4,
 "nbformat_minor": 2
}
