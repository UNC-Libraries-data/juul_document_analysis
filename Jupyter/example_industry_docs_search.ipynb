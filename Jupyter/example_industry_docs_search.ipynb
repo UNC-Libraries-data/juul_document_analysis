{
 "cells": [
  {
   "cell_type": "code",
   "execution_count": 1,
   "metadata": {},
   "outputs": [],
   "source": [
    "from src.api.ucsf_api import IndustryDocsSearch"
   ]
  },
  {
   "cell_type": "code",
   "execution_count": 2,
   "metadata": {},
   "outputs": [],
   "source": [
    "api = IndustryDocsSearch()"
   ]
  },
  {
   "cell_type": "code",
   "execution_count": 3,
   "metadata": {},
   "outputs": [
    {
     "name": "stdout",
     "output_type": "stream",
     "text": [
      "100/4400 documents collected\n",
      "200/4400 documents collected\n",
      "300/4400 documents collected\n",
      "400/4400 documents collected\n",
      "500/4400 documents collected\n",
      "600/4400 documents collected\n",
      "700/4400 documents collected\n",
      "800/4400 documents collected\n",
      "900/4400 documents collected\n",
      "1000/4400 documents collected\n",
      "1100/4400 documents collected\n",
      "1200/4400 documents collected\n",
      "1300/4400 documents collected\n",
      "1400/4400 documents collected\n",
      "1500/4400 documents collected\n",
      "1600/4400 documents collected\n",
      "1700/4400 documents collected\n",
      "1800/4400 documents collected\n",
      "1900/4400 documents collected\n",
      "2000/4400 documents collected\n",
      "2100/4400 documents collected\n",
      "2200/4400 documents collected\n",
      "2300/4400 documents collected\n",
      "2400/4400 documents collected\n",
      "2500/4400 documents collected\n",
      "2600/4400 documents collected\n",
      "2700/4400 documents collected\n",
      "2800/4400 documents collected\n",
      "2900/4400 documents collected\n",
      "3000/4400 documents collected\n",
      "3100/4400 documents collected\n",
      "3200/4400 documents collected\n",
      "3300/4400 documents collected\n",
      "3400/4400 documents collected\n",
      "3500/4400 documents collected\n",
      "3600/4400 documents collected\n",
      "3700/4400 documents collected\n",
      "3800/4400 documents collected\n",
      "3900/4400 documents collected\n",
      "4000/4400 documents collected\n",
      "4100/4400 documents collected\n",
      "4200/4400 documents collected\n",
      "4300/4400 documents collected\n",
      "4400/4400 documents collected\n",
      "4400/4400 documents collected\n"
     ]
    }
   ],
   "source": [
    "api.query(q='(case:\"State of North Carolina\" AND collection:\"JUUL Labs Collection\" AND type:Other)')"
   ]
  },
  {
   "cell_type": "code",
   "execution_count": 4,
   "metadata": {},
   "outputs": [
    {
     "data": {
      "text/plain": [
       "4400"
      ]
     },
     "execution_count": 4,
     "metadata": {},
     "output_type": "execute_result"
    }
   ],
   "source": [
    "len(api.results)"
   ]
  },
  {
   "cell_type": "code",
   "execution_count": 5,
   "metadata": {},
   "outputs": [],
   "source": [
    "api.save('test.parquet')"
   ]
  },
  {
   "cell_type": "code",
   "execution_count": 6,
   "metadata": {},
   "outputs": [],
   "source": [
    "api = IndustryDocsSearch()\n",
    "api.load('./test.parquet')"
   ]
  },
  {
   "cell_type": "code",
   "execution_count": 7,
   "metadata": {},
   "outputs": [
    {
     "data": {
      "text/html": [
       "<div><style>\n",
       ".dataframe > thead > tr,\n",
       ".dataframe > tbody > tr {\n",
       "  text-align: right;\n",
       "  white-space: pre-wrap;\n",
       "}\n",
       "</style>\n",
       "<small>shape: (4_400, 22)</small><table border=\"1\" class=\"dataframe\"><thead><tr><th>id</th><th>collection</th><th>collectioncode</th><th>custodian</th><th>availability</th><th>source</th><th>filename</th><th>filepath</th><th>case</th><th>title</th><th>documentdate</th><th>type</th><th>pages</th><th>brand</th><th>bates</th><th>dateaddeducsf</th><th>author</th><th>attachment</th><th>redacted</th><th>redactedby</th><th>datesent</th><th>recipient</th></tr><tr><td>str</td><td>list[str]</td><td>list[str]</td><td>list[str]</td><td>list[str]</td><td>str</td><td>str</td><td>list[str]</td><td>list[str]</td><td>str</td><td>str</td><td>list[str]</td><td>i64</td><td>list[str]</td><td>str</td><td>str</td><td>list[str]</td><td>list[str]</td><td>str</td><td>list[str]</td><td>str</td><td>list[str]</td></tr></thead><tbody><tr><td>&quot;ffbf0318&quot;</td><td>[&quot;JUUL Labs Collection&quot;]</td><td>[&quot;juul&quot;]</td><td>[&quot;JUUL Labs, Inc&quot;]</td><td>[&quot;public&quot;, &quot;no restrictions&quot;]</td><td>&quot;[{&quot;type&quot;:&quot;plaintext&quot;,&quot;title&quot;:&quot;…</td><td>&quot;013017 - UK Sentiment Survey S…</td><td>[&quot;\\JUUL Labs, Inc\\JUUL Labs, Inc\\5.  Prod Mktg\\5.B. Consmr Percept Stud. &amp; Mkt Test\\5.B.21. Project UK Need Finding&quot;]</td><td>[&quot;State of North Carolina, ex rel. Joshua H. Stein, Attorney General,  v. JUUL Labs, Inc&quot;]</td><td>&quot;013017 - UK Sentiment Survey S…</td><td>&quot;2018 May 12; 2018 May 19&quot;</td><td>[&quot;other&quot;]</td><td>1</td><td>[&quot;Juul&quot;]</td><td>&quot;JLI01081399&quot;</td><td>&quot;2024 July 25&quot;</td><td>null</td><td>null</td><td>null</td><td>null</td><td>null</td><td>null</td></tr><tr><td>&quot;ffbf0322&quot;</td><td>[&quot;JUUL Labs Collection&quot;]</td><td>[&quot;juul&quot;]</td><td>[&quot;Batchan, Marc;Bowen, Adam;Cantwell, Alexander;Danaher, Tim;Kania, Chelsea;Robbins, Bob&quot;]</td><td>[&quot;public&quot;, &quot;no restrictions&quot;]</td><td>&quot;[{&quot;type&quot;:&quot;plaintext&quot;,&quot;title&quot;:&quot;…</td><td>&quot;batter upc.eps&quot;</td><td>[&quot;\\Danaher, Tim\\Tim_Danaher_Email-5\\Tim_Danaher_Email_tim@juul.com_67.pst\\Top of Personal Folders\\Inbox\\Re: Charger pricing change\\ART-1500_USB_Charger-M01 Folder.zip\\ART-1500_USB_Charger-M01 Folder\\Links\\batter upc.eps&quot;, &quot;\\Batchan, Marc\\Batchan, Marc-Email\\Marc_Batchan_Email_marc@juul.com_40.pst\\Top of Personal Folders\\Inbox\\Re: Charger pricing change\\ART-1500_USB_Charger-M01 Folder.zip\\ART-1500_USB_Charger-M01 Folder\\Links\\batter upc.eps&quot;, … &quot;\\Cantwell, Alexander\\Alexander_Cantwell_Email-3\\Alexander_Cantwell_Email_alex@juul.com_41.pst\\Alexander_Cantwell_Email_alex@juul.com_41.pst\\Top of Personal Folders\\Inbox\\Re: Charger pricing change\\ART-1500_USB_Charger-M01 Folder.zip\\ART-1500_USB_Charger-M01 Folder\\Links\\batter upc.eps&quot;]</td><td>[&quot;State of North Carolina, ex rel. Joshua H. Stein, Attorney General,  v. JUUL Labs, Inc&quot;]</td><td>&quot;batter upc.eps&quot;</td><td>&quot;2017 July 19&quot;</td><td>[&quot;other&quot;]</td><td>1</td><td>[&quot;Juul&quot;]</td><td>&quot;JLI11809185&quot;</td><td>&quot;2024 August 29&quot;</td><td>null</td><td>null</td><td>null</td><td>null</td><td>null</td><td>null</td></tr><tr><td>&quot;ffbx0301&quot;</td><td>[&quot;JUUL Labs Collection&quot;]</td><td>[&quot;juul&quot;]</td><td>[&quot;JUUL Labs, Inc&quot;]</td><td>[&quot;public&quot;, &quot;no restrictions&quot;]</td><td>&quot;[{&quot;type&quot;:&quot;plaintext&quot;,&quot;title&quot;:&quot;…</td><td>&quot;General Market - 7 Segments - …</td><td>null</td><td>[&quot;State of North Carolina, ex rel. Joshua H. Stein, Attorney General,  v. JUUL Labs, Inc&quot;]</td><td>&quot;General Market - 7 Segments - …</td><td>&quot;2018 May 12; 2018 May 19&quot;</td><td>[&quot;other&quot;]</td><td>1</td><td>[&quot;Juul&quot;]</td><td>&quot;JLI01055852&quot;</td><td>&quot;2024 May 30&quot;</td><td>[&quot;Steven Hong&quot;]</td><td>null</td><td>null</td><td>null</td><td>null</td><td>null</td></tr><tr><td>&quot;ffcb0286&quot;</td><td>[&quot;JUUL Labs Collection&quot;]</td><td>[&quot;juul&quot;]</td><td>[&quot;Taylor (Edmondson), Jessica&quot;]</td><td>[&quot;public&quot;, &quot;no restrictions&quot;]</td><td>&quot;[{&quot;type&quot;:&quot;plaintext&quot;,&quot;title&quot;:&quot;…</td><td>&quot;JUUL-mark-black.eps&quot;</td><td>[&quot;\\Edmondson, Jessica\\Jessica Edmondson\\FTC_CID_-_Jessica_Edmonds-1\\FTC_CID_-_Jessica_Edmonds_jessica@juul.com_3.pst\\Top of Personal Folders\\Inbox\\Re: Compilation cut - kickoff call\\2. warning guidlines.zip\\2. warning guidlines\\1. JUUL Logo\\JUUL-mark-black.eps&quot;]</td><td>[&quot;State of North Carolina, ex rel. Joshua H. Stein, Attorney General,  v. JUUL Labs, Inc&quot;]</td><td>&quot;JUUL-mark-black.eps&quot;</td><td>&quot;2018 October 05&quot;</td><td>[&quot;other&quot;]</td><td>1</td><td>[&quot;Juul&quot;]</td><td>&quot;JLI04795531&quot;</td><td>&quot;2024 January 25&quot;</td><td>null</td><td>[&quot;JLI04795539;JLI04795540;JLI04795541;JLI04795542;JLI04795543&quot;]</td><td>null</td><td>null</td><td>null</td><td>null</td></tr><tr><td>&quot;ffhj0316&quot;</td><td>[&quot;JUUL Labs Collection&quot;]</td><td>[&quot;juul&quot;]</td><td>[&quot;Non-Custodial&quot;]</td><td>[&quot;public&quot;, &quot;no restrictions&quot;]</td><td>&quot;[{&quot;type&quot;:&quot;plaintext&quot;,&quot;title&quot;:&quot;…</td><td>null</td><td>null</td><td>[&quot;State of North Carolina, ex rel. Joshua H. Stein, Attorney General,  v. JUUL Labs, Inc&quot;]</td><td>null</td><td>null</td><td>[&quot;other&quot;]</td><td>14</td><td>[&quot;Juul&quot;]</td><td>&quot;JLI01057726&quot;</td><td>&quot;2024 July 25&quot;</td><td>null</td><td>null</td><td>&quot;yes&quot;</td><td>null</td><td>null</td><td>null</td></tr><tr><td>&hellip;</td><td>&hellip;</td><td>&hellip;</td><td>&hellip;</td><td>&hellip;</td><td>&hellip;</td><td>&hellip;</td><td>&hellip;</td><td>&hellip;</td><td>&hellip;</td><td>&hellip;</td><td>&hellip;</td><td>&hellip;</td><td>&hellip;</td><td>&hellip;</td><td>&hellip;</td><td>&hellip;</td><td>&hellip;</td><td>&hellip;</td><td>&hellip;</td><td>&hellip;</td><td>&hellip;</td></tr><tr><td>&quot;zzmj0303&quot;</td><td>[&quot;JUUL Labs Collection&quot;]</td><td>[&quot;juul&quot;]</td><td>[&quot;Non-Custodial&quot;]</td><td>[&quot;public&quot;, &quot;no restrictions&quot;]</td><td>&quot;[{&quot;type&quot;:&quot;plaintext&quot;,&quot;title&quot;:&quot;…</td><td>null</td><td>null</td><td>[&quot;State of North Carolina, ex rel. Joshua H. Stein, Attorney General,  v. JUUL Labs, Inc&quot;]</td><td>null</td><td>null</td><td>[&quot;other&quot;]</td><td>2</td><td>[&quot;Juul&quot;]</td><td>&quot;JLI01093577&quot;</td><td>&quot;2024 May 30&quot;</td><td>null</td><td>null</td><td>null</td><td>null</td><td>null</td><td>null</td></tr><tr><td>&quot;zzng0284&quot;</td><td>[&quot;JUUL Labs Collection&quot;]</td><td>[&quot;juul&quot;]</td><td>[&quot;JUUL Labs Inc&quot;]</td><td>[&quot;public&quot;, &quot;no restrictions&quot;]</td><td>&quot;[{&quot;type&quot;:&quot;plaintext&quot;,&quot;title&quot;:&quot;…</td><td>&quot;#01474728_complaint_summary.pd…</td><td>[&quot;\\2018.05.31 JUUL Labs, Inc.zip\\JUUL Labs, Inc\\2018.05.31 Additions\\Consumer Complaints\\master_underage_reports - pdf-20180531T153701Z-001.zip\\master_underage_reports - pdf\\01474728\\&quot;]</td><td>[&quot;State of North Carolina, ex rel. Joshua H. Stein, Attorney General,  v. JUUL Labs, Inc&quot;]</td><td>&quot;#01474728_complaint_summary.pd…</td><td>&quot;2018 May 30&quot;</td><td>[&quot;other&quot;]</td><td>3</td><td>[&quot;Juul&quot;]</td><td>&quot;JLI01090803&quot;</td><td>&quot;2024 January 25&quot;</td><td>null</td><td>null</td><td>&quot;yes&quot;</td><td>[&quot;UCSF&quot;]</td><td>null</td><td>null</td></tr><tr><td>&quot;zzpv0286&quot;</td><td>[&quot;JUUL Labs Collection&quot;]</td><td>[&quot;juul&quot;]</td><td>[&quot;Taylor (Edmondson), Jessica&quot;]</td><td>[&quot;public&quot;, &quot;no restrictions&quot;]</td><td>&quot;[{&quot;type&quot;:&quot;plaintext&quot;,&quot;title&quot;:&quot;…</td><td>&quot;JUUL-mark-black.eps&quot;</td><td>[&quot;\\Edmondson, Jessica\\Jessica Edmondson\\FTC_CID_-_Jessica_Edmonds-1\\FTC_CID_-_Jessica_Edmonds_jessica@juul.com_2.pst\\Top of Personal Folders\\Inbox\\Project Refresh - Testimonial Videos\\2. warning guidlines (1).zip\\2. warning guidlines\\1. JUUL Logo\\JUUL-mark-black.eps&quot;]</td><td>[&quot;State of North Carolina, ex rel. Joshua H. Stein, Attorney General,  v. JUUL Labs, Inc&quot;]</td><td>&quot;JUUL-mark-black.eps&quot;</td><td>&quot;2018 September 26&quot;</td><td>[&quot;other&quot;]</td><td>1</td><td>[&quot;Juul&quot;]</td><td>&quot;JLI04789962&quot;</td><td>&quot;2024 January 25&quot;</td><td>null</td><td>null</td><td>null</td><td>null</td><td>null</td><td>null</td></tr><tr><td>&quot;zzxg0284&quot;</td><td>[&quot;JUUL Labs Collection&quot;]</td><td>[&quot;juul&quot;]</td><td>[&quot;JUUL Labs, Inc&quot;]</td><td>[&quot;public&quot;, &quot;no restrictions&quot;]</td><td>&quot;[{&quot;type&quot;:&quot;plaintext&quot;,&quot;title&quot;:&quot;…</td><td>&quot;20180313 Distributor Term Shee…</td><td>[&quot;\\JUUL Labs, Inc\\JUUL Labs, Inc\\10. From Marc Batchan - Commercial Strategy\\A. Output\\10.A.5 Distributor Strategy&quot;]</td><td>[&quot;State of North Carolina, ex rel. Joshua H. Stein, Attorney General,  v. JUUL Labs, Inc&quot;]</td><td>&quot;20180313 Distributor Term Shee…</td><td>&quot;2018 May 19&quot;</td><td>[&quot;other&quot;]</td><td>2</td><td>[&quot;Juul&quot;]</td><td>&quot;JLI01084386&quot;</td><td>&quot;2024 January 25&quot;</td><td>[&quot;Alex Cantwell&quot;]</td><td>null</td><td>null</td><td>null</td><td>null</td><td>null</td></tr><tr><td>&quot;zzyg0284&quot;</td><td>[&quot;JUUL Labs Collection&quot;]</td><td>[&quot;juul&quot;]</td><td>[&quot;JUUL Labs Inc&quot;]</td><td>[&quot;public&quot;, &quot;no restrictions&quot;]</td><td>&quot;[{&quot;type&quot;:&quot;plaintext&quot;,&quot;title&quot;:&quot;…</td><td>&quot;#01602640_complaint_summary.pd…</td><td>[&quot;\\2018.05.31 JUUL Labs, Inc.zip\\JUUL Labs, Inc\\2018.05.31 Additions\\Consumer Complaints\\master_underage_reports - pdf-20180531T153701Z-001.zip\\master_underage_reports - pdf\\01602640\\&quot;]</td><td>[&quot;State of North Carolina, ex rel. Joshua H. Stein, Attorney General,  v. JUUL Labs, Inc&quot;]</td><td>&quot;#01602640_complaint_summary.pd…</td><td>&quot;2018 May 30&quot;</td><td>[&quot;other&quot;]</td><td>3</td><td>[&quot;Juul&quot;]</td><td>&quot;JLI01091531&quot;</td><td>&quot;2024 January 25&quot;</td><td>null</td><td>null</td><td>&quot;yes&quot;</td><td>[&quot;UCSF&quot;]</td><td>null</td><td>null</td></tr></tbody></table></div>"
      ],
      "text/plain": [
       "shape: (4_400, 22)\n",
       "┌──────────┬────────────┬────────────┬───────────┬───┬──────────┬───────────┬──────────┬───────────┐\n",
       "│ id       ┆ collection ┆ collection ┆ custodian ┆ … ┆ redacted ┆ redactedb ┆ datesent ┆ recipient │\n",
       "│ ---      ┆ ---        ┆ code       ┆ ---       ┆   ┆ ---      ┆ y         ┆ ---      ┆ ---       │\n",
       "│ str      ┆ list[str]  ┆ ---        ┆ list[str] ┆   ┆ str      ┆ ---       ┆ str      ┆ list[str] │\n",
       "│          ┆            ┆ list[str]  ┆           ┆   ┆          ┆ list[str] ┆          ┆           │\n",
       "╞══════════╪════════════╪════════════╪═══════════╪═══╪══════════╪═══════════╪══════════╪═══════════╡\n",
       "│ ffbf0318 ┆ [\"JUUL     ┆ [\"juul\"]   ┆ [\"JUUL    ┆ … ┆ null     ┆ null      ┆ null     ┆ null      │\n",
       "│          ┆ Labs Colle ┆            ┆ Labs,     ┆   ┆          ┆           ┆          ┆           │\n",
       "│          ┆ ction\"]    ┆            ┆ Inc\"]     ┆   ┆          ┆           ┆          ┆           │\n",
       "│ ffbf0322 ┆ [\"JUUL     ┆ [\"juul\"]   ┆ [\"Batchan ┆ … ┆ null     ┆ null      ┆ null     ┆ null      │\n",
       "│          ┆ Labs Colle ┆            ┆ , Marc;Bo ┆   ┆          ┆           ┆          ┆           │\n",
       "│          ┆ ction\"]    ┆            ┆ wen,      ┆   ┆          ┆           ┆          ┆           │\n",
       "│          ┆            ┆            ┆ Adam;Ca…  ┆   ┆          ┆           ┆          ┆           │\n",
       "│ ffbx0301 ┆ [\"JUUL     ┆ [\"juul\"]   ┆ [\"JUUL    ┆ … ┆ null     ┆ null      ┆ null     ┆ null      │\n",
       "│          ┆ Labs Colle ┆            ┆ Labs,     ┆   ┆          ┆           ┆          ┆           │\n",
       "│          ┆ ction\"]    ┆            ┆ Inc\"]     ┆   ┆          ┆           ┆          ┆           │\n",
       "│ ffcb0286 ┆ [\"JUUL     ┆ [\"juul\"]   ┆ [\"Taylor  ┆ … ┆ null     ┆ null      ┆ null     ┆ null      │\n",
       "│          ┆ Labs Colle ┆            ┆ (Edmondso ┆   ┆          ┆           ┆          ┆           │\n",
       "│          ┆ ction\"]    ┆            ┆ n),       ┆   ┆          ┆           ┆          ┆           │\n",
       "│          ┆            ┆            ┆ Jessica\"… ┆   ┆          ┆           ┆          ┆           │\n",
       "│ ffhj0316 ┆ [\"JUUL     ┆ [\"juul\"]   ┆ [\"Non-Cus ┆ … ┆ yes      ┆ null      ┆ null     ┆ null      │\n",
       "│          ┆ Labs Colle ┆            ┆ todial\"]  ┆   ┆          ┆           ┆          ┆           │\n",
       "│          ┆ ction\"]    ┆            ┆           ┆   ┆          ┆           ┆          ┆           │\n",
       "│ …        ┆ …          ┆ …          ┆ …         ┆ … ┆ …        ┆ …         ┆ …        ┆ …         │\n",
       "│ zzmj0303 ┆ [\"JUUL     ┆ [\"juul\"]   ┆ [\"Non-Cus ┆ … ┆ null     ┆ null      ┆ null     ┆ null      │\n",
       "│          ┆ Labs Colle ┆            ┆ todial\"]  ┆   ┆          ┆           ┆          ┆           │\n",
       "│          ┆ ction\"]    ┆            ┆           ┆   ┆          ┆           ┆          ┆           │\n",
       "│ zzng0284 ┆ [\"JUUL     ┆ [\"juul\"]   ┆ [\"JUUL    ┆ … ┆ yes      ┆ [\"UCSF\"]  ┆ null     ┆ null      │\n",
       "│          ┆ Labs Colle ┆            ┆ Labs      ┆   ┆          ┆           ┆          ┆           │\n",
       "│          ┆ ction\"]    ┆            ┆ Inc\"]     ┆   ┆          ┆           ┆          ┆           │\n",
       "│ zzpv0286 ┆ [\"JUUL     ┆ [\"juul\"]   ┆ [\"Taylor  ┆ … ┆ null     ┆ null      ┆ null     ┆ null      │\n",
       "│          ┆ Labs Colle ┆            ┆ (Edmondso ┆   ┆          ┆           ┆          ┆           │\n",
       "│          ┆ ction\"]    ┆            ┆ n),       ┆   ┆          ┆           ┆          ┆           │\n",
       "│          ┆            ┆            ┆ Jessica\"… ┆   ┆          ┆           ┆          ┆           │\n",
       "│ zzxg0284 ┆ [\"JUUL     ┆ [\"juul\"]   ┆ [\"JUUL    ┆ … ┆ null     ┆ null      ┆ null     ┆ null      │\n",
       "│          ┆ Labs Colle ┆            ┆ Labs,     ┆   ┆          ┆           ┆          ┆           │\n",
       "│          ┆ ction\"]    ┆            ┆ Inc\"]     ┆   ┆          ┆           ┆          ┆           │\n",
       "│ zzyg0284 ┆ [\"JUUL     ┆ [\"juul\"]   ┆ [\"JUUL    ┆ … ┆ yes      ┆ [\"UCSF\"]  ┆ null     ┆ null      │\n",
       "│          ┆ Labs Colle ┆            ┆ Labs      ┆   ┆          ┆           ┆          ┆           │\n",
       "│          ┆ ction\"]    ┆            ┆ Inc\"]     ┆   ┆          ┆           ┆          ┆           │\n",
       "└──────────┴────────────┴────────────┴───────────┴───┴──────────┴───────────┴──────────┴───────────┘"
      ]
     },
     "execution_count": 7,
     "metadata": {},
     "output_type": "execute_result"
    }
   ],
   "source": [
    "api.results"
   ]
  }
 ],
 "metadata": {
  "kernelspec": {
   "display_name": "Python 3",
   "language": "python",
   "name": "python3"
  },
  "language_info": {
   "codemirror_mode": {
    "name": "ipython",
    "version": 3
   },
   "file_extension": ".py",
   "mimetype": "text/x-python",
   "name": "python",
   "nbconvert_exporter": "python",
   "pygments_lexer": "ipython3",
   "version": "3.12.5"
  }
 },
 "nbformat": 4,
 "nbformat_minor": 2
}
