{
 "cells": [
  {
   "cell_type": "markdown",
   "metadata": {},
   "source": [
    "# Stitch Slack Messages\n",
    "\n",
    "This notebook demonstrates how to use the IndustryDocsSearch wrapper to query documents, process OCR content from a zip file, filter messages, and stitch conversations into a formatted text file.\n",
    "\n",
    "<img src = \"doc_screenshot.png\" width = 900>"
   ]
  },
  {
   "cell_type": "code",
   "execution_count": 27,
   "metadata": {},
   "outputs": [],
   "source": [
    "import os\n",
    "import requests\n",
    "import polars as pl\n",
    "from industry_documents_wrapper.ucsf_api import IndustryDocsSearch"
   ]
  },
  {
   "cell_type": "markdown",
   "metadata": {},
   "source": [
    "## Query Metadata Using IndustryDocsSearch\n",
    "\n",
    "We're going to query the database using the Python wrapper for the UCSF Industry Documents API. The result of the query will provide the metadata, including document IDs, required to pull OCR text from the downloaded zip file."
   ]
  },
  {
   "cell_type": "code",
   "execution_count": 99,
   "metadata": {},
   "outputs": [
    {
     "name": "stdout",
     "output_type": "stream",
     "text": [
      "Adding URLs to query results\n"
     ]
    }
   ],
   "source": [
    "wrapper = IndustryDocsSearch()\n",
    "wrapper.query(q=\"type:'unknown' AND box:'DAWLDENGP'\", n=-1)\n",
    "wrapper.save('messages_results.json', format='json')"
   ]
  },
  {
   "cell_type": "code",
   "execution_count": 100,
   "metadata": {},
   "outputs": [
    {
     "data": {
      "text/plain": [
       "680"
      ]
     },
     "execution_count": 100,
     "metadata": {},
     "output_type": "execute_result"
    }
   ],
   "source": [
    "len(wrapper.results)"
   ]
  },
  {
   "cell_type": "code",
   "execution_count": 101,
   "metadata": {},
   "outputs": [],
   "source": [
    "df = pl.read_json('messages_results.json')"
   ]
  },
  {
   "cell_type": "code",
   "execution_count": 102,
   "metadata": {},
   "outputs": [
    {
     "name": "stdout",
     "output_type": "stream",
     "text": [
      "{'DAWLDENGP'}\n"
     ]
    }
   ],
   "source": [
    "print(set(df[\"box\"]))"
   ]
  },
  {
   "cell_type": "code",
   "execution_count": 59,
   "metadata": {},
   "outputs": [
    {
     "data": {
      "text/html": [
       "<div><style>\n",
       ".dataframe > thead > tr,\n",
       ".dataframe > tbody > tr {\n",
       "  text-align: right;\n",
       "  white-space: pre-wrap;\n",
       "}\n",
       "</style>\n",
       "<small>shape: (5, 17)</small><table border=\"1\" class=\"dataframe\"><thead><tr><th>id</th><th>collection</th><th>collectioncode</th><th>box</th><th>availability</th><th>source</th><th>filepath</th><th>case</th><th>author</th><th>documentdate</th><th>type</th><th>pages</th><th>recipient</th><th>brand</th><th>bates</th><th>dateaddeducsf</th><th>attachment</th></tr><tr><td>str</td><td>list[str]</td><td>list[str]</td><td>str</td><td>list[str]</td><td>str</td><td>list[str]</td><td>list[str]</td><td>list[str]</td><td>str</td><td>list[str]</td><td>i64</td><td>list[str]</td><td>list[str]</td><td>str</td><td>str</td><td>list[str]</td></tr></thead><tbody><tr><td>&quot;flyc0324&quot;</td><td>[&quot;JUUL Labs Collection&quot;]</td><td>[&quot;juul&quot;]</td><td>&quot;DAWLDENGP&quot;</td><td>[&quot;public&quot;, &quot;no restrictions&quot;]</td><td>&quot;[{&quot;type&quot;:&quot;plaintext&quot;,&quot;title&quot;:&quot;…</td><td>[&quot;Direct Messages\\DAWLDENGP&quot;]</td><td>[&quot;State of North Carolina, ex rel. Joshua H. Stein, Attorney General,&nbsp;&nbsp;v. JUUL Labs, Inc&quot;]</td><td>[&quot;Ramean Behnam&quot;]</td><td>&quot;2019 January 14&quot;</td><td>[&quot;unknown&quot;]</td><td>1</td><td>[&quot;Jonathan Powell&quot;, &quot;Ramean Behnam&quot;]</td><td>[&quot;Juul&quot;]</td><td>&quot;JLI50358877&quot;</td><td>&quot;2024 September 26&quot;</td><td>null</td></tr><tr><td>&quot;fmyc0324&quot;</td><td>[&quot;JUUL Labs Collection&quot;]</td><td>[&quot;juul&quot;]</td><td>&quot;DAWLDENGP&quot;</td><td>[&quot;public&quot;, &quot;no restrictions&quot;]</td><td>&quot;[{&quot;type&quot;:&quot;plaintext&quot;,&quot;title&quot;:&quot;…</td><td>[&quot;Direct Messages\\DAWLDENGP&quot;]</td><td>[&quot;State of North Carolina, ex rel. Joshua H. Stein, Attorney General,&nbsp;&nbsp;v. JUUL Labs, Inc&quot;]</td><td>[&quot;Ramean Behnam&quot;]</td><td>&quot;2019 January 21&quot;</td><td>[&quot;unknown&quot;]</td><td>1</td><td>[&quot;Jonathan Powell&quot;, &quot;Ramean Behnam&quot;]</td><td>[&quot;Juul&quot;]</td><td>&quot;JLI50358893&quot;</td><td>&quot;2024 September 26&quot;</td><td>null</td></tr><tr><td>&quot;fpmh0327&quot;</td><td>[&quot;JUUL Labs Collection&quot;]</td><td>[&quot;juul&quot;]</td><td>&quot;DAWLDENGP&quot;</td><td>[&quot;public&quot;, &quot;no restrictions&quot;]</td><td>&quot;[{&quot;type&quot;:&quot;plaintext&quot;,&quot;title&quot;:&quot;…</td><td>[&quot;Direct Messages\\DAWLDENGP&quot;]</td><td>[&quot;State of North Carolina, ex rel. Joshua H. Stein, Attorney General,&nbsp;&nbsp;v. JUUL Labs, Inc&quot;]</td><td>[&quot;Ramean Behnam&quot;]</td><td>&quot;2018 November 30&quot;</td><td>[&quot;unknown&quot;]</td><td>1</td><td>[&quot;Jonathan Powell&quot;, &quot;Ramean Behnam&quot;]</td><td>[&quot;Juul&quot;]</td><td>&quot;JLI50132758&quot;</td><td>&quot;2024 September 26&quot;</td><td>null</td></tr><tr><td>&quot;fqmh0327&quot;</td><td>[&quot;JUUL Labs Collection&quot;]</td><td>[&quot;juul&quot;]</td><td>&quot;DAWLDENGP&quot;</td><td>[&quot;public&quot;, &quot;no restrictions&quot;]</td><td>&quot;[{&quot;type&quot;:&quot;plaintext&quot;,&quot;title&quot;:&quot;…</td><td>[&quot;Direct Messages\\DAWLDENGP&quot;]</td><td>[&quot;State of North Carolina, ex rel. Joshua H. Stein, Attorney General,&nbsp;&nbsp;v. JUUL Labs, Inc&quot;]</td><td>[&quot;Ramean Behnam&quot;]</td><td>&quot;2018 December 05&quot;</td><td>[&quot;unknown&quot;]</td><td>1</td><td>[&quot;Jonathan Powell&quot;, &quot;Ramean Behnam&quot;]</td><td>[&quot;Juul&quot;]</td><td>&quot;JLI50132774&quot;</td><td>&quot;2024 September 26&quot;</td><td>null</td></tr><tr><td>&quot;frmh0327&quot;</td><td>[&quot;JUUL Labs Collection&quot;]</td><td>[&quot;juul&quot;]</td><td>&quot;DAWLDENGP&quot;</td><td>[&quot;public&quot;, &quot;no restrictions&quot;]</td><td>&quot;[{&quot;type&quot;:&quot;plaintext&quot;,&quot;title&quot;:&quot;…</td><td>[&quot;Direct Messages\\DAWLDENGP&quot;]</td><td>[&quot;State of North Carolina, ex rel. Joshua H. Stein, Attorney General,&nbsp;&nbsp;v. JUUL Labs, Inc&quot;]</td><td>[&quot;Jonathan Powell&quot;]</td><td>&quot;2019 January 09&quot;</td><td>[&quot;unknown&quot;]</td><td>1</td><td>[&quot;Jonathan Powell&quot;, &quot;Ramean Behnam&quot;]</td><td>[&quot;Juul&quot;]</td><td>&quot;JLI50132790&quot;</td><td>&quot;2024 September 26&quot;</td><td>null</td></tr></tbody></table></div>"
      ],
      "text/plain": [
       "shape: (5, 17)\n",
       "┌──────────┬───────────┬───────────┬───────────┬───┬───────────┬───────────┬───────────┬───────────┐\n",
       "│ id       ┆ collectio ┆ collectio ┆ box       ┆ … ┆ brand     ┆ bates     ┆ dateadded ┆ attachmen │\n",
       "│ ---      ┆ n         ┆ ncode     ┆ ---       ┆   ┆ ---       ┆ ---       ┆ ucsf      ┆ t         │\n",
       "│ str      ┆ ---       ┆ ---       ┆ str       ┆   ┆ list[str] ┆ str       ┆ ---       ┆ ---       │\n",
       "│          ┆ list[str] ┆ list[str] ┆           ┆   ┆           ┆           ┆ str       ┆ list[str] │\n",
       "╞══════════╪═══════════╪═══════════╪═══════════╪═══╪═══════════╪═══════════╪═══════════╪═══════════╡\n",
       "│ flyc0324 ┆ [\"JUUL    ┆ [\"juul\"]  ┆ DAWLDENGP ┆ … ┆ [\"Juul\"]  ┆ JLI503588 ┆ 2024      ┆ null      │\n",
       "│          ┆ Labs Coll ┆           ┆           ┆   ┆           ┆ 77        ┆ September ┆           │\n",
       "│          ┆ ection\"]  ┆           ┆           ┆   ┆           ┆           ┆ 26        ┆           │\n",
       "│ fmyc0324 ┆ [\"JUUL    ┆ [\"juul\"]  ┆ DAWLDENGP ┆ … ┆ [\"Juul\"]  ┆ JLI503588 ┆ 2024      ┆ null      │\n",
       "│          ┆ Labs Coll ┆           ┆           ┆   ┆           ┆ 93        ┆ September ┆           │\n",
       "│          ┆ ection\"]  ┆           ┆           ┆   ┆           ┆           ┆ 26        ┆           │\n",
       "│ fpmh0327 ┆ [\"JUUL    ┆ [\"juul\"]  ┆ DAWLDENGP ┆ … ┆ [\"Juul\"]  ┆ JLI501327 ┆ 2024      ┆ null      │\n",
       "│          ┆ Labs Coll ┆           ┆           ┆   ┆           ┆ 58        ┆ September ┆           │\n",
       "│          ┆ ection\"]  ┆           ┆           ┆   ┆           ┆           ┆ 26        ┆           │\n",
       "│ fqmh0327 ┆ [\"JUUL    ┆ [\"juul\"]  ┆ DAWLDENGP ┆ … ┆ [\"Juul\"]  ┆ JLI501327 ┆ 2024      ┆ null      │\n",
       "│          ┆ Labs Coll ┆           ┆           ┆   ┆           ┆ 74        ┆ September ┆           │\n",
       "│          ┆ ection\"]  ┆           ┆           ┆   ┆           ┆           ┆ 26        ┆           │\n",
       "│ frmh0327 ┆ [\"JUUL    ┆ [\"juul\"]  ┆ DAWLDENGP ┆ … ┆ [\"Juul\"]  ┆ JLI501327 ┆ 2024      ┆ null      │\n",
       "│          ┆ Labs Coll ┆           ┆           ┆   ┆           ┆ 90        ┆ September ┆           │\n",
       "│          ┆ ection\"]  ┆           ┆           ┆   ┆           ┆           ┆ 26        ┆           │\n",
       "└──────────┴───────────┴───────────┴───────────┴───┴───────────┴───────────┴───────────┴───────────┘"
      ]
     },
     "execution_count": 59,
     "metadata": {},
     "output_type": "execute_result"
    }
   ],
   "source": [
    "df.head()"
   ]
  },
  {
   "cell_type": "markdown",
   "metadata": {},
   "source": [
    "## Extract OCR Content from the Zipped Folder\n",
    "Now, we will extract the OCR content for the queried documents using the IDs retrieved in the previous step."
   ]
  },
  {
   "cell_type": "code",
   "execution_count": 103,
   "metadata": {},
   "outputs": [],
   "source": [
    "import zipfile"
   ]
  },
  {
   "cell_type": "code",
   "execution_count": 104,
   "metadata": {},
   "outputs": [],
   "source": [
    "def get_ocr_content(df, zip_dir):\n",
    "    id_list = df['id'].str.strip_chars().to_list()\n",
    "    main_df = pl.DataFrame()\n",
    "\n",
    "    with zipfile.ZipFile(zip_dir, 'r') as zipf:\n",
    "        for idx, file in enumerate(zipf.namelist()):\n",
    "            with zipf.open(file) as f:\n",
    "                try:\n",
    "                    temp_df = pl.read_csv(f, separator='|')\n",
    "                    temp_df = temp_df.filter(pl.col('id').cast(pl.String).str.strip_chars().is_in(id_list))\n",
    "                    main_df = pl.concat([main_df, temp_df])\n",
    "                except Exception as e:\n",
    "                    print(f'Error processing file {file}: {e}')\n",
    "                    continue\n",
    "            print(f'CSVs Checked: {idx+1}/{len(zipf.namelist())} | Docs Matched: {len(main_df)}/{len(id_list)}', end='\\r')\n",
    "\n",
    "    return main_df"
   ]
  },
  {
   "cell_type": "code",
   "execution_count": 105,
   "metadata": {},
   "outputs": [
    {
     "name": "stdout",
     "output_type": "stream",
     "text": [
      "Error processing file JUUL_Labs_Collection_56.csv: type String is incompatible with expected type Int64\n",
      "Error processing file JUUL_Labs_Collection_172.csv: type String is incompatible with expected type Int64\n",
      "Error processing file JUUL_Labs_Collection_195.csv: type String is incompatible with expected type Int64\n",
      "Error processing file JUUL_Labs_Collection_197.csv: type String is incompatible with expected type Int64\n",
      "Error processing file JUUL_Labs_Collection_214.csv: type String is incompatible with expected type Int64\n",
      "Error processing file JUUL_Labs_Collection_296.csv: type String is incompatible with expected type Int64\n",
      "Error processing file JUUL_Labs_Collection_515.csv: type String is incompatible with expected type Int64\n",
      "Error processing file JUUL_Labs_Collection_717.csv: type String is incompatible with expected type Int64\n",
      "Error processing file JUUL_Labs_Collection_778.csv: type String is incompatible with expected type Int64\n",
      "Error processing file JUUL_Labs_Collection_1029.csv: type String is incompatible with expected type Int64\n",
      "Error processing file JUUL_Labs_Collection_1675.csv: type String is incompatible with expected type Int64\n",
      "Error processing file JUUL_Labs_Collection_1733.csv: type String is incompatible with expected type Int64\n",
      "Error processing file JUUL_Labs_Collection_1850.csv: type String is incompatible with expected type Int64\n",
      "CSVs Checked: 2158/2158 | Docs Matched: 140/680\r"
     ]
    }
   ],
   "source": [
    "zipdirectory = \"../data/JUUL_Labs_Collection.zip\"\n",
    "df_text = get_ocr_content(df, zipdirectory)"
   ]
  },
  {
   "cell_type": "markdown",
   "metadata": {},
   "source": [
    "## Sort and Filter the Extracted Data\n",
    "We will now sort the documents by their bates value and filter for the ones in the \"Direct Messages\" file path."
   ]
  },
  {
   "cell_type": "code",
   "execution_count": 106,
   "metadata": {},
   "outputs": [],
   "source": [
    "# order messages by bates\n",
    "df_sorted = df_text.sort('bates')"
   ]
  },
  {
   "cell_type": "code",
   "execution_count": 184,
   "metadata": {},
   "outputs": [],
   "source": [
    "# filter items with 'Direct Messages; in \"File Path\"\n",
    "\n",
    "df_filtered = df_sorted.filter(\n",
    "    pl.col('filepath') == 'Direct Messages\\\\DAWLDENGP'\n",
    ")"
   ]
  },
  {
   "cell_type": "code",
   "execution_count": 185,
   "metadata": {},
   "outputs": [
    {
     "data": {
      "text/html": [
       "<div><style>\n",
       ".dataframe > thead > tr,\n",
       ".dataframe > tbody > tr {\n",
       "  text-align: right;\n",
       "  white-space: pre-wrap;\n",
       "}\n",
       "</style>\n",
       "<small>shape: (5, 71)</small><table border=\"1\" class=\"dataframe\"><thead><tr><th>id</th><th>tid</th><th>bates</th><th>type</th><th>description</th><th>title</th><th>author</th><th>mentioned</th><th>attending</th><th>copied</th><th>recipient</th><th>redacted</th><th>collection_name</th><th>pages</th><th>exhibit_number</th><th>document_date</th><th>date_added_ucsf</th><th>date_modified_ucsf</th><th>date_added_industry</th><th>date_modified_industry</th><th>date_produced</th><th>date_shipped</th><th>deposition_date</th><th>date_privilege_logged</th><th>case</th><th>industry</th><th>drug</th><th>adverse_ruling</th><th>area</th><th>bates_alternate</th><th>box</th><th>brand</th><th>country</th><th>language</th><th>court</th><th>format</th><th>express_waiver</th><th>file</th><th>genre</th><th>keywords</th><th>bates_master</th><th>other_number</th><th>request_number</th><th>minnesota_request_number</th><th>privilege_code</th><th>topic</th><th>witness</th><th>cited</th><th>availability</th><th>grant_number</th><th>source</th><th>folder</th><th>series</th><th>chemical</th><th>food</th><th>rights</th><th>attachment</th><th>attachmentnum</th><th>conversation</th><th>conversationid</th><th>custodian</th><th>datereceived</th><th>datesent</th><th>filename</th><th>filepath</th><th>messageid</th><th>subject</th><th>timereceived</th><th>timesent</th><th>redaction</th><th>ocr_text</th></tr><tr><td>str</td><td>str</td><td>str</td><td>str</td><td>str</td><td>str</td><td>str</td><td>str</td><td>str</td><td>str</td><td>str</td><td>str</td><td>str</td><td>i64</td><td>str</td><td>str</td><td>str</td><td>str</td><td>str</td><td>str</td><td>str</td><td>str</td><td>str</td><td>str</td><td>str</td><td>str</td><td>str</td><td>str</td><td>str</td><td>str</td><td>str</td><td>str</td><td>str</td><td>str</td><td>str</td><td>str</td><td>str</td><td>str</td><td>str</td><td>str</td><td>str</td><td>str</td><td>str</td><td>str</td><td>str</td><td>str</td><td>str</td><td>str</td><td>str</td><td>str</td><td>str</td><td>str</td><td>str</td><td>str</td><td>str</td><td>str</td><td>str</td><td>str</td><td>str</td><td>str</td><td>str</td><td>str</td><td>str</td><td>str</td><td>str</td><td>str</td><td>str</td><td>str</td><td>str</td><td>str</td><td>str</td></tr></thead><tbody><tr><td>&quot;knmh0327&quot;</td><td>&quot; &quot;</td><td>&quot;JLI50132731&quot;</td><td>&quot;unknown&quot;</td><td>&quot; &quot;</td><td>&quot; &quot;</td><td>&quot;Ramean Behnam&quot;</td><td>&quot; &quot;</td><td>&quot; &quot;</td><td>&quot; &quot;</td><td>&quot;Jonathan Powell, Ramean Behnam&quot;</td><td>&quot; &quot;</td><td>&quot;JUUL Labs Collection&quot;</td><td>1</td><td>&quot; &quot;</td><td>&quot;Thu Sep 06 17:00:00 PDT 2018&quot;</td><td>&quot;Wed Sep 25 17:00:00 PDT 2024&quot;</td><td>&quot;Wed Sep 25 17:00:00 PDT 2024&quot;</td><td>&quot; &quot;</td><td>&quot; &quot;</td><td>&quot; &quot;</td><td>&quot; &quot;</td><td>&quot; &quot;</td><td>&quot; &quot;</td><td>&quot;State of North Carolina, ex re…</td><td>&quot;Tobacco&quot;</td><td>&quot; &quot;</td><td>&quot; &quot;</td><td>&quot; &quot;</td><td>&quot; &quot;</td><td>&quot;DAWLDENGP&quot;</td><td>&quot;Juul&quot;</td><td>&quot; &quot;</td><td>&quot; &quot;</td><td>&quot; &quot;</td><td>&quot; &quot;</td><td>&quot; &quot;</td><td>&quot; &quot;</td><td>&quot; &quot;</td><td>&quot; &quot;</td><td>&quot; &quot;</td><td>&quot; &quot;</td><td>&quot; &quot;</td><td>&quot; &quot;</td><td>&quot; &quot;</td><td>&quot; &quot;</td><td>&quot; &quot;</td><td>&quot; &quot;</td><td>&quot;public, no restrictions&quot;</td><td>&quot; &quot;</td><td>&quot;{&quot;type&quot;:&quot;plaintext&quot;,&quot;title&quot;:&quot;U…</td><td>&quot; &quot;</td><td>&quot; &quot;</td><td>&quot; &quot;</td><td>&quot; &quot;</td><td>&quot; &quot;</td><td>&quot; &quot;</td><td>&quot; &quot;</td><td>&quot; &quot;</td><td>&quot; &quot;</td><td>&quot; &quot;</td><td>&quot; &quot;</td><td>&quot; &quot;</td><td>&quot; &quot;</td><td>&quot;Direct Messages\\DAWLDENGP&quot;</td><td>&quot; &quot;</td><td>&quot; &quot;</td><td>&quot; &quot;</td><td>&quot; &quot;</td><td>&quot; &quot;</td><td>&quot;Juul style&nbsp;&nbsp;&nbsp;&nbsp;CONFIDENTIAL&nbsp;&nbsp;NC…</td></tr><tr><td>&quot;lnmh0327&quot;</td><td>&quot; &quot;</td><td>&quot;JLI50132732&quot;</td><td>&quot;unknown&quot;</td><td>&quot; &quot;</td><td>&quot; &quot;</td><td>&quot;Jonathan Powell&quot;</td><td>&quot; &quot;</td><td>&quot; &quot;</td><td>&quot; &quot;</td><td>&quot;Jonathan Powell, Ramean Behnam&quot;</td><td>&quot; &quot;</td><td>&quot;JUUL Labs Collection&quot;</td><td>1</td><td>&quot; &quot;</td><td>&quot;Thu Sep 06 17:00:00 PDT 2018&quot;</td><td>&quot;Wed Sep 25 17:00:00 PDT 2024&quot;</td><td>&quot;Wed Sep 25 17:00:00 PDT 2024&quot;</td><td>&quot; &quot;</td><td>&quot; &quot;</td><td>&quot; &quot;</td><td>&quot; &quot;</td><td>&quot; &quot;</td><td>&quot; &quot;</td><td>&quot;State of North Carolina, ex re…</td><td>&quot;Tobacco&quot;</td><td>&quot; &quot;</td><td>&quot; &quot;</td><td>&quot; &quot;</td><td>&quot; &quot;</td><td>&quot;DAWLDENGP&quot;</td><td>&quot;Juul&quot;</td><td>&quot; &quot;</td><td>&quot; &quot;</td><td>&quot; &quot;</td><td>&quot; &quot;</td><td>&quot; &quot;</td><td>&quot; &quot;</td><td>&quot; &quot;</td><td>&quot; &quot;</td><td>&quot; &quot;</td><td>&quot; &quot;</td><td>&quot; &quot;</td><td>&quot; &quot;</td><td>&quot; &quot;</td><td>&quot; &quot;</td><td>&quot; &quot;</td><td>&quot; &quot;</td><td>&quot;public, no restrictions&quot;</td><td>&quot; &quot;</td><td>&quot;{&quot;type&quot;:&quot;plaintext&quot;,&quot;title&quot;:&quot;U…</td><td>&quot; &quot;</td><td>&quot; &quot;</td><td>&quot; &quot;</td><td>&quot; &quot;</td><td>&quot; &quot;</td><td>&quot; &quot;</td><td>&quot; &quot;</td><td>&quot; &quot;</td><td>&quot; &quot;</td><td>&quot; &quot;</td><td>&quot; &quot;</td><td>&quot; &quot;</td><td>&quot; &quot;</td><td>&quot;Direct Messages\\DAWLDENGP&quot;</td><td>&quot; &quot;</td><td>&quot; &quot;</td><td>&quot; &quot;</td><td>&quot; &quot;</td><td>&quot; &quot;</td><td>&quot;Right?&nbsp;&nbsp;&nbsp;&nbsp;CONFIDENTIAL&nbsp;&nbsp;NC-JLI…</td></tr><tr><td>&quot;mnmh0327&quot;</td><td>&quot; &quot;</td><td>&quot;JLI50132733&quot;</td><td>&quot;unknown&quot;</td><td>&quot; &quot;</td><td>&quot; &quot;</td><td>&quot;Jonathan Powell&quot;</td><td>&quot; &quot;</td><td>&quot; &quot;</td><td>&quot; &quot;</td><td>&quot;Jonathan Powell, Ramean Behnam&quot;</td><td>&quot; &quot;</td><td>&quot;JUUL Labs Collection&quot;</td><td>1</td><td>&quot; &quot;</td><td>&quot;Thu Sep 06 17:00:00 PDT 2018&quot;</td><td>&quot;Wed Sep 25 17:00:00 PDT 2024&quot;</td><td>&quot;Wed Sep 25 17:00:00 PDT 2024&quot;</td><td>&quot; &quot;</td><td>&quot; &quot;</td><td>&quot; &quot;</td><td>&quot; &quot;</td><td>&quot; &quot;</td><td>&quot; &quot;</td><td>&quot;State of North Carolina, ex re…</td><td>&quot;Tobacco&quot;</td><td>&quot; &quot;</td><td>&quot; &quot;</td><td>&quot; &quot;</td><td>&quot; &quot;</td><td>&quot;DAWLDENGP&quot;</td><td>&quot;Juul&quot;</td><td>&quot; &quot;</td><td>&quot; &quot;</td><td>&quot; &quot;</td><td>&quot; &quot;</td><td>&quot; &quot;</td><td>&quot; &quot;</td><td>&quot; &quot;</td><td>&quot; &quot;</td><td>&quot; &quot;</td><td>&quot; &quot;</td><td>&quot; &quot;</td><td>&quot; &quot;</td><td>&quot; &quot;</td><td>&quot; &quot;</td><td>&quot; &quot;</td><td>&quot; &quot;</td><td>&quot;public, no restrictions&quot;</td><td>&quot; &quot;</td><td>&quot;{&quot;type&quot;:&quot;plaintext&quot;,&quot;title&quot;:&quot;U…</td><td>&quot; &quot;</td><td>&quot; &quot;</td><td>&quot; &quot;</td><td>&quot; &quot;</td><td>&quot; &quot;</td><td>&quot; &quot;</td><td>&quot; &quot;</td><td>&quot; &quot;</td><td>&quot; &quot;</td><td>&quot; &quot;</td><td>&quot; &quot;</td><td>&quot; &quot;</td><td>&quot; &quot;</td><td>&quot;Direct Messages\\DAWLDENGP&quot;</td><td>&quot; &quot;</td><td>&quot; &quot;</td><td>&quot; &quot;</td><td>&quot; &quot;</td><td>&quot; &quot;</td><td>&quot;She said she&#x27;ll be in the main…</td></tr><tr><td>&quot;nnmh0327&quot;</td><td>&quot; &quot;</td><td>&quot;JLI50132734&quot;</td><td>&quot;unknown&quot;</td><td>&quot; &quot;</td><td>&quot; &quot;</td><td>&quot;Ramean Behnam&quot;</td><td>&quot; &quot;</td><td>&quot; &quot;</td><td>&quot; &quot;</td><td>&quot;Jonathan Powell, Ramean Behnam&quot;</td><td>&quot; &quot;</td><td>&quot;JUUL Labs Collection&quot;</td><td>1</td><td>&quot; &quot;</td><td>&quot;Thu Sep 06 17:00:00 PDT 2018&quot;</td><td>&quot;Wed Sep 25 17:00:00 PDT 2024&quot;</td><td>&quot;Wed Sep 25 17:00:00 PDT 2024&quot;</td><td>&quot; &quot;</td><td>&quot; &quot;</td><td>&quot; &quot;</td><td>&quot; &quot;</td><td>&quot; &quot;</td><td>&quot; &quot;</td><td>&quot;State of North Carolina, ex re…</td><td>&quot;Tobacco&quot;</td><td>&quot; &quot;</td><td>&quot; &quot;</td><td>&quot; &quot;</td><td>&quot; &quot;</td><td>&quot;DAWLDENGP&quot;</td><td>&quot;Juul&quot;</td><td>&quot; &quot;</td><td>&quot; &quot;</td><td>&quot; &quot;</td><td>&quot; &quot;</td><td>&quot; &quot;</td><td>&quot; &quot;</td><td>&quot; &quot;</td><td>&quot; &quot;</td><td>&quot; &quot;</td><td>&quot; &quot;</td><td>&quot; &quot;</td><td>&quot; &quot;</td><td>&quot; &quot;</td><td>&quot; &quot;</td><td>&quot; &quot;</td><td>&quot; &quot;</td><td>&quot;public, no restrictions&quot;</td><td>&quot; &quot;</td><td>&quot;{&quot;type&quot;:&quot;plaintext&quot;,&quot;title&quot;:&quot;U…</td><td>&quot; &quot;</td><td>&quot; &quot;</td><td>&quot; &quot;</td><td>&quot; &quot;</td><td>&quot; &quot;</td><td>&quot; &quot;</td><td>&quot; &quot;</td><td>&quot; &quot;</td><td>&quot; &quot;</td><td>&quot; &quot;</td><td>&quot; &quot;</td><td>&quot; &quot;</td><td>&quot; &quot;</td><td>&quot;Direct Messages\\DAWLDENGP&quot;</td><td>&quot; &quot;</td><td>&quot; &quot;</td><td>&quot; &quot;</td><td>&quot; &quot;</td><td>&quot; &quot;</td><td>&quot;I&#x27;m in London she is in SF&nbsp;&nbsp;&nbsp;&nbsp;…</td></tr><tr><td>&quot;ynmh0327&quot;</td><td>&quot; &quot;</td><td>&quot;JLI50132735&quot;</td><td>&quot;unknown&quot;</td><td>&quot; &quot;</td><td>&quot; &quot;</td><td>&quot;Jonathan Powell&quot;</td><td>&quot; &quot;</td><td>&quot; &quot;</td><td>&quot; &quot;</td><td>&quot;Jonathan Powell, Ramean Behnam&quot;</td><td>&quot; &quot;</td><td>&quot;JUUL Labs Collection&quot;</td><td>1</td><td>&quot; &quot;</td><td>&quot;Thu Sep 06 17:00:00 PDT 2018&quot;</td><td>&quot;Wed Sep 25 17:00:00 PDT 2024&quot;</td><td>&quot;Wed Sep 25 17:00:00 PDT 2024&quot;</td><td>&quot; &quot;</td><td>&quot; &quot;</td><td>&quot; &quot;</td><td>&quot; &quot;</td><td>&quot; &quot;</td><td>&quot; &quot;</td><td>&quot;State of North Carolina, ex re…</td><td>&quot;Tobacco&quot;</td><td>&quot; &quot;</td><td>&quot; &quot;</td><td>&quot; &quot;</td><td>&quot; &quot;</td><td>&quot;DAWLDENGP&quot;</td><td>&quot;Juul&quot;</td><td>&quot; &quot;</td><td>&quot; &quot;</td><td>&quot; &quot;</td><td>&quot; &quot;</td><td>&quot; &quot;</td><td>&quot; &quot;</td><td>&quot; &quot;</td><td>&quot; &quot;</td><td>&quot; &quot;</td><td>&quot; &quot;</td><td>&quot; &quot;</td><td>&quot; &quot;</td><td>&quot; &quot;</td><td>&quot; &quot;</td><td>&quot; &quot;</td><td>&quot; &quot;</td><td>&quot;public, no restrictions&quot;</td><td>&quot; &quot;</td><td>&quot;{&quot;type&quot;:&quot;plaintext&quot;,&quot;title&quot;:&quot;U…</td><td>&quot; &quot;</td><td>&quot; &quot;</td><td>&quot; &quot;</td><td>&quot; &quot;</td><td>&quot; &quot;</td><td>&quot; &quot;</td><td>&quot; &quot;</td><td>&quot; &quot;</td><td>&quot; &quot;</td><td>&quot; &quot;</td><td>&quot; &quot;</td><td>&quot; &quot;</td><td>&quot; &quot;</td><td>&quot;Direct Messages\\DAWLDENGP&quot;</td><td>&quot; &quot;</td><td>&quot; &quot;</td><td>&quot; &quot;</td><td>&quot; &quot;</td><td>&quot; &quot;</td><td>&quot;She&#x27;s in London. Promise.&nbsp;&nbsp;&nbsp;&nbsp;C…</td></tr></tbody></table></div>"
      ],
      "text/plain": [
       "shape: (5, 71)\n",
       "┌──────────┬─────┬─────────────┬─────────┬───┬──────────────┬──────────┬───────────┬───────────────┐\n",
       "│ id       ┆ tid ┆ bates       ┆ type    ┆ … ┆ timereceived ┆ timesent ┆ redaction ┆ ocr_text      │\n",
       "│ ---      ┆ --- ┆ ---         ┆ ---     ┆   ┆ ---          ┆ ---      ┆ ---       ┆ ---           │\n",
       "│ str      ┆ str ┆ str         ┆ str     ┆   ┆ str          ┆ str      ┆ str       ┆ str           │\n",
       "╞══════════╪═════╪═════════════╪═════════╪═══╪══════════════╪══════════╪═══════════╪═══════════════╡\n",
       "│ knmh0327 ┆     ┆ JLI50132731 ┆ unknown ┆ … ┆              ┆          ┆           ┆ Juul style    │\n",
       "│          ┆     ┆             ┆         ┆   ┆              ┆          ┆           ┆ CONFIDENTIAL  │\n",
       "│          ┆     ┆             ┆         ┆   ┆              ┆          ┆           ┆ NC…           │\n",
       "│ lnmh0327 ┆     ┆ JLI50132732 ┆ unknown ┆ … ┆              ┆          ┆           ┆ Right?        │\n",
       "│          ┆     ┆             ┆         ┆   ┆              ┆          ┆           ┆ CONFIDENTIAL  │\n",
       "│          ┆     ┆             ┆         ┆   ┆              ┆          ┆           ┆ NC-JLI…       │\n",
       "│ mnmh0327 ┆     ┆ JLI50132733 ┆ unknown ┆ … ┆              ┆          ┆           ┆ She said      │\n",
       "│          ┆     ┆             ┆         ┆   ┆              ┆          ┆           ┆ she'll be in  │\n",
       "│          ┆     ┆             ┆         ┆   ┆              ┆          ┆           ┆ the main…     │\n",
       "│ nnmh0327 ┆     ┆ JLI50132734 ┆ unknown ┆ … ┆              ┆          ┆           ┆ I'm in London │\n",
       "│          ┆     ┆             ┆         ┆   ┆              ┆          ┆           ┆ she is in SF  │\n",
       "│          ┆     ┆             ┆         ┆   ┆              ┆          ┆           ┆ …             │\n",
       "│ ynmh0327 ┆     ┆ JLI50132735 ┆ unknown ┆ … ┆              ┆          ┆           ┆ She's in      │\n",
       "│          ┆     ┆             ┆         ┆   ┆              ┆          ┆           ┆ London.       │\n",
       "│          ┆     ┆             ┆         ┆   ┆              ┆          ┆           ┆ Promise.      │\n",
       "│          ┆     ┆             ┆         ┆   ┆              ┆          ┆           ┆ C…            │\n",
       "└──────────┴─────┴─────────────┴─────────┴───┴──────────────┴──────────┴───────────┴───────────────┘"
      ]
     },
     "execution_count": 185,
     "metadata": {},
     "output_type": "execute_result"
    }
   ],
   "source": [
    "df_filtered.head()"
   ]
  },
  {
   "cell_type": "markdown",
   "metadata": {},
   "source": [
    "## Stitch Conversations\n",
    "Here, we will format the extracted messages into a conversational format. We will also clean the content to remove confidential information and unnecessary metadata."
   ]
  },
  {
   "cell_type": "code",
   "execution_count": 202,
   "metadata": {},
   "outputs": [],
   "source": [
    "# Stitches the conversation within box: DAWLDENGP\n",
    "import re\n",
    "\n",
    "def stitch_conversation(df: pl.DataFrame):\n",
    "    \n",
    "    conversation = []\n",
    "    for row in df.iter_rows(named=True):\n",
    "        date = row.get('document_date')\n",
    "        author = row.get('author')\n",
    "        content = row.get('ocr_text')\n",
    "        \n",
    "        # clean the content to remove CONFIDENTIAL and extra numbers so it just shows the slack message\n",
    "        cleaned_content = re.sub(r\"CONFIDENTIAL\\s+NC-JLI-Consent Judgment\\s+JL\\d+\", \"\", content).strip()\n",
    "\n",
    "        # format as Date - Author - Content\n",
    "        conversation.append(f\"{date} -- {author} -- {cleaned_content}\\n\")\n",
    "\n",
    "    return \"\\n\".join(conversation)\n"
   ]
  },
  {
   "cell_type": "code",
   "execution_count": 203,
   "metadata": {},
   "outputs": [
    {
     "name": "stdout",
     "output_type": "stream",
     "text": [
      "Thu Sep 06 17:00:00 PDT 2018 -- Ramean Behnam -- Juul style\n",
      "\n",
      "Thu Sep 06 17:00:00 PDT 2018 -- Jonathan Powell -- Right?\n",
      "\n",
      "Thu Sep 06 17:00:00 PDT 2018 -- Jonathan Powell -- She said she'll be in the main office in -20 min\n",
      "\n",
      "Thu Sep 06 17:00:00 PDT 2018 -- Ramean Behnam -- I'm in London she is in SF\n",
      "\n",
      "Thu Sep 06 17:00:00 PDT 2018 -- Jonathan Powell -- She's in London. Promise.\n",
      "\n",
      "Sun Sep 09 17:00:00 PDT 2018 -- Ramean Behnam -- What's up man.. . . I'm trying to do age verification for my account but it doesn't want to accept my ID. says  failed to upload. any ideas?\n",
      "\n",
      "Sun Sep 09 17:00:00 PDT 2018 -- Jonathan Powell -- N000! I've heard of other people having that problem. I don't know what causes it.    CONFIDENTIAL  NC-JLI-Consent Judgment    I'll Slack Eadon.    JL150132737\n",
      "\n",
      "Sun Sep 09 17:00:00 PDT 2018 -- Ramean Behnam -- Thanks. It's a small file and everything lol\n",
      "\n",
      "Sun Sep 09 17:00:00 PDT 2018 -- Jonathan Powell -- Are you able to proceed w/o uploading an image?    If you enter all your information correctly, I can approve you    regardless.\n",
      "\n",
      "Sun Sep 09 17:00:00 PDT 2018 -- Jonathan Powell -- Is    it    a    PDF?\n",
      "\n",
      "Sun Sep 09 17:00:00 PDT 2018 -- Jonathan Powell -- (Eadon asks)\n",
      "\n",
      "Sun Sep 09 17:00:00 PDT 2018 -- Ramean Behnam -- its    a pdf\n",
      "\n",
      "Sun Sep 09 17:00:00 PDT 2018 -- Ramean Behnam -- my info is there but it said cannot verify based on addres\n",
      "\n",
      "Sun Sep 09 17:00:00 PDT 2018 -- Jonathan Powell -- Sure, sure.\n",
      "\n",
      "Sun Sep 09 17:00:00 PDT 2018 -- Jonathan Powell -- Upload a png/jpg, can you do that?\n",
      "\n",
      "Wed Nov 28 16:00:00 PST 2018 -- Ramean Behnam -- when you take the photos maybe we should add a tag to the file folders\n",
      "\n",
      "Wed Nov 28 16:00:00 PST 2018 -- Ramean Behnam -- do like a (CF) when you know they are counterfeit\n",
      "\n",
      "Wed Nov 28 16:00:00 PST 2018 -- Ramean Behnam -- I am suspecting we will start getting mixed products so some will be real and others fake\n",
      "\n",
      "Wed Nov 28 16:00:00 PST 2018 -- Jonathan Powell -- Ah! Of course!\n",
      "\n",
      "Wed Nov 28 16:00:00 PST 2018 -- Jonathan Powell -- I've already had that happen with an authentic SK with fake RKs.    I'll go through and update them until Sophie    gets back.\n",
      "\n",
      "Wed Nov 28 16:00:00 PST 2018 -- Ramean Behnam -- thanks\n",
      "\n",
      "Wed Nov 28 16:00:00 PST 2018 -- Jonathan Powell -- It is done and will continue to be done in the future.\n",
      "\n",
      "Wed Nov 28 16:00:00 PST 2018 -- Ramean Behnam -- thank you sir\n",
      "\n",
      "Thu Nov 29 16:00:00 PST 2018 -- Jonathan Powell -- Is the Sunoco gas station @ 5015 Livernois Ave Detroit, Michigan 48210 an authorized retailer?\n",
      "\n",
      "Thu Nov 29 16:00:00 PST 2018 -- Ramean Behnam -- do you have salesforce access?\n",
      "\n",
      "Thu Nov 29 16:00:00 PST 2018 -- Jonathan Powell -- I    do not.\n",
      "\n",
      "Thu Nov 29 16:00:00 PST 2018 -- Ramean Behnam -- k remind me to get that for you\n",
      "\n",
      "Thu Nov 29 16:00:00 PST 2018 -- Ramean Behnam -- Yes they are authorized..\n",
      "\n",
      "Thu Nov 29 16:00:00 PST 2018 -- Ramean Behnam -- why did it come in to us? very minimal orders.. like $50 worth at a time\n",
      "\n",
      "Thu Nov 29 16:00:00 PST 2018 -- Jonathan Powell -- Perfect. And I will. \"While meeting with a confidential informant, LSS consulting Investigator Ned Timmons  received a tip that the gas station located at (address) was selling counterfeit goods. On (date), Timmons and  the informant went inside to make random buys, one of which was a JUUL starter pack. The starter pack was listed  at $44.99\"\n",
      "\n",
      "Thu Nov 29 16:00:00 PST 2018 -- Ramean Behnam -- thank you sir. I will see you tomorrow\n",
      "\n",
      "Thu Nov 29 16:00:00 PST 2018 -- Jonathan Powell -- Who handles reimbursing IC and LSS for their buys? Are you able to confirm how much was paid for a particular  case?\n",
      "\n",
      "Thu Nov 29 16:00:00 PST 2018 -- Ramean Behnam -- sometimes I get invoices other times they go to AP\n",
      "\n",
      "Thu Nov 29 16:00:00 PST 2018 -- Ramean Behnam -- but its done through AP for payment\n",
      "\n",
      "Thu Nov 29 16:00:00 PST 2018 -- Jonathan Powell -- Ok. I only ask because they made a buy from New Zealand, and on the cover letter they said they paid $254.98,  but that's in NZD. Would be $173 USD. The receipt makes it clear, though. I'm sure it's fine.\n",
      "\n",
      "Thu Nov 29 16:00:00 PST 2018 -- Ramean Behnam -- Thanks.. I'm sure AP will look at it\n",
      "\n",
      "Fri Nov 30 16:00:00 PST 2018 -- Jonathan Powell -- Compatible pods re-bagged in ziplock and double checked!\n",
      "\n",
      "Fri Nov 30 16:00:00 PST 2018 -- Ramean Behnam -- Excellent. Thank you.\n",
      "\n",
      "Sun Dec 02 16:00:00 PST 2018 -- Jonathan Powell -- I believe I still don't have Salesforce.    Is Z-Cell in GA an authorized retailer? 2053 Mountain Industrial Blvd,    Tucker, GA 30084. I see you created the Scout for that chain, but LSS never went to the address you listed under  Infringement Contact: 1707 Church St #C1 Decatur, Georgia 30033 United States This Dr. Pepper is delicious\n",
      "\n",
      "Mon Dec 03 16:00:00 PST 2018 -- Jonathan Powell -- If one store (Saint Black Lab) has 2 scout cases (one for BP, one for IP), should I update the buy in both?\n",
      "\n",
      "Mon Dec 03 16:00:00 PST 2018 -- Ramean Behnam -- Ya it    cant    hurt\n",
      "\n",
      "Mon Dec 03 16:00:00 PST 2018 -- Jonathan Powell -- :skin-tone-2:\n",
      "\n",
      "Tue Dec 04 16:00:00 PST 2018 -- Jonathan Powell -- The guy to install the deadbolt is here in 5 min and Ryan and Adrian haven't finished.\n",
      "\n",
      "Tue Dec 04 16:00:00 PST 2018 -- Ramean Behnam -- just tell them the guy is going to work while they talk\n",
      "\n",
      "Tue Dec 04 16:00:00 PST 2018 -- Jonathan Powell -- \n",
      "\n",
      "Tue Dec 04 16:00:00 PST 2018 -- Jonathan Powell -- Would you like a combination box to hold a key for the deadbolt?\n",
      "\n",
      "Tue Dec 04 16:00:00 PST 2018 -- Jonathan Powell -- And, where's it going to be kept? Want it installed on the wall in the workspace?\n",
      "\n",
      "Wed Dec 05 16:00:00 PST 2018 -- Jonathan Powell -- May I have Salesforce to check if retailers are authorized?\n",
      "\n",
      "Sun Dec 09 16:00:00 PST 2018 -- Ramean Behnam -- You should have salesforce access now.\n",
      "\n",
      "Sun Dec 09 16:00:00 PST 2018 -- Jonathan Powell -- I sure do.    Vince and I thank you.\n",
      "\n",
      "Mon Dec 10 16:00:00 PST 2018 -- Ramean Behnam -- Do we have any UK product in evidence?\n",
      "\n",
      "Mon Dec 10 16:00:00 PST 2018 -- Jonathan Powell -- Not until Thursday\n",
      "\n",
      "Mon Dec 10 16:00:00 PST 2018 -- Ramean Behnam -- ok\n",
      "\n",
      "Tue Dec 11 16:00:00 PST 2018 -- Ramean Behnam -- Hey Jonathan. Who have you been communicating with in IT to get what you need?\n",
      "\n",
      "Tue Dec 11 16:00:00 PST 2018 -- Jonathan Powell -- Creating a ticket with helpdesk@juul\n",
      "\n",
      "Tue Jan 08 16:00:00 PST 2019 -- Ramean Behnam -- Sophi might know\n",
      "\n",
      "Tue Jan 08 16:00:00 PST 2019 -- Jonathan Powell -- Thanks for responding. I'll get to the bottom of this. You enjoy your evening.\n",
      "\n",
      "Tue Jan 08 16:00:00 PST 2019 -- Jonathan Powell -- :skin-tone-2:\n",
      "\n",
      "Tue Jan 08 16:00:00 PST 2019 -- Ramean Behnam -- do you know any details about case 2737.. where it came from etc\n",
      "\n",
      "Tue Jan 08 16:00:00 PST 2019 -- Jonathan Powell -- Negative. Ryan had been holding onto it for a while and finally gave it to me. I know nothing of its history.\n",
      "\n",
      "Tue Jan 08 16:00:00 PST 2019 -- Ramean Behnam -- got it\n",
      "\n",
      "Wed Jan 09 16:00:00 PST 2019 -- Jonathan Powell -- Is the AFG case (authentic product) even gray market? I will wait to update scout until I receive your  guidance.\n",
      "\n",
      "Wed Jan 09 16:00:00 PST 2019 -- Ramean Behnam -- I think the afg you have is different than our manufacturer. However given the similarities in the name I'd like  to look at it some more\n",
      "\n",
      "Wed Jan 09 16:00:00 PST 2019 -- Ramean Behnam -- G0321CG-2\n",
      "\n",
      "Wed Jan 09 16:00:00 PST 2019 -- Ramean Behnam -- can you look that up\n",
      "\n",
      "Wed Jan 09 16:00:00 PST 2019 -- Jonathan Powell -- Oh, right! Serial. I was looking in Scout. One sec.\n",
      "\n",
      "Wed Jan 09 16:00:00 PST 2019 -- Jonathan Powell -- The site is loading a tad slowly\n",
      "\n",
      "Wed Jan 09 16:00:00 PST 2019 -- Ramean Behnam -- it doesn't even work for me\n",
      "\n",
      "Wed Jan 09 16:00:00 PST 2019 -- Jonathan Powell -- Or at    all\n",
      "\n",
      "Wed Jan 09 16:00:00 PST 2019 -- Ramean Behnam -- lol\n",
      "\n",
      "Wed Mar 20 17:00:00 PDT 2019 -- Ramean Behnam -- Yes pls\n",
      "\n",
      "Sun Mar 24 17:00:00 PDT 2019 -- Jonathan Powell -- Is the serial number look-up page in Solidus working for you?\n",
      "\n",
      "Sun Mar 24 17:00:00 PDT 2019 -- Jonathan Powell -- I'm an idiot. It's fine.\n",
      "\n",
      "Sun Mar 24 17:00:00 PDT 2019 -- Jonathan Powell -- <a  href=\"https://www.juul.com/admin/serial_number/devices/lookup-by-serial-numbers\">https://www.juul.com/admin/se  ria l_n umb er/ dev ice s/1 ook up- by- ser ial -nu mbe rs< /a>\n",
      "\n",
      "Sun Mar 24 17:00:00 PDT 2019 -- Ramean Behnam -- lol\n",
      "\n",
      "Sun Mar 24 17:00:00 PDT 2019 -- Jonathan Powell -- It    works\n",
      "\n",
      "Sun Mar 24 17:00:00 PDT 2019 -- Ramean Behnam -- cool\n",
      "\n",
      "Sun Mar 24 17:00:00 PDT 2019 -- Ramean Behnam -- sn.juul was the old one\n",
      "\n",
      "Mon Mar 25 17:00:00 PDT 2019 -- Ramean Behnam -- Hi Jonathan. Do you know what \"purchase date\" you have processed through on those secret shops? Annie sent me  the complete list of shops but they are up to yesterday which I know is not representative of what you've sorted  through\n",
      "\n",
      "Mon Mar 25 17:00:00 PDT 2019 -- Jonathan Powell -- I don't because they come from all over the country? I'll look up the tracking # of the last one I opened.\n",
      "\n",
      "Mon Mar 25 17:00:00 PDT 2019 -- Jonathan Powell -- 3/15/19\n",
      "\n",
      "Mon Mar 25 17:00:00 PDT 2019 -- Ramean Behnam -- Thank you\n",
      "\n",
      "Mon Mar 25 17:00:00 PDT 2019 -- Jonathan Powell -- :skin-tone-2: (+1::skin-tone-2)\n",
      "\n",
      "Sun Mar 31 17:00:00 PDT 2019 -- Jonathan Powell -- He JUST walked in!! !\n",
      "\n",
      "Sun Mar 31 17:00:00 PDT 2019 -- Ramean Behnam -- lol\n",
      "\n",
      "Tue Apr 23 17:00:00 PDT 2019 -- Ramean Behnam -- at your earliest convenience.. don't need it right now\n",
      "\n",
      "Tue Apr 23 17:00:00 PDT 2019 -- Jonathan Powell -- Was the second thing I sent what you were looking for?\n",
      "\n",
      "Tue Apr 23 17:00:00 PDT 2019 -- Ramean Behnam -- no it wasn't. it was like a word document that had notes in it that dino put together\n",
      "\n",
      "Tue Apr 23 17:00:00 PDT 2019 -- Jonathan Powell -- The third thing?\n",
      "\n",
      "Tue Apr 23 17:00:00 PDT 2019 -- Ramean Behnam -- That's it. Thank you\n",
      "\n",
      "Tue Apr 23 17:00:00 PDT 2019 -- Jonathan Powell -- God, FINALLY Jonathan!!\n",
      "\n",
      "Tue Apr 23 17:00:00 PDT 2019 -- Jonathan Powell -- I had never even really looked at that doc, which is why I couldn't figure it out.\n",
      "\n",
      "Tue Apr 23 17:00:00 PDT 2019 -- Ramean Behnam -- Haha. Thanks for looking\n",
      "\n",
      "Tue May 07 17:00:00 PDT 2019 -- Ramean Behnam -- HI Jonathan. Question. Do you have an idea of the number of counterfeits identified from bulk purchase as it  relates to purchases done in Georgia    HIGHLY\n",
      "\n",
      "Tue May 07 17:00:00 PDT 2019 -- Jonathan Powell -- 2 CF from Georgia.    HIGHLY\n",
      "\n",
      "Tue May 07 17:00:00 PDT 2019 -- Ramean Behnam -- thank    you    HIGHLY\n",
      "\n",
      "Tue May 07 17:00:00 PDT 2019 -- Jonathan Powell -- :skin-tone-2: (+1::skin-tone-2)    HIGHLY\n",
      "\n",
      "Tue May 07 17:00:00 PDT 2019 -- Ramean Behnam -- sorry to bug you but on that bulk purchase from georgia that is confirmed counterfeit.. do you know how many  products were analyzed to ascertain the 2 CF\"s    HIGHLY\n",
      "\n",
      "Tue May 07 17:00:00 PDT 2019 -- Jonathan Powell -- It's always 6 per location    HIGHLY\n",
      "\n",
      "Tue May 07 17:00:00 PDT 2019 -- Jonathan Powell -- Is that enough info?    HIGHLY\n",
      "\n",
      "Tue May 07 17:00:00 PDT 2019 -- Ramean Behnam -- and those 2 counterfeits date back to the start of the program in January?    HIGHLY\n",
      "\n",
      "Tue May 07 17:00:00 PDT 2019 -- Jonathan Powell -- One was purchased 4/6/19 and the other on 1/17/19    HIGHLY\n",
      "\n",
      "Tue May 07 17:00:00 PDT 2019 -- Ramean Behnam -- thank you sir    HIGHLY\n",
      "\n",
      "Fri Oct 04 17:00:00 PDT 2019 -- Jonathan Powell -- Totally. I have zero time to spare for bulk purchase. It might be better once it's all done in Scout (product  identification). I'll still probably work on PPT while on leave.    HIGHLY CONFIDENTIAL  NC-JLI-Consent Judgment    JLI50132897\n",
      "\n",
      "Mon Oct 07 17:00:00 PDT 2019 -- Ramean Behnam -- Hi Jonathan. Do you know of the package arrived yesterday with the eonsmoke devices?    HIGHLY CONFIDENTIAL  NC-JLI-Consent Judgment    JLI50132900\n",
      "\n",
      "Mon Oct 07 17:00:00 PDT 2019 -- Ramean Behnam -- I never got a notification but I think they also put your name on it    HIGHLY CONFIDENTIAL  NC-JLI-Consent Judgment    JLI50132901\n",
      "\n",
      "Mon Oct 07 17:00:00 PDT 2019 -- Jonathan Powell -- Asia just came back from Shipping. Nothing from Vaudra. It *was* Vaudra that bought and sent them, right?    HIGHLY CONFIDENTIAL  NC-JLI-Consent Judgment    JLI50132902\n",
      "\n",
      "Mon Oct 07 17:00:00 PDT 2019 -- Ramean Behnam -- Yes. Thanks for checking.    CONFIDENTIAL  NC-JLI-Consent Judgment    JLI50132903\n",
      "\n",
      "Wed Oct 09 17:00:00 PDT 2019 -- Jonathan Powell -- Do you think anyone knows what happens to Mint packaging colors if they're, say, a \"window display\" and exposed  to the sun almost all day every day? Do you think there's any reason for it to turn blue? I'm going to bcc you  in an email just for fun. What are you going to make me do with the Eonsmoke devices once they arrive?    HIGHLY CONFIDENTIAL  NC-JLI-Consent Judgment    JLI50132904\n",
      "\n",
      "Wed Oct 09 17:00:00 PDT 2019 -- Ramean Behnam -- Ya I don't know how the pigment would change but I'm assuming it would.    I need to send 10 of the devices to    the metrology lab to be inspected.    HIGHLY CONFIDENTIAL  NC-JLI-Consent Judgment    JLI50132905\n",
      "\n",
      "Sun Jan 13 16:00:00 PST 2019 -- Ramean Behnam -- <a href=\"http://juul.com/admin\">juul.com/admin</a>\n",
      "\n",
      "Sun Jan 13 16:00:00 PST 2019 -- Jonathan Powell -- I see. It's in Solidus. Cool\n",
      "\n",
      "Tue Jan 15 16:00:00 PST 2019 -- Ramean Behnam -- you sure that is real?\n",
      "\n",
      "Tue Jan 15 16:00:00 PST 2019 -- Jonathan Powell -- Yeah. Serial checks out. It has the right texture. USB was slate inside with the bump in the cap. We were 1:1\n",
      "\n",
      "Tue Jan 15 16:00:00 PST 2019 -- Ramean Behnam -- oh you actually had it in your possession? I thought that was just an image\n",
      "\n",
      "Tue Jan 15 16:00:00 PST 2019 -- Jonathan Powell -- No, I gave her instructions and she gave me the photos.\n",
      "\n",
      "Tue Jan 15 16:00:00 PST 2019 -- Ramean Behnam -- ah.. . that grey bar looked really dark in the picture\n",
      "\n",
      "Tue Jan 15 16:00:00 PST 2019 -- Jonathan Powell -- I know, I know. That's why I wanted more information. I checked the serial # and it's a legacy blue device.\n",
      "\n",
      "Tue Jan 15 16:00:00 PST 2019 -- Jonathan Powell -- It was dark, but the font was right.\n",
      "\n",
      "Sun Jan 20 16:00:00 PST 2019 -- Ramean Behnam -- working today?\n",
      "\n",
      "Sun Jan 20 16:00:00 PST 2019 -- Jonathan Powell -- Yeah. Stacey Neuhaus gave me a box full of compatibles on Friday that I've got to sort, separate,  record, and photograph.\n",
      "\n",
      "Sun Jan 20 16:00:00 PST 2019 -- Ramean Behnam -- \n",
      "\n",
      "Sun Jan 20 16:00:00 PST 2019 -- Ramean Behnam -- if you go to shipping we have packages down there. Nothing important so don't go out of your way\n",
      "\n",
      "Sun Jan 20 16:00:00 PST 2019 -- Ramean Behnam -- haha.. . you just go go go\n",
      "\n",
      "Sun Jan 20 16:00:00 PST 2019 -- Ramean Behnam -- thanks    man\n",
      "\n",
      "Sun Jan 20 16:00:00 PST 2019 -- Jonathan Powell -- You got it. Want it in 244 or is by your desk ok?\n",
      "\n",
      "Sun Jan 20 16:00:00 PST 2019 -- Ramean Behnam -- 244.. it's our wall decor for the secret lair\n",
      "\n",
      "Sun Jan 20 16:00:00 PST 2019 -- Jonathan Powell -- Oh, cool! Can I open it?\n",
      "\n",
      "Sun Jan 20 16:00:00 PST 2019 -- Ramean Behnam -- maps on maps on maps\n",
      "\n",
      "Sun Jan 20 16:00:00 PST 2019 -- Ramean Behnam -- \n",
      "\n",
      "Sun Jan 20 16:00:00 PST 2019 -- Ramean Behnam -- hope they're nice. Can only tell so much from a thumbnail on amazon\n",
      "\n",
      "Sun Jan 20 16:00:00 PST 2019 -- Jonathan Powell -- Some counterfeit pods for scale\n",
      "\n",
      "Sun Jan 20 16:00:00 PST 2019 -- Jonathan Powell -- AleCr/C    OCEAN    No r w    61 ,    ATLANTIC  OCEAN    PA    C/F/C    OCEAN  riot*  Ow.    'Arabia.    ATLANTIC    CIIILE    OCEAN  PACIFIC    The    World    OCEAN    CONTEMPORARY ELITE  Miller Projection  0  l  a  /    500  I    tow    1,000 MI    1    2000 KM    with RMC USA  el... , swernsps am', - A Cooperative    801;7• SW'FLAND    .HERN OCEAN  CONFIDENTIAL  NC-JLI-Consent Judgment    LND,NBI 1+110  •,    JLI50358899\n",
      "\n",
      "Sun Jan 20 16:00:00 PST 2019 -- Ramean Behnam -- looks nice.. . looks big!! !\n",
      "\n",
      "Sun Jan 20 16:00:00 PST 2019 -- Jonathan Powell -- Sure is. I think you can dry erase marker it up, too.\n",
      "\n",
      "Sun Jan 20 16:00:00 PST 2019 -- Ramean Behnam -- that's why I got a laminated version so we can write on it\n",
      "\n",
      "Mon Jan 21 16:00:00 PST 2019 -- Ramean Behnam -- Morning. Can you kick on that heater please? I think I'll be in there today. Thanks\n",
      "\n",
      "Mon Jan 21 16:00:00 PST 2019 -- Jonathan Powell -- \n",
      "\n",
      "Mon Jan 21 16:00:00 PST 2019 -- Jonathan Powell -- Whoops, sorry about yelling. Caps was on.\n",
      "\n",
      "Mon Jan 21 16:00:00 PST 2019 -- Ramean Behnam -- Lol\n",
      "\n"
     ]
    }
   ],
   "source": [
    "conversation = stitch_conversation(df_filtered)\n",
    "print(conversation)"
   ]
  },
  {
   "cell_type": "markdown",
   "metadata": {},
   "source": [
    "## Save the Conversation to a Text File\n",
    "Finally, we save the stitched conversation into a text file for further analysis or archiving."
   ]
  },
  {
   "cell_type": "code",
   "execution_count": 201,
   "metadata": {},
   "outputs": [],
   "source": [
    "# save as text file\n",
    "def save_conversation_to_file(df:pl.DataFrame, output_file: str):\n",
    "    conversation = stitch_conversation(df)\n",
    "    with open(output_file, 'w', encoding='utf-8') as file:\n",
    "        file.write(conversation)\n",
    "\n",
    "save_conversation_to_file(df_filtered, f\"chat_{df_filtered['box'][0]}.txt\")"
   ]
  }
 ],
 "metadata": {
  "kernelspec": {
   "display_name": "base",
   "language": "python",
   "name": "python3"
  },
  "language_info": {
   "codemirror_mode": {
    "name": "ipython",
    "version": 3
   },
   "file_extension": ".py",
   "mimetype": "text/x-python",
   "name": "python",
   "nbconvert_exporter": "python",
   "pygments_lexer": "ipython3",
   "version": "3.12.7"
  }
 },
 "nbformat": 4,
 "nbformat_minor": 2
}
