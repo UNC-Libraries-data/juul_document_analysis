{
 "cells": [
  {
   "cell_type": "markdown",
   "metadata": {},
   "source": [
    "1. **Visit UCSF's Industry Docs Research Dataset Box and download the JUUL Collections Zipfile. [Here is the link to the JUUL Labs Collection](https://ucsf.app.box.com/v/IDL-DataSets/file/1447029625798)**\n",
    "\n",
    "    You will want to download the zipped folder in the same directory you're programming in."
   ]
  },
  {
   "cell_type": "markdown",
   "metadata": {},
   "source": [
    "If you haven't installed the Python wrapper for the Indsutry Documents API, then you can uncomment the following code block. Visit the [Github page](https://github.com/UNC-Libraries/UCSF-Industry-Docs-API-Python-Wrapper) to learn more about the it "
   ]
  },
  {
   "cell_type": "code",
   "execution_count": null,
   "metadata": {},
   "outputs": [],
   "source": [
    "#!pip install industryDocumentsWrapper"
   ]
  },
  {
   "cell_type": "code",
   "execution_count": 1,
   "metadata": {},
   "outputs": [],
   "source": [
    "import re\n",
    "import os\n",
    "import polars as pl\n",
    "import pandas as pd\n",
    "import zipfile\n",
    "from industryDocumentsWrapper.ucsf_api import IndustryDocsSearch"
   ]
  },
  {
   "cell_type": "markdown",
   "metadata": {},
   "source": [
    "2. **Use IndustryDocumentWrapper to get metadata**\n",
    "\n",
    "    We're going to query the database using the Python wrapper for the UCSF Industry Documents API. The result of the query will give us IDs we need to pull the ocr text from the downloaded zipped folder. "
   ]
  },
  {
   "cell_type": "code",
   "execution_count": 2,
   "metadata": {},
   "outputs": [
    {
     "name": "stdout",
     "output_type": "stream",
     "text": [
      "100/500 documents collected\n",
      "200/500 documents collected\n",
      "300/500 documents collected\n",
      "400/500 documents collected\n",
      "500/500 documents collected\n"
     ]
    }
   ],
   "source": [
    "wrapper = IndustryDocsSearch()\n",
    "wrapper.query( \n",
    "              industry='tobacco', \n",
    "              case='State of North Carolina',\n",
    "              collection='JUUL labs Collection',\n",
    "              doc_type='email',\n",
    "              n=500)\n",
    "wrapper.save('query_results.json', format='json')"
   ]
  },
  {
   "cell_type": "markdown",
   "metadata": {},
   "source": [
    "**4. Load the saved results into a Polars dataframe.**"
   ]
  },
  {
   "cell_type": "code",
   "execution_count": 11,
   "metadata": {},
   "outputs": [],
   "source": [
    "docs_df = pl.read_json('query_results.json')"
   ]
  },
  {
   "cell_type": "markdown",
   "metadata": {},
   "source": [
    "Here is a sample of what the data from the wrapper looks like."
   ]
  },
  {
   "cell_type": "code",
   "execution_count": 16,
   "metadata": {},
   "outputs": [
    {
     "data": {
      "text/html": [
       "<div><style>\n",
       ".dataframe > thead > tr,\n",
       ".dataframe > tbody > tr {\n",
       "  text-align: right;\n",
       "  white-space: pre-wrap;\n",
       "}\n",
       "</style>\n",
       "<small>shape: (3, 26)</small><table border=\"1\" class=\"dataframe\"><thead><tr><th>id</th><th>collection</th><th>collectioncode</th><th>custodian</th><th>availability</th><th>source</th><th>datesent</th><th>redactedby</th><th>datereceived</th><th>filename</th><th>filepath</th><th>case</th><th>title</th><th>author</th><th>documentdate</th><th>type</th><th>pages</th><th>recipient</th><th>brand</th><th>bates</th><th>redacted</th><th>dateaddeducsf</th><th>url</th><th>topic</th><th>copied</th><th>attachment</th></tr><tr><td>str</td><td>list[str]</td><td>list[str]</td><td>list[str]</td><td>list[str]</td><td>str</td><td>str</td><td>list[str]</td><td>str</td><td>str</td><td>list[str]</td><td>list[str]</td><td>str</td><td>list[str]</td><td>str</td><td>list[str]</td><td>i64</td><td>list[str]</td><td>list[str]</td><td>str</td><td>str</td><td>str</td><td>str</td><td>str</td><td>list[str]</td><td>list[str]</td></tr></thead><tbody><tr><td>&quot;fkmp0290&quot;</td><td>[&quot;JUUL Labs Collection&quot;]</td><td>[&quot;juul&quot;]</td><td>[&quot;Vose, Josh&quot;]</td><td>[&quot;public&quot;, &quot;no restrictions&quot;]</td><td>&quot;[{&quot;type&quot;:&quot;plaintext&quot;,&quot;title&quot;:&quot;…</td><td>&quot;2018 August 21&quot;</td><td>[&quot;UCSF&quot;]</td><td>null</td><td>&quot;RE: PROT-00008 DM Agenda Topic…</td><td>[&quot;\\Vose, Josh\\Josh_Vose_GDrive_1-1-2019_to_9-30-2019_0\\Sent_1Mg5PnITKFIsTo7J_IVX-acdFzQIa3nia.mbox\\RE: PROT-00008 DM Agenda Topics &amp; Metrics- 24 AUG 18&quot;, &quot;\\Vose, Josh\\Josh_Vose_GDrive_1-1-2019_to_9-30-2019_0\\Archived_1Nqvm9J4d1UKDnmJgqX9zuBeMSI1JtVOS.mbox\\RE: PROT-00008 DM Agenda Topics &amp; Metrics- 24 AUG 18&quot;]</td><td>[&quot;State of North Carolina, ex rel. Joshua H. Stein, Attorney General,&nbsp;&nbsp;v. JUUL Labs, Inc&quot;]</td><td>&quot;RE: PROT-00008 DM Agenda Topic…</td><td>[&quot;Scott Stange &lt;sstange@araonline.net&gt;&quot;]</td><td>&quot;2018 August 21&quot;</td><td>[&quot;email&quot;]</td><td>3</td><td>[&quot;Ann Suhadolnik &lt;asuhadolnik@juul.com&gt;&quot;, &quot;Srinivasa Batchu &lt;srinivasa@juul.com&gt;&quot;, … &quot;Maria Walters &lt;maria@juul.com&gt;&quot;]</td><td>[&quot;Juul&quot;]</td><td>&quot;JLI09513077&quot;</td><td>&quot;yes&quot;</td><td>&quot;2024 February 29&quot;</td><td>&quot;https://www.industrydocuments.…</td><td>null</td><td>[&quot;Ben Adeyi &lt;badeyi@juul.com&gt;&quot;, &quot;Concetta Carbonaro &lt;concetta@juul.com&gt;&quot;, … &quot;Lauren Intagliata &lt;lintagliata@araonline.net&gt;&quot;]</td><td>null</td></tr><tr><td>&quot;fncw0300&quot;</td><td>[&quot;JUUL Labs Collection&quot;]</td><td>[&quot;juul&quot;]</td><td>[&quot;Burbidge, Cole&quot;]</td><td>[&quot;public&quot;, &quot;no restrictions&quot;]</td><td>&quot;[{&quot;type&quot;:&quot;plaintext&quot;,&quot;title&quot;:&quot;…</td><td>&quot;2019 March 05&quot;</td><td>null</td><td>&quot;2019 March 05&quot;</td><td>null</td><td>[&quot;\\Burbidge, Cole\\Cole Burbidge_Email\\Cole_Burbidge_Email_cburbidge@juul.com_0.pst\\Top of Personal Folders\\Inbox\\Automatic reply: Suggestions for data collection&quot;]</td><td>[&quot;State of North Carolina, ex rel. Joshua H. Stein, Attorney General,&nbsp;&nbsp;v. JUUL Labs, Inc&quot;]</td><td>&quot;Automatic reply: Suggestions f…</td><td>[&quot;Calogera McCormick on behalf of Calogera McCormick &lt;calogera.mccormick©synchrogenix.com&gt;&quot;]</td><td>&quot;2019 March 05&quot;</td><td>[&quot;email&quot;]</td><td>1</td><td>[&quot;Cole Burbidge&quot;]</td><td>[&quot;Juul&quot;]</td><td>&quot;JLI08275701&quot;</td><td>&quot;yes&quot;</td><td>&quot;2024 April 25&quot;</td><td>&quot;https://www.industrydocuments.…</td><td>null</td><td>null</td><td>null</td></tr><tr><td>&quot;fffn0291&quot;</td><td>[&quot;JUUL Labs Collection&quot;]</td><td>[&quot;juul&quot;]</td><td>[&quot;Sillin, Nat&quot;]</td><td>[&quot;public&quot;, &quot;no restrictions&quot;]</td><td>&quot;[{&quot;type&quot;:&quot;plaintext&quot;,&quot;title&quot;:&quot;…</td><td>&quot;2019 April 22&quot;</td><td>[&quot;UCSF&quot;]</td><td>null</td><td>&quot;Re: Signature gathering&quot;</td><td>[&quot;\\Sillin, Nat\\Nat Sillin_Email_4-1-2019 to 4-1-2020\\Nat_Sillin_Email_4-1-2019_to_4-1-2020--nat@juul.com_0 .mbox\\1631644364172841357-4ef8cc17-9ac3-42f3-b6e3-4f4de50c3daf.mbox.eml\\Re: Signature gathering&quot;, &quot;\\Sillin, Nat\\Nathaniel Sillin_Email_2-1-2019 through 4-30-2019\\Nathaniel_Sillin_Email_2-1-2019_through_4-30-2019--nat@juul.com_0 .mbox\\1631644364172841357-c1b7a267-9a56-4a58-b5bd-2f761dc9089c.mbox.eml\\Re: Signature gathering&quot;, &quot;\\Sillin, Nat\\Nathaniel_Sillin_Email_4-4-2019_to_8-12-2019_nat@juul.com_0 .mbox\\1631644364172841357-67c42dc1-20b4-4020-aaa5-883c49ce235c.mbox.eml\\Re: Signature gathering&quot;]</td><td>[&quot;State of North Carolina, ex rel. Joshua H. Stein, Attorney General,&nbsp;&nbsp;v. JUUL Labs, Inc&quot;]</td><td>&quot;Re: Signature gathering&quot;</td><td>[&quot;John Whitehurst &lt;johnw@bmwl.net&gt;&quot;]</td><td>&quot;2019 April 22&quot;</td><td>[&quot;email&quot;]</td><td>2</td><td>[&quot;Nat Sillin &lt;nat@juul.com&gt;&quot;]</td><td>[&quot;Juul&quot;]</td><td>&quot;JLI09048249&quot;</td><td>&quot;yes&quot;</td><td>&quot;2024 March 28&quot;</td><td>&quot;https://www.industrydocuments.…</td><td>null</td><td>[&quot;Mark Mosher &lt;markm@bmwl.net&gt;&quot;]</td><td>null</td></tr></tbody></table></div>"
      ],
      "text/plain": [
       "shape: (3, 26)\n",
       "┌──────────┬────────────┬────────────┬────────────┬───┬────────────┬───────┬───────────┬───────────┐\n",
       "│ id       ┆ collection ┆ collection ┆ custodian  ┆ … ┆ url        ┆ topic ┆ copied    ┆ attachmen │\n",
       "│ ---      ┆ ---        ┆ code       ┆ ---        ┆   ┆ ---        ┆ ---   ┆ ---       ┆ t         │\n",
       "│ str      ┆ list[str]  ┆ ---        ┆ list[str]  ┆   ┆ str        ┆ str   ┆ list[str] ┆ ---       │\n",
       "│          ┆            ┆ list[str]  ┆            ┆   ┆            ┆       ┆           ┆ list[str] │\n",
       "╞══════════╪════════════╪════════════╪════════════╪═══╪════════════╪═══════╪═══════════╪═══════════╡\n",
       "│ fkmp0290 ┆ [\"JUUL     ┆ [\"juul\"]   ┆ [\"Vose,    ┆ … ┆ https://ww ┆ null  ┆ [\"Ben     ┆ null      │\n",
       "│          ┆ Labs Colle ┆            ┆ Josh\"]     ┆   ┆ w.industry ┆       ┆ Adeyi <ba ┆           │\n",
       "│          ┆ ction\"]    ┆            ┆            ┆   ┆ documents. ┆       ┆ deyi@juul ┆           │\n",
       "│          ┆            ┆            ┆            ┆   ┆ …          ┆       ┆ .com>\"…   ┆           │\n",
       "│ fncw0300 ┆ [\"JUUL     ┆ [\"juul\"]   ┆ [\"Burbidge ┆ … ┆ https://ww ┆ null  ┆ null      ┆ null      │\n",
       "│          ┆ Labs Colle ┆            ┆ , Cole\"]   ┆   ┆ w.industry ┆       ┆           ┆           │\n",
       "│          ┆ ction\"]    ┆            ┆            ┆   ┆ documents. ┆       ┆           ┆           │\n",
       "│          ┆            ┆            ┆            ┆   ┆ …          ┆       ┆           ┆           │\n",
       "│ fffn0291 ┆ [\"JUUL     ┆ [\"juul\"]   ┆ [\"Sillin,  ┆ … ┆ https://ww ┆ null  ┆ [\"Mark    ┆ null      │\n",
       "│          ┆ Labs Colle ┆            ┆ Nat\"]      ┆   ┆ w.industry ┆       ┆ Mosher    ┆           │\n",
       "│          ┆ ction\"]    ┆            ┆            ┆   ┆ documents. ┆       ┆ <markm@bm ┆           │\n",
       "│          ┆            ┆            ┆            ┆   ┆ …          ┆       ┆ wl.net>…  ┆           │\n",
       "└──────────┴────────────┴────────────┴────────────┴───┴────────────┴───────┴───────────┴───────────┘"
      ]
     },
     "execution_count": 16,
     "metadata": {},
     "output_type": "execute_result"
    }
   ],
   "source": [
    "docs_df.sample(3)"
   ]
  },
  {
   "cell_type": "markdown",
   "metadata": {},
   "source": [
    "**5. Write function to find records from zipped CSVs**\n",
    "\n",
    "Below, we have created a function that takes two arguments: the dataframe from the results we pulled from the API and the path to the zipped 'JUUL_Labs_Collection' directory. This method will allow us to pull the data from the zipped CSVs within the folder without needing to extract all the files from the directory, which would cost our computers 120GB+ of memory. The method returns a dataframe with all metadata + ocr text of the results from our original query. "
   ]
  },
  {
   "cell_type": "code",
   "execution_count": 9,
   "metadata": {},
   "outputs": [],
   "source": [
    "def get_ocr_content(df, zip_dir):\n",
    "    id_list = df['id'].str.strip_chars().to_list()\n",
    "    main_df = pl.DataFrame()\n",
    "\n",
    "    with zipfile.ZipFile(zip_dir, 'r') as zipf:\n",
    "        for idx, file in enumerate(zipf.namelist()):\n",
    "            with zipf.open(file) as f:\n",
    "                try:\n",
    "                    temp_df = pl.read_csv(f, separator='|')\n",
    "                    temp_df = temp_df.filter(pl.col('id').cast(pl.String).str.strip_chars().is_in(id_list))\n",
    "                    main_df = pl.concat([main_df, temp_df])\n",
    "                except Exception as e:\n",
    "                    print(f'Error processing file {file}: {e}')\n",
    "                    continue\n",
    "            print(f'CSVs Checked: {idx+1}/{len(zipf.namelist())} | Docs Matched: {len(main_df)}/{len(id_list)}', end='\\r')\n",
    "\n",
    "    return main_df\n"
   ]
  },
  {
   "cell_type": "markdown",
   "metadata": {},
   "source": [
    "Below, we assign the location of the zipped directory to `zip_dir`. We also assign the returned dataframe to a variable called `df_pl`"
   ]
  },
  {
   "cell_type": "code",
   "execution_count": 12,
   "metadata": {},
   "outputs": [
    {
     "name": "stdout",
     "output_type": "stream",
     "text": [
      "Error processing file JUUL_Labs_Collection_56.csv: type String is incompatible with expected type Int64\n",
      "Error processing file JUUL_Labs_Collection_172.csv: type String is incompatible with expected type Int64\n",
      "Error processing file JUUL_Labs_Collection_195.csv: type String is incompatible with expected type Int64\n",
      "Error processing file JUUL_Labs_Collection_197.csv: type String is incompatible with expected type Int64\n",
      "Error processing file JUUL_Labs_Collection_214.csv: type String is incompatible with expected type Int64\n",
      "Error processing file JUUL_Labs_Collection_296.csv: type String is incompatible with expected type Int64\n",
      "Error processing file JUUL_Labs_Collection_515.csv: type String is incompatible with expected type Int64\n",
      "Error processing file JUUL_Labs_Collection_717.csv: type String is incompatible with expected type Int64\n",
      "Error processing file JUUL_Labs_Collection_778.csv: type String is incompatible with expected type Int64\n",
      "Error processing file JUUL_Labs_Collection_1029.csv: type String is incompatible with expected type Int64\n",
      "Error processing file JUUL_Labs_Collection_1675.csv: type String is incompatible with expected type Int64\n",
      "Error processing file JUUL_Labs_Collection_1733.csv: type String is incompatible with expected type Int64\n",
      "Error processing file JUUL_Labs_Collection_1850.csv: type String is incompatible with expected type Int64\n",
      "CSVs Checked: 2158/2158 | Docs Matched: 490/500\r"
     ]
    }
   ],
   "source": [
    "zip_dir = '../JUUL_Labs_Collection.zip'\n",
    "df_pl = get_ocr_content(docs_df, zip_dir)"
   ]
  },
  {
   "cell_type": "markdown",
   "metadata": {},
   "source": [
    "The resulting dataframe looks like:"
   ]
  },
  {
   "cell_type": "code",
   "execution_count": 17,
   "metadata": {},
   "outputs": [
    {
     "data": {
      "text/html": [
       "<div><style>\n",
       ".dataframe > thead > tr,\n",
       ".dataframe > tbody > tr {\n",
       "  text-align: right;\n",
       "  white-space: pre-wrap;\n",
       "}\n",
       "</style>\n",
       "<small>shape: (3, 71)</small><table border=\"1\" class=\"dataframe\"><thead><tr><th>id</th><th>tid</th><th>bates</th><th>type</th><th>description</th><th>title</th><th>author</th><th>mentioned</th><th>attending</th><th>copied</th><th>recipient</th><th>redacted</th><th>collection_name</th><th>pages</th><th>exhibit_number</th><th>document_date</th><th>date_added_ucsf</th><th>date_modified_ucsf</th><th>date_added_industry</th><th>date_modified_industry</th><th>date_produced</th><th>date_shipped</th><th>deposition_date</th><th>date_privilege_logged</th><th>case</th><th>industry</th><th>drug</th><th>adverse_ruling</th><th>area</th><th>bates_alternate</th><th>box</th><th>brand</th><th>country</th><th>language</th><th>court</th><th>format</th><th>express_waiver</th><th>file</th><th>genre</th><th>keywords</th><th>bates_master</th><th>other_number</th><th>request_number</th><th>minnesota_request_number</th><th>privilege_code</th><th>topic</th><th>witness</th><th>cited</th><th>availability</th><th>grant_number</th><th>source</th><th>folder</th><th>series</th><th>chemical</th><th>food</th><th>rights</th><th>attachment</th><th>attachmentnum</th><th>conversation</th><th>conversationid</th><th>custodian</th><th>datereceived</th><th>datesent</th><th>filename</th><th>filepath</th><th>messageid</th><th>subject</th><th>timereceived</th><th>timesent</th><th>redaction</th><th>ocr_text</th></tr><tr><td>str</td><td>str</td><td>str</td><td>str</td><td>str</td><td>str</td><td>str</td><td>str</td><td>str</td><td>str</td><td>str</td><td>str</td><td>str</td><td>i64</td><td>str</td><td>str</td><td>str</td><td>str</td><td>str</td><td>str</td><td>str</td><td>str</td><td>str</td><td>str</td><td>str</td><td>str</td><td>str</td><td>str</td><td>str</td><td>str</td><td>str</td><td>str</td><td>str</td><td>str</td><td>str</td><td>str</td><td>str</td><td>str</td><td>str</td><td>str</td><td>str</td><td>str</td><td>str</td><td>str</td><td>str</td><td>str</td><td>str</td><td>str</td><td>str</td><td>str</td><td>str</td><td>str</td><td>str</td><td>str</td><td>str</td><td>str</td><td>str</td><td>str</td><td>str</td><td>str</td><td>str</td><td>str</td><td>str</td><td>str</td><td>str</td><td>str</td><td>str</td><td>str</td><td>str</td><td>str</td><td>str</td></tr></thead><tbody><tr><td>&quot;fngc0286&quot;</td><td>&quot; &quot;</td><td>&quot;JLI04844816&quot;</td><td>&quot;email&quot;</td><td>&quot; &quot;</td><td>&quot;Curious for a new epicurean ad…</td><td>&quot;Curio Collection by Hilton &lt;cu…</td><td>&quot; &quot;</td><td>&quot; &quot;</td><td>&quot; &quot;</td><td>&quot;julie@juul.com&quot;</td><td>&quot; &quot;</td><td>&quot;JUUL Labs Collection&quot;</td><td>2</td><td>&quot; &quot;</td><td>&quot;Mon May 06 17:00:00 PDT 2019&quot;</td><td>&quot;Wed Jan 24 16:00:00 PST 2024&quot;</td><td>&quot;Wed Jan 24 16:00:00 PST 2024&quot;</td><td>&quot; &quot;</td><td>&quot; &quot;</td><td>&quot; &quot;</td><td>&quot; &quot;</td><td>&quot; &quot;</td><td>&quot; &quot;</td><td>&quot;State of North Carolina, ex re…</td><td>&quot;Tobacco&quot;</td><td>&quot; &quot;</td><td>&quot; &quot;</td><td>&quot; &quot;</td><td>&quot; &quot;</td><td>&quot; &quot;</td><td>&quot;Juul&quot;</td><td>&quot; &quot;</td><td>&quot; &quot;</td><td>&quot; &quot;</td><td>&quot; &quot;</td><td>&quot; &quot;</td><td>&quot; &quot;</td><td>&quot; &quot;</td><td>&quot; &quot;</td><td>&quot; &quot;</td><td>&quot; &quot;</td><td>&quot; &quot;</td><td>&quot; &quot;</td><td>&quot; &quot;</td><td>&quot; &quot;</td><td>&quot; &quot;</td><td>&quot; &quot;</td><td>&quot;public, no restrictions&quot;</td><td>&quot; &quot;</td><td>&quot;{&quot;type&quot;:&quot;plaintext&quot;,&quot;title&quot;:&quot;U…</td><td>&quot; &quot;</td><td>&quot; &quot;</td><td>&quot; &quot;</td><td>&quot; &quot;</td><td>&quot; &quot;</td><td>&quot; &quot;</td><td>&quot; &quot;</td><td>&quot; &quot;</td><td>&quot; &quot;</td><td>&quot;Henderson, Julie&quot;</td><td>&quot; &quot;</td><td>&quot;2019 May 07&quot;</td><td>&quot;Curious for a new epicurean ad…</td><td>&quot;\\Henderson, Julie\\Julie Hender…</td><td>&quot; &quot;</td><td>&quot; &quot;</td><td>&quot; &quot;</td><td>&quot; &quot;</td><td>&quot; &quot;</td><td>&quot;From:&nbsp;&nbsp;To:&nbsp;&nbsp;Sent:&nbsp;&nbsp;Subject:&nbsp;&nbsp;&nbsp;…</td></tr><tr><td>&quot;fhkc0297&quot;</td><td>&quot; &quot;</td><td>&quot;JLI31611005&quot;</td><td>&quot;email&quot;</td><td>&quot; &quot;</td><td>&quot;Re: Parallel pathing it?&quot;</td><td>&quot;Tom Kirchner &lt;tom.kirchner@nyu…</td><td>&quot; &quot;</td><td>&quot; &quot;</td><td>&quot;Adam Bowen &lt;adam@pax.com&gt;&quot;</td><td>&quot;Gal Cohen &lt;gal@pax.com&gt;&quot;</td><td>&quot; &quot;</td><td>&quot;JUUL Labs Collection&quot;</td><td>2</td><td>&quot; &quot;</td><td>&quot;Sun Dec 18 16:00:00 PST 2016&quot;</td><td>&quot;Wed Mar 27 17:00:00 PDT 2024&quot;</td><td>&quot;Wed Mar 27 17:00:00 PDT 2024&quot;</td><td>&quot; &quot;</td><td>&quot; &quot;</td><td>&quot; &quot;</td><td>&quot; &quot;</td><td>&quot; &quot;</td><td>&quot; &quot;</td><td>&quot;State of North Carolina, ex re…</td><td>&quot;Tobacco&quot;</td><td>&quot; &quot;</td><td>&quot; &quot;</td><td>&quot; &quot;</td><td>&quot; &quot;</td><td>&quot; &quot;</td><td>&quot;Juul&quot;</td><td>&quot; &quot;</td><td>&quot; &quot;</td><td>&quot; &quot;</td><td>&quot; &quot;</td><td>&quot; &quot;</td><td>&quot; &quot;</td><td>&quot; &quot;</td><td>&quot; &quot;</td><td>&quot; &quot;</td><td>&quot; &quot;</td><td>&quot; &quot;</td><td>&quot; &quot;</td><td>&quot; &quot;</td><td>&quot;Government &amp; Public Affairs&quot;</td><td>&quot; &quot;</td><td>&quot; &quot;</td><td>&quot;public, no restrictions&quot;</td><td>&quot; &quot;</td><td>&quot;{&quot;type&quot;:&quot;plaintext&quot;,&quot;title&quot;:&quot;U…</td><td>&quot; &quot;</td><td>&quot; &quot;</td><td>&quot; &quot;</td><td>&quot; &quot;</td><td>&quot; &quot;</td><td>&quot; &quot;</td><td>&quot; &quot;</td><td>&quot; &quot;</td><td>&quot; &quot;</td><td>&quot;JLI&quot;</td><td>&quot; &quot;</td><td>&quot;2016 December 19&quot;</td><td>&quot;Re: Parallel pathing it?&quot;</td><td>&quot;\\JLI\\20200713 KOL Email Addres…</td><td>&quot; &quot;</td><td>&quot; &quot;</td><td>&quot; &quot;</td><td>&quot; &quot;</td><td>&quot; &quot;</td><td>&quot;From:&nbsp;&nbsp;To:&nbsp;&nbsp;CC:&nbsp;&nbsp;Sent:&nbsp;&nbsp;Subjec…</td></tr><tr><td>&quot;fhhd0314&quot;</td><td>&quot; &quot;</td><td>&quot;JLI10555255&quot;</td><td>&quot;email&quot;</td><td>&quot; &quot;</td><td>&quot;Re: JUUL Store Lists&quot;</td><td>&quot;Alicia Grossman &lt;agrossman@juu…</td><td>&quot; &quot;</td><td>&quot; &quot;</td><td>&quot;Alex Cantwell &lt;&quot;alex cantwell …</td><td>&quot;Tania Goulart &lt;&quot;tania goulart …</td><td>&quot;yes&quot;</td><td>&quot;JUUL Labs Collection&quot;</td><td>6</td><td>&quot; &quot;</td><td>&quot;Wed Apr 25 17:00:00 PDT 2018&quot;</td><td>&quot;Wed Jul 24 17:00:00 PDT 2024&quot;</td><td>&quot;Wed Jul 24 17:00:00 PDT 2024&quot;</td><td>&quot; &quot;</td><td>&quot; &quot;</td><td>&quot; &quot;</td><td>&quot; &quot;</td><td>&quot; &quot;</td><td>&quot; &quot;</td><td>&quot;State of North Carolina, ex re…</td><td>&quot;Tobacco&quot;</td><td>&quot; &quot;</td><td>&quot; &quot;</td><td>&quot; &quot;</td><td>&quot; &quot;</td><td>&quot; &quot;</td><td>&quot;Juul&quot;</td><td>&quot; &quot;</td><td>&quot; &quot;</td><td>&quot; &quot;</td><td>&quot; &quot;</td><td>&quot; &quot;</td><td>&quot; &quot;</td><td>&quot; &quot;</td><td>&quot; &quot;</td><td>&quot; &quot;</td><td>&quot; &quot;</td><td>&quot; &quot;</td><td>&quot; &quot;</td><td>&quot; &quot;</td><td>&quot; &quot;</td><td>&quot; &quot;</td><td>&quot; &quot;</td><td>&quot;public, no restrictions&quot;</td><td>&quot; &quot;</td><td>&quot;{&quot;type&quot;:&quot;plaintext&quot;,&quot;title&quot;:&quot;U…</td><td>&quot; &quot;</td><td>&quot; &quot;</td><td>&quot; &quot;</td><td>&quot; &quot;</td><td>&quot; &quot;</td><td>&quot; &quot;</td><td>&quot; &quot;</td><td>&quot; &quot;</td><td>&quot; &quot;</td><td>&quot;Cantwell, Alexander&quot;</td><td>&quot;2018 April 26&quot;</td><td>&quot;2018 April 26&quot;</td><td>&quot;Re: JUUL Store Lists&quot;</td><td>&quot;\\Cantwell, Alexander\\Alexander…</td><td>&quot; &quot;</td><td>&quot; &quot;</td><td>&quot; &quot;</td><td>&quot; &quot;</td><td>&quot; &quot;</td><td>&quot;From:&nbsp;&nbsp;To:&nbsp;&nbsp;CC:&nbsp;&nbsp;Sent:&nbsp;&nbsp;Subjec…</td></tr></tbody></table></div>"
      ],
      "text/plain": [
       "shape: (3, 71)\n",
       "┌──────────┬─────┬─────────────┬───────┬───┬──────────────┬──────────┬───────────┬─────────────────┐\n",
       "│ id       ┆ tid ┆ bates       ┆ type  ┆ … ┆ timereceived ┆ timesent ┆ redaction ┆ ocr_text        │\n",
       "│ ---      ┆ --- ┆ ---         ┆ ---   ┆   ┆ ---          ┆ ---      ┆ ---       ┆ ---             │\n",
       "│ str      ┆ str ┆ str         ┆ str   ┆   ┆ str          ┆ str      ┆ str       ┆ str             │\n",
       "╞══════════╪═════╪═════════════╪═══════╪═══╪══════════════╪══════════╪═══════════╪═════════════════╡\n",
       "│ fngc0286 ┆     ┆ JLI04844816 ┆ email ┆ … ┆              ┆          ┆           ┆ From:  To:      │\n",
       "│          ┆     ┆             ┆       ┆   ┆              ┆          ┆           ┆ Sent:  Subject: │\n",
       "│          ┆     ┆             ┆       ┆   ┆              ┆          ┆           ┆ …               │\n",
       "│ fhkc0297 ┆     ┆ JLI31611005 ┆ email ┆ … ┆              ┆          ┆           ┆ From:  To:  CC: │\n",
       "│          ┆     ┆             ┆       ┆   ┆              ┆          ┆           ┆ Sent:  Subjec…  │\n",
       "│ fhhd0314 ┆     ┆ JLI10555255 ┆ email ┆ … ┆              ┆          ┆           ┆ From:  To:  CC: │\n",
       "│          ┆     ┆             ┆       ┆   ┆              ┆          ┆           ┆ Sent:  Subjec…  │\n",
       "└──────────┴─────┴─────────────┴───────┴───┴──────────────┴──────────┴───────────┴─────────────────┘"
      ]
     },
     "execution_count": 17,
     "metadata": {},
     "output_type": "execute_result"
    }
   ],
   "source": [
    "df_pl.sample(3)"
   ]
  },
  {
   "cell_type": "markdown",
   "metadata": {},
   "source": [
    "Lastly, we save the new dataframe to a parquet file. You may also save it as a JSON file. If you want to save it as a CSV, some data transformation will have to be done, as some of the values are nested (either lists or series). "
   ]
  },
  {
   "cell_type": "code",
   "execution_count": 14,
   "metadata": {},
   "outputs": [],
   "source": [
    "df_pl.write_parquet(\"juul_dataset.parquet\")"
   ]
  }
 ],
 "metadata": {
  "kernelspec": {
   "display_name": "base",
   "language": "python",
   "name": "python3"
  },
  "language_info": {
   "codemirror_mode": {
    "name": "ipython",
    "version": 3
   },
   "file_extension": ".py",
   "mimetype": "text/x-python",
   "name": "python",
   "nbconvert_exporter": "python",
   "pygments_lexer": "ipython3",
   "version": "3.12.5"
  }
 },
 "nbformat": 4,
 "nbformat_minor": 2
}
