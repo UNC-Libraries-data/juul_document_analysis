{
  "cells": [
    {
      "cell_type": "code",
      "execution_count": 6,
      "metadata": {
        "id": "ToELzdMGRWSF"
      },
      "outputs": [],
      "source": [
        "import requests, os, csv, io, zipfile\n",
        "import pandas as pd"
      ]
    },
    {
      "cell_type": "code",
      "execution_count": null,
      "metadata": {},
      "outputs": [],
      "source": [
        "."
      ]
    },
    {
      "cell_type": "code",
      "execution_count": 2,
      "metadata": {
        "id": "IUa10ABTRI1K"
      },
      "outputs": [],
      "source": [
        "# Read the CSV file with cleaned metadata (email content) related to influencer, celeb, celebrity\n",
        "df = pd.read_csv('data\\influencer.csv')\n",
        "ids_list = df['id'].tolist()"
      ]
    },
    {
      "cell_type": "code",
      "execution_count": 3,
      "metadata": {
        "colab": {
          "base_uri": "https://localhost:8080/"
        },
        "id": "e_BSR8t3RVnU",
        "outputId": "d27866e9-eae1-40f0-a4b8-3aa3e28489d5"
      },
      "outputs": [
        {
          "name": "stdout",
          "output_type": "stream",
          "text": [
            "86938\n"
          ]
        }
      ],
      "source": [
        "print(len(ids_list))"
      ]
    },
    {
      "cell_type": "markdown",
      "metadata": {},
      "source": [
        "Run to extract OCR text (last column) from zip folder with all CSV files - Extracting CSV is not working on VCL due to limted storage stops after extracting CSV 286"
      ]
    },
    {
      "cell_type": "code",
      "execution_count": null,
      "metadata": {},
      "outputs": [],
      "source": [
        "zip_file_path = 'data/JUUL_Labs_Collection.zip'\n",
        "\n",
        "def unzip_and_rezip(zip_file_path, ids_list):\n",
        "    ids_set = set(ids_list)\n",
        "    temp_directory = \"temp_extracted_files\"\n",
        "    new_csv_name = \"influencer_ocr.csv\"\n",
        "    output_csv_path = os.path.join('/data', new_csv_name)  # Saves new CSV in '/data' directory\n",
        "\n",
        "    # Extract all files to a temporary directory\n",
        "    with zipfile.ZipFile(zip_file_path, 'r') as z:\n",
        "        z.extractall(temp_directory)\n",
        "\n",
        "    # Create the new CSV file to store ocr text for the relevant ids\n",
        "    with open(output_csv_path, 'w', newline='', encoding='utf-8') as f:\n",
        "        writer = csv.writer(f)\n",
        "        writer.writerow(['id', 'ocr text'])\n",
        "\n",
        "        # Loop through each CSV file\n",
        "        for file_name in os.listdir(temp_directory):\n",
        "            full_path = os.path.join(temp_directory, file_name)\n",
        "            if full_path.endswith('.csv'):\n",
        "                with open(full_path, 'r', newline='', encoding='utf-8') as file:\n",
        "                    reader = csv.reader(file, delimiter='|')\n",
        "                    for row in reader:\n",
        "                        if row[0] in ids_set:\n",
        "                            writer.writerow([row[0], row[-1]])  # Write only ID and the last column (ocr text)\n",
        "\n",
        "    # Rezip the original CSV files\n",
        "    with zipfile.ZipFile(zip_file_path, 'w', zipfile.ZIP_DEFLATED) as z:\n",
        "        for file_name in os.listdir(temp_directory):\n",
        "            full_path = os.path.join(temp_directory, file_name)\n",
        "            if file_name != new_csv_name:  # Exclude the new influencer_ocr.csv\n",
        "                z.write(full_path, arcname=file_name)\n",
        "\n",
        "    # Clean up the temporary directory\n",
        "    shutil.rmtree(temp_directory)\n",
        "\n",
        "process_and_rezip(zip_file_path, ids_list)"
      ]
    },
    {
      "cell_type": "code",
      "execution_count": 5,
      "metadata": {},
      "outputs": [
        {
          "ename": "OSError",
          "evalue": "[Errno 28] No space left on device",
          "output_type": "error",
          "traceback": [
            "\u001b[1;31m---------------------------------------------------------------------------\u001b[0m",
            "\u001b[1;31mOSError\u001b[0m                                   Traceback (most recent call last)",
            "Cell \u001b[1;32mIn[5], line 19\u001b[0m\n\u001b[0;32m     16\u001b[0m \u001b[38;5;28;01mif\u001b[39;00m response\u001b[38;5;241m.\u001b[39mstatus_code \u001b[38;5;241m==\u001b[39m \u001b[38;5;241m200\u001b[39m:\n\u001b[0;32m     17\u001b[0m     \u001b[38;5;66;03m# Save the OCR content to a temporary file\u001b[39;00m\n\u001b[0;32m     18\u001b[0m     temp_filename \u001b[38;5;241m=\u001b[39m \u001b[38;5;124mf\u001b[39m\u001b[38;5;124m\"\u001b[39m\u001b[38;5;132;01m{\u001b[39;00mids\u001b[38;5;132;01m}\u001b[39;00m\u001b[38;5;124m.ocr\u001b[39m\u001b[38;5;124m\"\u001b[39m\n\u001b[1;32m---> 19\u001b[0m     \u001b[38;5;28;01mwith\u001b[39;00m \u001b[38;5;28mopen\u001b[39m(temp_filename, \u001b[38;5;124m'\u001b[39m\u001b[38;5;124mwb\u001b[39m\u001b[38;5;124m'\u001b[39m) \u001b[38;5;28;01mas\u001b[39;00m f:\n\u001b[0;32m     20\u001b[0m         f\u001b[38;5;241m.\u001b[39mwrite(response\u001b[38;5;241m.\u001b[39mcontent)\n\u001b[0;32m     22\u001b[0m     \u001b[38;5;66;03m# Read the OCR text\u001b[39;00m\n",
            "\u001b[1;31mOSError\u001b[0m: [Errno 28] No space left on device"
          ]
        }
      ],
      "source": [
        "base_url = 'https://download.industrydocuments.ucsf.edu/'\n",
        "output_csv_path = 'data\\ocr_texts.csv'\n",
        "\n",
        "# Write IDs and OCR text to new CSV\n",
        "with open(output_csv_path, mode='w', newline='') as file:\n",
        "    writer = csv.writer(file)\n",
        "    writer.writerow(['id', 'ocr_text'])\n",
        "\n",
        "    # Loop through the document IDs and download OCR files\n",
        "    for ids in ids_list:\n",
        "        url_path = f\"{ids[0]}/{ids[1]}/{ids[2]}/{ids[3]}/{ids}\"\n",
        "        download_url = f\"{base_url}{url_path}/{ids}.ocr\"\n",
        "\n",
        "        # Download the OCR file\n",
        "        response = requests.get(download_url)\n",
        "        if response.status_code == 200:\n",
        "            # Save the OCR content to a temporary file\n",
        "            temp_filename = f\"{ids}.ocr\"\n",
        "            with open(temp_filename, 'wb') as f:\n",
        "                f.write(response.content)\n",
        "            \n",
        "            # Read the OCR text\n",
        "            try:\n",
        "                with open(temp_filename, 'r') as file:\n",
        "                    ocr_text = file.read()\n",
        "                # Write to the CSV file\n",
        "                writer.writerow([ids, ocr_text])\n",
        "            except Exception as e:\n",
        "                pass\n",
        "\n",
        "            # Delete the temporary file\n",
        "            os.remove(temp_filename)\n",
        "        else:\n",
        "            pass"
      ]
    },
    {
      "cell_type": "code",
      "execution_count": null,
      "metadata": {},
      "outputs": [],
      "source": [
        "c:\\Users\\rolando\\Desktop\\JUUL_Labs_Collection.zip"
      ]
    },
    {
      "cell_type": "code",
      "execution_count": 14,
      "metadata": {
        "colab": {
          "base_uri": "https://localhost:8080/"
        },
        "id": "sRMFz2buUl96",
        "outputId": "3de6027b-3d43-4d31-897e-7718e8530eac"
      },
      "outputs": [
        {
          "name": "stderr",
          "output_type": "stream",
          "text": [
            "[nltk_data] Downloading package stopwords to\n",
            "[nltk_data]     C:\\Users\\rolando\\AppData\\Roaming\\nltk_data...\n",
            "[nltk_data]   Package stopwords is already up-to-date!\n",
            "[nltk_data] Downloading package punkt to\n",
            "[nltk_data]     C:\\Users\\rolando\\AppData\\Roaming\\nltk_data...\n",
            "[nltk_data]   Package punkt is already up-to-date!\n"
          ]
        }
      ],
      "source": [
        "import re\n",
        "import nltk\n",
        "nltk.download('stopwords')\n",
        "nltk.download('punkt')\n",
        "from nltk.corpus import stopwords\n",
        "from nltk.tokenize import word_tokenize\n",
        "from nltk.util import bigrams, trigrams\n",
        "from collections import Counter"
      ]
    },
    {
      "cell_type": "code",
      "execution_count": 16,
      "metadata": {
        "id": "iWSHB65mSxnT"
      },
      "outputs": [],
      "source": [
        "# Function to preprocess text\n",
        "def preprocess_text(text):\n",
        "    text = text.lower()\n",
        "    text = re.sub(r'[^\\w\\s]', '', text)\n",
        "    tokens = word_tokenize(text)\n",
        "    tokens = [word for word in tokens if word not in stopwords.words('english')]\n",
        "    return ' '.join(tokens)\n",
        "\n",
        "# Dictionary to store OCR texts\n",
        "ocr_texts = {}\n",
        "\n",
        "# Path to the CSV file\n",
        "csv_path = 'data\\ocr_texts.csv'\n",
        "\n",
        "# Read the OCR text from CSV into the dictionary\n",
        "with open(csv_path, mode='r', newline='') as file:\n",
        "    reader = csv.reader(file)\n",
        "    next(reader)  # Skip the header\n",
        "    for row in reader:\n",
        "        doc_id, ocr_text = row\n",
        "        ocr_texts[doc_id] = ocr_text\n",
        "\n",
        "# Preprocess each stored OCR text\n",
        "for doc_id, ocr_text in ocr_texts.items():\n",
        "    processed_text = preprocess_text(ocr_text)\n",
        "    ocr_texts[doc_id] = processed_text"
      ]
    },
    {
      "cell_type": "code",
      "execution_count": 18,
      "metadata": {},
      "outputs": [
        {
          "name": "stdout",
          "output_type": "stream",
          "text": [
            "10\n"
          ]
        }
      ],
      "source": [
        "print(len(ocr_texts))"
      ]
    },
    {
      "cell_type": "markdown",
      "metadata": {},
      "source": [
        "Customize stopwords \n",
        "1. Most frequent words\n",
        "2. Words appearing in n% of documents"
      ]
    },
    {
      "cell_type": "code",
      "execution_count": 15,
      "metadata": {
        "id": "ZzW_CONcWwuc"
      },
      "outputs": [],
      "source": [
        "stop_words = set(stopwords.words('english'))\n",
        "custom_stopwords = ['ucsf', 'wrote', 'confidential']\n",
        "stop_words.update(custom_stopwords)"
      ]
    },
    {
      "cell_type": "code",
      "execution_count": null,
      "metadata": {},
      "outputs": [],
      "source": [
        "stop_words = set(stopwords.words('english'))\n",
        "print(stop_words)"
      ]
    },
    {
      "cell_type": "code",
      "execution_count": 10,
      "metadata": {
        "id": "2znJcfSEVcMM"
      },
      "outputs": [
        {
          "name": "stdout",
          "output_type": "stream",
          "text": [
            "[('ucsf', 21), ('sarah', 16), ('formula', 16), ('richardson', 14), ('confidential', 14), ('2016', 12), ('message', 12), ('kelly', 11), ('evans', 11), ('office', 10), ('call', 8), ('please', 8), ('judgment', 8), ('pm', 8), ('pax', 8), ('pr', 7), ('agenda', 7), ('ncjliconsent', 7), ('email', 7), ('pitch', 7), ('sent', 6), ('subject', 6), ('todays', 6), ('would', 6), ('jan', 6), ('wrote', 6), ('thanks', 6), ('consumer', 6), ('technology', 6), ('havas', 6), ('twitter', 6), ('facebook', 6), ('san', 6), ('street', 6), ('second', 6), ('files', 6), ('transmitted', 6), ('may', 6), ('contain', 6), ('privileged', 6), ('intended', 6), ('recipient', 6), ('advise', 6), ('sender', 6), ('reply', 6), ('delete', 6), ('attachments', 6), ('without', 6), ('retaining', 6), ('copy', 6), ('thereof', 6), ('tara', 5), ('time', 5), ('january', 5), ('website', 5), ('work', 5), ('immediately', 5), ('information', 5), ('ashley', 4), ('cc', 4), ('paxlabs', 4), ('meeting', 4), ('mon', 4), ('cell', 4), ('22', 4), ('emma', 4), ('ross', 4), ('alabama', 4), ('hi', 3), ('us', 3), ('maraud', 3), ('get', 3), ('kevanshavasformulacom', 3), ('1', 3), ('22nd', 3), ('fri', 3), ('8th', 3), ('c', 3), ('share', 3), ('mmj', 3), ('ca', 3), ('corporate', 3), ('communications', 3), ('floor', 3), ('francisco', 3), ('sarahpaxcom', 2), ('think', 2), ('26', 2), ('reid', 2), ('flights', 2), ('look', 2), ('know', 2), ('25', 2), ('update', 2), ('move', 2), ('ii', 2), ('mailtosarahreipaxcom', 2), ('friday', 2), ('ia', 2), ('team', 2)]\n"
          ]
        }
      ],
      "source": [
        "# Count the frequency of each word\n",
        "word_counts = Counter(processed_text.split())\n",
        "most_common_words = word_counts.most_common(100)  # Get the top 10 most common words\n",
        "\n",
        "print(most_common_words)"
      ]
    },
    {
      "cell_type": "code",
      "execution_count": null,
      "metadata": {
        "id": "V4oB4X9wWqRo"
      },
      "outputs": [],
      "source": [
        "!pip install wordcloud matplotlib\n",
        "from wordcloud import WordCloud\n",
        "import matplotlib.pyplot as plt"
      ]
    },
    {
      "cell_type": "code",
      "execution_count": null,
      "metadata": {
        "colab": {
          "base_uri": "https://localhost:8080/",
          "height": 836
        },
        "id": "q3MVMPZOXBbo",
        "outputId": "ddea6ecd-5191-4bd1-e85a-a21ee38a53bd"
      },
      "outputs": [],
      "source": [
        "# Create the word cloud\n",
        "wordcloud = WordCloud(width = 800, height = 800,\n",
        "                background_color ='black',\n",
        "                min_font_size = 10).generate(processed_text)\n",
        "\n",
        "# View the word cloud:\n",
        "plt.figure(figsize = (8, 8), facecolor = None)\n",
        "plt.imshow(wordcloud)\n",
        "plt.axis(\"off\")\n",
        "plt.tight_layout(pad = 0)\n",
        "\n",
        "plt.show()"
      ]
    },
    {
      "cell_type": "code",
      "execution_count": 23,
      "metadata": {},
      "outputs": [],
      "source": [
        "words = word_tokenize(processed_text)"
      ]
    },
    {
      "cell_type": "code",
      "execution_count": 26,
      "metadata": {},
      "outputs": [],
      "source": [
        "# Bi-grams\n",
        "bi_grams = list(bigrams(words))\n",
        "# Tri-grams\n",
        "tri_grams = list(trigrams(words))\n",
        "\n",
        "bi_gram_counts = Counter(bi_grams)\n",
        "tri_gram_counts = Counter(tri_grams)"
      ]
    },
    {
      "cell_type": "code",
      "execution_count": null,
      "metadata": {},
      "outputs": [],
      "source": [
        "# Print the counts\n",
        "print(\"Bi-gram counts:\")\n",
        "for bi_gram, count in bi_gram_counts.items():\n",
        "    print(f\"{bi_gram}: {count}\")"
      ]
    },
    {
      "cell_type": "code",
      "execution_count": null,
      "metadata": {},
      "outputs": [],
      "source": [
        "print(\"\\nTri-gram counts:\")\n",
        "for tri_gram, count in tri_gram_counts.items():\n",
        "    print(f\"{tri_gram}: {count}\")"
      ]
    },
    {
      "cell_type": "code",
      "execution_count": null,
      "metadata": {},
      "outputs": [],
      "source": [
        "# Top N bi-grams\n",
        "top_N_bi_grams = bi_gram_counts.most_common(50)\n",
        "\n",
        "# Print the top 20 bi-grams\n",
        "print(\"Top 20 Bi-grams:\")\n",
        "for bi_gram, count in top_N_bi_grams:\n",
        "    print(f\"{bi_gram}: {count}\")\n"
      ]
    },
    {
      "cell_type": "code",
      "execution_count": null,
      "metadata": {},
      "outputs": [],
      "source": [
        "# Top N tri-grams\n",
        "top_N_tri_grams = tri_gram_counts.most_common(50)\n",
        "\n",
        "# Print the top 20 tri-grams\n",
        "print(\"\\nTop N Tri-grams:\")\n",
        "for tri_gram, count in top_N_tri_grams:\n",
        "    print(f\"{tri_gram}: {count}\")"
      ]
    }
  ],
  "metadata": {
    "colab": {
      "provenance": []
    },
    "kernelspec": {
      "display_name": "Python 3",
      "name": "python3"
    },
    "language_info": {
      "codemirror_mode": {
        "name": "ipython",
        "version": 3
      },
      "file_extension": ".py",
      "mimetype": "text/x-python",
      "name": "python",
      "nbconvert_exporter": "python",
      "pygments_lexer": "ipython3",
      "version": "3.11.5"
    }
  },
  "nbformat": 4,
  "nbformat_minor": 0
}
