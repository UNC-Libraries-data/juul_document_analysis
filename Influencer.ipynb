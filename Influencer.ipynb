{
  "cells": [
    {
      "cell_type": "code",
      "execution_count": 1,
      "metadata": {
        "id": "ToELzdMGRWSF"
      },
      "outputs": [],
      "source": [
        "import csv, zipfile, os, sys\n",
        "import pandas as pd"
      ]
    },
    {
      "cell_type": "code",
      "execution_count": 4,
      "metadata": {
        "id": "IUa10ABTRI1K"
      },
      "outputs": [],
      "source": [
        "# Read the CSV file with the ids\n",
        "df = pd.read_csv('data\\influencer_metadata.csv')\n",
        "ids_list = df['id'].tolist()"
      ]
    },
    {
      "cell_type": "code",
      "execution_count": null,
      "metadata": {
        "colab": {
          "base_uri": "https://localhost:8080/"
        },
        "id": "e_BSR8t3RVnU",
        "outputId": "d27866e9-eae1-40f0-a4b8-3aa3e28489d5"
      },
      "outputs": [],
      "source": [
        "print(len(ids_list))"
      ]
    },
    {
      "cell_type": "markdown",
      "metadata": {},
      "source": [
        "Run to extract OCR text (last column) from zip folder with all CSV files - Extracting CSV is not working on VCL due to limted storage, stops after extracting CSV 286. The code below was run on Google Colab"
      ]
    },
    {
      "cell_type": "code",
      "execution_count": null,
      "metadata": {},
      "outputs": [],
      "source": [
        "def extract_data_from_csvs(zip_file_path, ids_list, output_csv):\n",
        "    ids_set = set(ids_list)\n",
        "    csv.field_size_limit(sys.maxsize)\n",
        "\n",
        "    with zipfile.ZipFile(zip_file_path, 'r') as z:\n",
        "        with open(output_csv, 'w', newline='', encoding='utf-8') as out_file:\n",
        "            writer = csv.writer(out_file)\n",
        "            writer.writerow(['id', 'text'])\n",
        "\n",
        "            for file_name in z.namelist():\n",
        "                with z.open(file_name) as csvfile:\n",
        "                    lines = (line.decode('utf-8').replace('\\0', '') for line in csvfile)\n",
        "                    reader = csv.reader(lines, delimiter='|')\n",
        "                    for row in reader:\n",
        "                        if row and row[0] in ids_set:\n",
        "                            print(f\"Processing ID: {row[0]}\")\n",
        "                            writer.writerow([row[0], row[-1]])\n",
        "extract_data_from_csvs(zip_file_path, ids_list, output_csv)"
      ]
    },
    {
      "cell_type": "code",
      "execution_count": 6,
      "metadata": {},
      "outputs": [
        {
          "name": "stdout",
          "output_type": "stream",
          "text": [
            "18951\n"
          ]
        }
      ],
      "source": [
        "#Sanity Check \n",
        "try:\n",
        "    csv.field_size_limit(2**20)\n",
        "except OverflowError:\n",
        "    print(\"The specified limit is too large!\")\n",
        "\n",
        "id_count = 0\n",
        "with open('data\\ocr_texts(celeb,celebrity,influencer).csv', mode='r', newline='') as file:\n",
        "    reader = csv.reader(file)\n",
        "    next(reader)  # Skip the header\n",
        "    for row in reader:\n",
        "        id_count += 1\n",
        "\n",
        "print(id_count)"
      ]
    },
    {
      "cell_type": "code",
      "execution_count": 3,
      "metadata": {
        "colab": {
          "base_uri": "https://localhost:8080/"
        },
        "id": "sRMFz2buUl96",
        "outputId": "3de6027b-3d43-4d31-897e-7718e8530eac"
      },
      "outputs": [
        {
          "name": "stderr",
          "output_type": "stream",
          "text": [
            "[nltk_data] Downloading package stopwords to\n",
            "[nltk_data]     C:\\Users\\rolando\\AppData\\Roaming\\nltk_data...\n",
            "[nltk_data]   Package stopwords is already up-to-date!\n",
            "[nltk_data] Downloading package punkt to\n",
            "[nltk_data]     C:\\Users\\rolando\\AppData\\Roaming\\nltk_data...\n",
            "[nltk_data]   Package punkt is already up-to-date!\n"
          ]
        }
      ],
      "source": [
        "import re\n",
        "import nltk\n",
        "nltk.download('stopwords')\n",
        "nltk.download('punkt')\n",
        "from nltk.corpus import stopwords\n",
        "from nltk.tokenize import word_tokenize\n",
        "from nltk.util import bigrams, trigrams\n",
        "from collections import Counter"
      ]
    },
    {
      "cell_type": "code",
      "execution_count": 5,
      "metadata": {},
      "outputs": [
        {
          "name": "stdout",
          "output_type": "stream",
          "text": [
            "18951\n"
          ]
        }
      ],
      "source": [
        "print(len(ocr_texts))"
      ]
    },
    {
      "cell_type": "markdown",
      "metadata": {},
      "source": [
        "Count Vectorizer"
      ]
    },
    {
      "cell_type": "code",
      "execution_count": 7,
      "metadata": {},
      "outputs": [],
      "source": [
        "import pandas as pd\n",
        "from sklearn.feature_extraction.text import CountVectorizer\n",
        "\n",
        "doc_ids = list(ocr_texts.keys())  # Get all document IDs as a list\n",
        "documents = list(ocr_texts.values())  # Get all the pre-processed text values as a list\n",
        "\n",
        "# Initialize the CountVectorizer\n",
        "vectorizer = CountVectorizer()\n",
        "\n",
        "doc_term_matrix = vectorizer.fit_transform(documents)\n",
        "\n",
        "# Convert the matrix to a DataFrame\n",
        "df = pd.DataFrame(doc_term_matrix.toarray(), columns=vectorizer.get_feature_names_out())\n",
        "df.insert(0, 'Document ID', doc_ids)\n",
        "\n",
        "# Save the DataFrame to a CSV file\n",
        "csv_output_path = 'data\\doc_term_matrix.csv'\n",
        "df.to_csv(csv_output_path, index=False)"
      ]
    }
  ],
  "metadata": {
    "colab": {
      "provenance": []
    },
    "kernelspec": {
      "display_name": "Python 3",
      "name": "python3"
    },
    "language_info": {
      "codemirror_mode": {
        "name": "ipython",
        "version": 3
      },
      "file_extension": ".py",
      "mimetype": "text/x-python",
      "name": "python",
      "nbconvert_exporter": "python",
      "pygments_lexer": "ipython3",
      "version": "3.11.5"
    }
  },
  "nbformat": 4,
  "nbformat_minor": 0
}
