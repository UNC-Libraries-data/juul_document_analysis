{
  "cells": [
    {
      "cell_type": "code",
      "execution_count": 8,
      "metadata": {
        "id": "ToELzdMGRWSF"
      },
      "outputs": [],
      "source": [
        "import requests, os, csv, io, zipfile, shutil\n",
        "import pandas as pd"
      ]
    },
    {
      "cell_type": "code",
      "execution_count": 12,
      "metadata": {
        "id": "IUa10ABTRI1K"
      },
      "outputs": [],
      "source": [
        "# Read the CSV file with cleaned metadata (email content) related to influencer, celeb, celebrity, social media, launch, agency, VIP\n",
        "df = pd.read_csv('data\\celeb.txt', delimiter='\\t') #pd.read_csv('data\\influencer.csv')\n",
        "ids_list = df['id'].tolist()"
      ]
    },
    {
      "cell_type": "code",
      "execution_count": 13,
      "metadata": {
        "colab": {
          "base_uri": "https://localhost:8080/"
        },
        "id": "e_BSR8t3RVnU",
        "outputId": "d27866e9-eae1-40f0-a4b8-3aa3e28489d5"
      },
      "outputs": [
        {
          "name": "stdout",
          "output_type": "stream",
          "text": [
            "1642\n"
          ]
        }
      ],
      "source": [
        "print(len(ids_list))"
      ]
    },
    {
      "cell_type": "markdown",
      "metadata": {},
      "source": [
        "Run to extract OCR text (last column) from zip folder with all CSV files - Extracting CSV is not working on VCL due to limted storage stops after extracting CSV 286"
      ]
    },
    {
      "cell_type": "code",
      "execution_count": null,
      "metadata": {},
      "outputs": [],
      "source": [
        "zip_file_path = 'data\\JUUL_Labs_Collection.zip'\n",
        "\n",
        "def unzip_and_rezip(zip_file_path, ids_list):\n",
        "    ids_set = set(ids_list)\n",
        "    temp_directory = \"temp_extracted_files\"\n",
        "    new_csv_name = \"influencer_ocr.csv\"\n",
        "    output_csv_path = os.path.join('\\data', new_csv_name)  # Saves new CSV in '/data' directory\n",
        "\n",
        "    # Extract all files to a temporary directory\n",
        "    with zipfile.ZipFile(zip_file_path, 'r') as z:\n",
        "        z.extractall(temp_directory)\n",
        "\n",
        "    # Create the new CSV file to store ocr text for the relevant ids\n",
        "    with open(output_csv_path, 'w', newline='', encoding='utf-8') as f:\n",
        "        writer = csv.writer(f)\n",
        "        writer.writerow(['id', 'ocr text'])\n",
        "\n",
        "        # Loop through each CSV file\n",
        "        for file_name in os.listdir(temp_directory):\n",
        "            full_path = os.path.join(temp_directory, file_name)\n",
        "            if full_path.endswith('.csv'):\n",
        "                with open(full_path, 'r', newline='', encoding='utf-8') as file:\n",
        "                    reader = csv.reader(file, delimiter='|')\n",
        "                    for row in reader:\n",
        "                        if row[0] in ids_set:\n",
        "                            writer.writerow([row[0], row[-1]])  # Write only ID and the last column (ocr text)\n",
        "\n",
        "    # Rezip the original CSV files\n",
        "    with zipfile.ZipFile(zip_file_path, 'w', zipfile.ZIP_DEFLATED) as z:\n",
        "        for file_name in os.listdir(temp_directory):\n",
        "            full_path = os.path.join(temp_directory, file_name)\n",
        "            if file_name != new_csv_name:  # Exclude the new influencer_ocr.csv\n",
        "                z.write(full_path, arcname=file_name)\n",
        "\n",
        "    # Clean up the temporary directory\n",
        "    shutil.rmtree(temp_directory)\n",
        "\n",
        "unzip_and_rezip(zip_file_path, ids_list)"
      ]
    },
    {
      "cell_type": "markdown",
      "metadata": {},
      "source": [
        "Attempt to download required OCR text - works but takes a long time for 86938 documents. \n",
        "No space left on device error."
      ]
    },
    {
      "cell_type": "code",
      "execution_count": 14,
      "metadata": {},
      "outputs": [],
      "source": [
        "base_url = 'https://download.industrydocuments.ucsf.edu/'\n",
        "output_csv_path = 'data\\ocr_celeb_texts.csv'\n",
        "\n",
        "# Write IDs and OCR text to new CSV\n",
        "with open(output_csv_path, mode='w', newline='') as file:\n",
        "    writer = csv.writer(file)\n",
        "    writer.writerow(['id', 'ocr_text'])\n",
        "\n",
        "    # Loop through the document IDs and download OCR files\n",
        "    for ids in ids_list:\n",
        "        url_path = f\"{ids[0]}/{ids[1]}/{ids[2]}/{ids[3]}/{ids}\"\n",
        "        download_url = f\"{base_url}{url_path}/{ids}.ocr\"\n",
        "\n",
        "        # Download the OCR file\n",
        "        response = requests.get(download_url)\n",
        "        if response.status_code == 200:\n",
        "            # Save the OCR content to a temporary file\n",
        "            temp_filename = f\"{ids}.ocr\"\n",
        "            with open(temp_filename, 'wb') as f:\n",
        "                f.write(response.content)\n",
        "            \n",
        "            # Read the OCR text\n",
        "            try:\n",
        "                with open(temp_filename, 'r') as file:\n",
        "                    ocr_text = file.read()\n",
        "                # Write to the CSV file\n",
        "                writer.writerow([ids, ocr_text])\n",
        "            except Exception as e:\n",
        "                pass\n",
        "\n",
        "            # Delete the temporary ocr file\n",
        "            os.remove(temp_filename)\n",
        "        else:\n",
        "            pass"
      ]
    },
    {
      "cell_type": "code",
      "execution_count": null,
      "metadata": {},
      "outputs": [],
      "source": [
        "#Sanity Check \n",
        "id_count = 0\n",
        "with open('data\\ocr_celeb_texts.csv', mode='r', newline='') as file:\n",
        "    reader = csv.reader(file)\n",
        "    next(reader)\n",
        "    for row in reader:\n",
        "        id_count += 1\n",
        "print(id_count)"
      ]
    },
    {
      "cell_type": "code",
      "execution_count": null,
      "metadata": {
        "colab": {
          "base_uri": "https://localhost:8080/"
        },
        "id": "sRMFz2buUl96",
        "outputId": "3de6027b-3d43-4d31-897e-7718e8530eac"
      },
      "outputs": [],
      "source": [
        "import re\n",
        "import nltk\n",
        "nltk.download('stopwords')\n",
        "nltk.download('punkt')\n",
        "from nltk.corpus import stopwords\n",
        "from nltk.tokenize import word_tokenize\n",
        "from nltk.util import bigrams, trigrams\n",
        "from collections import Counter"
      ]
    },
    {
      "cell_type": "code",
      "execution_count": null,
      "metadata": {
        "id": "iWSHB65mSxnT"
      },
      "outputs": [],
      "source": [
        "# Function to preprocess text\n",
        "def preprocess_text(text):\n",
        "    text = text.lower()\n",
        "    text = re.sub(r'[^\\w\\s]', '', text)\n",
        "    tokens = word_tokenize(text)\n",
        "    tokens = [word for word in tokens if word not in stopwords.words('english')]\n",
        "    return ' '.join(tokens)\n",
        "\n",
        "# Dictionary to store OCR texts\n",
        "ocr_texts = {}\n",
        "\n",
        "# Path to the CSV file\n",
        "csv_path = 'data\\ocr_texts.csv'\n",
        "\n",
        "# Read the OCR text from CSV into the dictionary\n",
        "with open(csv_path, mode='r', newline='') as file:\n",
        "    reader = csv.reader(file)\n",
        "    next(reader)  # Skip the header\n",
        "    for row in reader:\n",
        "        doc_id, ocr_text = row\n",
        "        ocr_texts[doc_id] = ocr_text\n",
        "\n",
        "# Preprocess each stored OCR text\n",
        "for doc_id, ocr_text in ocr_texts.items():\n",
        "    processed_text = preprocess_text(ocr_text)\n",
        "    ocr_texts[doc_id] = processed_text"
      ]
    },
    {
      "cell_type": "code",
      "execution_count": null,
      "metadata": {},
      "outputs": [],
      "source": [
        "print(len(ocr_texts))"
      ]
    },
    {
      "cell_type": "markdown",
      "metadata": {},
      "source": [
        "Count Vectorizer"
      ]
    },
    {
      "cell_type": "code",
      "execution_count": null,
      "metadata": {},
      "outputs": [],
      "source": [
        "import pandas as pd\n",
        "from sklearn.feature_extraction.text import CountVectorizer\n",
        "\n",
        "documents = list(ocr_texts.values())  # Get all the pre-processed text values as a list\n",
        "\n",
        "# Initialize the CountVectorizer\n",
        "vectorizer = CountVectorizer()\n",
        "\n",
        "doc_term_matrix = vectorizer.fit_transform(documents)\n",
        "\n",
        "# Convert the matrix to a DataFrame\n",
        "df = pd.DataFrame(doc_term_matrix.toarray(), columns=vectorizer.get_feature_names_out())\n",
        "\n",
        "# Save the DataFrame to a CSV file\n",
        "csv_output_path = 'data\\doc_term_matrix.csv'\n",
        "df.to_csv(csv_output_path, index=False)"
      ]
    },
    {
      "cell_type": "code",
      "execution_count": null,
      "metadata": {},
      "outputs": [],
      "source": [
        "from sklearn.feature_extraction.text import TfidfVectorizer\n",
        "\n",
        "documents = list(ocr_texts.values())\n",
        "\n",
        "# Initialize the TfidfVectorizer\n",
        "tfidf_vectorizer = TfidfVectorizer()\n",
        "\n",
        "tfidf_matrix = tfidf_vectorizer.fit_transform(documents)\n",
        "\n",
        "# Convert the TF-IDF matrix to a DataFrame\n",
        "df = pd.DataFrame(tfidf_matrix.toarray(), columns=tfidf_vectorizer.get_feature_names_out())\n",
        "\n",
        "# Save the DataFrame to a CSV file\n",
        "csv_output_path = '/content/tfidf_matrix.csv'\n",
        "df.to_csv(csv_output_path, index=False)"
      ]
    },
    {
      "cell_type": "code",
      "execution_count": null,
      "metadata": {},
      "outputs": [],
      "source": []
    },
    {
      "cell_type": "markdown",
      "metadata": {},
      "source": [
        "Working codes below - not final"
      ]
    },
    {
      "cell_type": "markdown",
      "metadata": {},
      "source": [
        "Customize stopwords \n",
        "1. Most frequent words\n",
        "2. Words appearing in n% of documents"
      ]
    },
    {
      "cell_type": "code",
      "execution_count": 15,
      "metadata": {
        "id": "ZzW_CONcWwuc"
      },
      "outputs": [],
      "source": [
        "stop_words = set(stopwords.words('english'))\n",
        "#custom_stopwords = []\n",
        "stop_words.update(custom_stopwords)"
      ]
    },
    {
      "cell_type": "code",
      "execution_count": null,
      "metadata": {},
      "outputs": [],
      "source": [
        "stop_words = set(stopwords.words('english'))\n",
        "print(stop_words)"
      ]
    },
    {
      "cell_type": "code",
      "execution_count": null,
      "metadata": {
        "id": "2znJcfSEVcMM"
      },
      "outputs": [],
      "source": [
        "# Count the frequency of each word\n",
        "word_counts = Counter(processed_text.split())\n",
        "most_common_words = word_counts.most_common(100)  # Get the top 10 most common words\n",
        "\n",
        "print(most_common_words)"
      ]
    },
    {
      "cell_type": "code",
      "execution_count": null,
      "metadata": {
        "id": "V4oB4X9wWqRo"
      },
      "outputs": [],
      "source": [
        "!pip install wordcloud matplotlib\n",
        "from wordcloud import WordCloud\n",
        "import matplotlib.pyplot as plt"
      ]
    },
    {
      "cell_type": "code",
      "execution_count": null,
      "metadata": {
        "colab": {
          "base_uri": "https://localhost:8080/",
          "height": 836
        },
        "id": "q3MVMPZOXBbo",
        "outputId": "ddea6ecd-5191-4bd1-e85a-a21ee38a53bd"
      },
      "outputs": [],
      "source": [
        "# Create the word cloud\n",
        "wordcloud = WordCloud(width = 800, height = 800,\n",
        "                background_color ='black',\n",
        "                min_font_size = 10).generate(processed_text)\n",
        "\n",
        "# View the word cloud:\n",
        "plt.figure(figsize = (8, 8), facecolor = None)\n",
        "plt.imshow(wordcloud)\n",
        "plt.axis(\"off\")\n",
        "plt.tight_layout(pad = 0)\n",
        "\n",
        "plt.show()"
      ]
    },
    {
      "cell_type": "code",
      "execution_count": 23,
      "metadata": {},
      "outputs": [],
      "source": [
        "words = word_tokenize(processed_text)"
      ]
    },
    {
      "cell_type": "code",
      "execution_count": 26,
      "metadata": {},
      "outputs": [],
      "source": [
        "# Bi-grams\n",
        "bi_grams = list(bigrams(words))\n",
        "# Tri-grams\n",
        "tri_grams = list(trigrams(words))\n",
        "\n",
        "bi_gram_counts = Counter(bi_grams)\n",
        "tri_gram_counts = Counter(tri_grams)"
      ]
    },
    {
      "cell_type": "code",
      "execution_count": null,
      "metadata": {},
      "outputs": [],
      "source": [
        "# Print the counts\n",
        "print(\"Bi-gram counts:\")\n",
        "for bi_gram, count in bi_gram_counts.items():\n",
        "    print(f\"{bi_gram}: {count}\")"
      ]
    },
    {
      "cell_type": "code",
      "execution_count": null,
      "metadata": {},
      "outputs": [],
      "source": [
        "print(\"\\nTri-gram counts:\")\n",
        "for tri_gram, count in tri_gram_counts.items():\n",
        "    print(f\"{tri_gram}: {count}\")"
      ]
    },
    {
      "cell_type": "code",
      "execution_count": null,
      "metadata": {},
      "outputs": [],
      "source": [
        "# Top N bi-grams\n",
        "top_N_bi_grams = bi_gram_counts.most_common(50)\n",
        "\n",
        "# Print the top 20 bi-grams\n",
        "print(\"Top 20 Bi-grams:\")\n",
        "for bi_gram, count in top_N_bi_grams:\n",
        "    print(f\"{bi_gram}: {count}\")\n"
      ]
    },
    {
      "cell_type": "code",
      "execution_count": null,
      "metadata": {},
      "outputs": [],
      "source": [
        "# Top N tri-grams\n",
        "top_N_tri_grams = tri_gram_counts.most_common(50)\n",
        "\n",
        "# Print the top 20 tri-grams\n",
        "print(\"\\nTop N Tri-grams:\")\n",
        "for tri_gram, count in top_N_tri_grams:\n",
        "    print(f\"{tri_gram}: {count}\")"
      ]
    }
  ],
  "metadata": {
    "colab": {
      "provenance": []
    },
    "kernelspec": {
      "display_name": "Python 3",
      "name": "python3"
    },
    "language_info": {
      "codemirror_mode": {
        "name": "ipython",
        "version": 3
      },
      "file_extension": ".py",
      "mimetype": "text/x-python",
      "name": "python",
      "nbconvert_exporter": "python",
      "pygments_lexer": "ipython3",
      "version": "3.11.5"
    }
  },
  "nbformat": 4,
  "nbformat_minor": 0
}
