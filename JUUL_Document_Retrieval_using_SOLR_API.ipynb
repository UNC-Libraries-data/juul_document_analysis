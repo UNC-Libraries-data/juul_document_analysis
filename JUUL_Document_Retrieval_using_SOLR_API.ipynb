{
  "nbformat": 4,
  "nbformat_minor": 0,
  "metadata": {
    "colab": {
      "provenance": []
    },
    "kernelspec": {
      "name": "python3",
      "display_name": "Python 3"
    },
    "language_info": {
      "name": "python"
    }
  },
  "cells": [
    {
      "cell_type": "markdown",
      "source": [
        "The Solr API wrapper allows the users to query the JUUL documents repository, retrieve documents, and process the data efficiently. This wrapper simplifies the process of making HTTP requests to the Solr API, handling pagination through cursor marks, and storing the retrieved data in a structured format."
      ],
      "metadata": {
        "id": "0ChwhbnnxKB0"
      }
    },
    {
      "cell_type": "markdown",
      "source": [
        "Import the required libraries"
      ],
      "metadata": {
        "id": "tTbf3InhwKig"
      }
    },
    {
      "cell_type": "code",
      "source": [
        "import requests\n",
        "import pandas as pd"
      ],
      "metadata": {
        "id": "I9NzMLXTw2oi"
      },
      "execution_count": null,
      "outputs": []
    },
    {
      "cell_type": "markdown",
      "source": [
        "Function: query_solr_api\n",
        "\n",
        "The query_solr_api function queries the Solr server based on a specified query, retrieves all matching documents, and collects their metadata. It handles pagination using cursor marks to ensure all results are fetched.\n",
        "\n",
        "Parameters\n",
        "query (str): The Solr query string to search for specific documents.\n",
        "format (str): The format of the response from the Solr API (default is 'json').\n",
        "sort_field (str): The field by which the results should be sorted (default is 'id').\n",
        "cursor_mark (str): The cursor mark to manage pagination (default is '*').\n",
        "\n",
        "Returns\n",
        "documents_list (list): A list of dictionaries, where each dictionary contains the metadata of a retrieved document."
      ],
      "metadata": {
        "id": "RcR-k61nxfOs"
      }
    },
    {
      "cell_type": "markdown",
      "source": [
        "Function: save_to_csv\n",
        "\n",
        "The save_to_csv function takes the list of document metadata and saves it as a CSV file.\n",
        "\n",
        "Parameters\n",
        "documents_list (list): The list of document metadata to be saved.\n",
        "filename (str): The name of the CSV file to save the data (default is 'documents_metadata.csv')."
      ],
      "metadata": {
        "id": "ecjxsi5RyEaF"
      }
    },
    {
      "cell_type": "code",
      "source": [
        "# Define the query_solr_api function\n",
        "def query_solr_api(query, format='json', sort_field='id', cursor_mark='*'):\n",
        "    global documents_list  # Declare documents_list as global\n",
        "    base_api = f'https://solr.idl.ucsf.edu/solr/ltdl3/query?q={query}&wt={format}'\n",
        "    documents_list = []  # Initialize the global documents_list\n",
        "\n",
        "    # while loop to retrieve documents, the loop will run as long as the cursor mark is valid\n",
        "    while cursor_mark:\n",
        "        api_final = f\"{base_api}&cursorMark={cursor_mark}&sort={sort_field}%20desc\"  # constructs the final API url with the current cursor_mark and sorting.\n",
        "        try:\n",
        "            response = requests.get(api_final)\n",
        "            response.raise_for_status()\n",
        "        except requests.exceptions.RequestException as e:\n",
        "            print(f\"Error: {e}\")\n",
        "            break\n",
        "\n",
        "        data = response.json()\n",
        "        documents = data.get('response', {}).get('docs', [])  # extracts the list of documents from the response.\n",
        "        documents_list.extend(documents)  # adds all document metadata to documents_list\n",
        "\n",
        "        # prints information about the current step\n",
        "        print(f\"Retrieved {len(documents)} documents. Total documents collected: {len(documents_list)}\")\n",
        "\n",
        "        # retrieves the next cursor mark for next set of documents. Checks if the cursor_mark hasn't changed to avoid an infinite loop, breaking the loop if it hasn't.\n",
        "        next_cursor_mark = data.get('nextCursorMark', None)\n",
        "        if cursor_mark == next_cursor_mark:\n",
        "            break\n",
        "        cursor_mark = next_cursor_mark\n",
        "\n",
        "    # Final output information\n",
        "    print(f\"Total number of documents collected: {len(documents_list)}\")\n",
        "    print(f\"Last cursor mark used: {cursor_mark}\")\n",
        "\n",
        "    return documents_list\n",
        "\n",
        "    # Function to save the documents list to a CSV file\n",
        "def save_to_csv(documents_list, filename='JUUL_documents_metadata.csv'):\n",
        "    # Create a DataFrame from the documents list\n",
        "    df = pd.DataFrame(documents_list)\n",
        "    # Save DataFrame to CSV\n",
        "    df.to_csv(filename, index=False)\n",
        "    print(f\"Saved documents metadata to {filename}\")\n",
        "\n",
        "# Example usage of the function\n",
        "def main():\n",
        "    query = '(collection:\"JUUL labs Collection\" AND case:\"State of North Carolina\" AND \"secret shop\" AND type:\"email\")' # modify query as required\n",
        "    documents_list = query_solr_api(query)\n",
        "    save_to_csv(documents_list, 'juul_documents_metadata.csv')\n",
        "\n",
        "\n",
        "# Ensures that main function is called only if the script is run directly (not imported as a module)\n",
        "if __name__ == \"__main__\":\n",
        "    main()"
      ],
      "metadata": {
        "id": "b6Jb4bmCwyuY"
      },
      "execution_count": null,
      "outputs": []
    },
    {
      "cell_type": "code",
      "source": [],
      "metadata": {
        "id": "hP4I7KK_xvGV"
      },
      "execution_count": null,
      "outputs": []
    },
    {
      "cell_type": "code",
      "source": [],
      "metadata": {
        "id": "CkNZflpWxycF"
      },
      "execution_count": null,
      "outputs": []
    },
    {
      "cell_type": "markdown",
      "source": [
        "Code to retrieve document ids"
      ],
      "metadata": {
        "id": "tr6wHdnuyeBc"
      }
    },
    {
      "cell_type": "code",
      "source": [
        "# Define the query_solr_api function\n",
        "def query_solr_api(query, format='json', sort_field='id', cursor_mark='*'):\n",
        "    global ids_list  # Declare ids_list as global\n",
        "    base_api = f'https://solr.idl.ucsf.edu/solr/ltdl3/query?q={query}&wt={format}'\n",
        "    ids_list = []  # Initialize the global ids_list\n",
        "\n",
        "    # while loop to retrieve documents, the loop will run as long as the cursor mark is valid\n",
        "    while cursor_mark:\n",
        "        api_final = f\"{base_api}&cursorMark={cursor_mark}&sort={sort_field}%20desc\"  # constructs the final API url with the current cursor_mark and sorting.\n",
        "        try:\n",
        "            response = requests.get(api_final)\n",
        "            response.raise_for_status()\n",
        "        except requests.exceptions.RequestException as e:\n",
        "            print(f\"Error: {e}\")\n",
        "            break\n",
        "\n",
        "        data = response.json()\n",
        "        documents = data.get('response', {}).get('docs', [])  # extracts the list of documents from the response.\n",
        "        ids_list.extend([doc['id'] for doc in documents if 'id' in doc])  # adds the id of each document to ids_list if it exists.\n",
        "\n",
        "        # prints information about the current step\n",
        "        print(f\"Retrieved {len(documents)} documents. Total IDs collected: {len(ids_list)}\")\n",
        "\n",
        "        # retrieves the next cursor mark for next set of documents. Checks if the cursor_mark hasn't changed to avoid an infinite loop, breaking the loop if it hasn't.\n",
        "        next_cursor_mark = data.get('nextCursorMark', None)\n",
        "        if cursor_mark == next_cursor_mark:\n",
        "            break\n",
        "        cursor_mark = next_cursor_mark\n",
        "\n",
        "    # Final output information\n",
        "    print(f\"Total number of document IDs collected: {len(ids_list)}\")\n",
        "    print(f\"Last cursor mark used: {cursor_mark}\")\n",
        "\n",
        "    return ids_list\n",
        "\n",
        "# Example usage of the function\n",
        "def main():\n",
        "    query = '(collection:\"JUUL labs Collection\" AND case:\"State of North Carolina\" AND \"secret shop\" AND type:\"email\")'\n",
        "    ids_list = query_solr_api(query)\n",
        "    print(f\"Collected document IDs: {ids_list}\")\n",
        "\n",
        "# Ensures that main function is called only if the script is run directly (not imported as a module)\n",
        "if __name__ == \"__main__\":\n",
        "    main()"
      ],
      "metadata": {
        "id": "YNPX53D6vqyg"
      },
      "execution_count": null,
      "outputs": []
    }
  ]
}