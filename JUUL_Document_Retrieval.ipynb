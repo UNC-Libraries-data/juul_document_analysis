{
  "cells": [
    {
      "cell_type": "markdown",
      "metadata": {
        "id": "0ChwhbnnxKB0"
      },
      "source": [
        "The Solr API wrapper allows the users to query the JUUL documents repository, retrieve documents, and process the data efficiently. This wrapper simplifies the process of making HTTP requests to the Solr API, handling pagination through cursor marks, and storing the retrieved data in a structured format."
      ]
    },
    {
      "cell_type": "markdown",
      "metadata": {
        "id": "tTbf3InhwKig"
      },
      "source": [
        "Import the required libraries"
      ]
    },
    {
      "cell_type": "code",
      "execution_count": 1,
      "metadata": {
        "id": "I9NzMLXTw2oi"
      },
      "outputs": [],
      "source": [
        "from src.api.ucsf_api import IndustryDocsSearch"
      ]
    },
    {
      "cell_type": "markdown",
      "metadata": {
        "id": "eBRSnUDfy54q"
      },
      "source": [
        "#### The following example demonstrates how to use the API wrapper to query the Solr server for documents related to JUUL Labs Collection, and save the results to a CSV file.\n",
        "\n",
        "For example, the query input can be query = '(collection:\"JUUL labs Collection\" AND case:\"State of North Carolina\" AND type:\"email\" AND \"launch party\")'. This retrieves all email metadata related to the launch party.\n",
        "\n",
        "Another query input could be query = '(collection:\"JUUL labs Collection\" AND case:\"State of North Carolina\" AND \"age verification\")'. This retrieves all documents metadata present in the respository related to age verification.\n",
        "\n",
        "Another query input could be query = '(collection:\"JUUL labs Collection\" AND case:\"State of North Carolina\")'. This retrieves all metadata present in the respository related to the JUUL vs State of North Carolina lawsuit\n",
        "\n",
        "**Note: The query may take some time to run**\n"
      ]
    },
    {
      "cell_type": "code",
      "execution_count": 2,
      "metadata": {
        "id": "q4e9cqrvy7CX"
      },
      "outputs": [
        {
          "name": "stdout",
          "output_type": "stream",
          "text": [
            "100/2045 documents collected\n",
            "200/2045 documents collected\n",
            "300/2045 documents collected\n",
            "400/2045 documents collected\n",
            "500/2045 documents collected\n",
            "600/2045 documents collected\n",
            "700/2045 documents collected\n",
            "800/2045 documents collected\n",
            "900/2045 documents collected\n",
            "1000/2045 documents collected\n",
            "1100/2045 documents collected\n",
            "1200/2045 documents collected\n",
            "1300/2045 documents collected\n",
            "1400/2045 documents collected\n",
            "1500/2045 documents collected\n",
            "1600/2045 documents collected\n",
            "1700/2045 documents collected\n",
            "1800/2045 documents collected\n",
            "1900/2045 documents collected\n",
            "2000/2045 documents collected\n",
            "2045/2045 documents collected\n",
            "2045/2045 documents collected\n"
          ]
        }
      ],
      "source": [
        "# Example usage of the function\n",
        "def main():\n",
        "    query = '(collection:\"JUUL labs Collection\" AND case:\"State of North Carolina\" AND type:\"email\" AND \"launch party\")' # modify query as required\n",
        "    api = IndustryDocsSearch()\n",
        "    api.query(query)\n",
        "    api.save('juul_documents_metadata.parquet')\n",
        "\n",
        "\n",
        "# Ensures that main function is called only if the script is run directly (not imported as a module)\n",
        "if __name__ == \"__main__\":\n",
        "    main()"
      ]
    },
    {
      "cell_type": "code",
      "execution_count": null,
      "metadata": {},
      "outputs": [],
      "source": []
    }
  ],
  "metadata": {
    "colab": {
      "provenance": []
    },
    "kernelspec": {
      "display_name": "Python 3",
      "name": "python3"
    },
    "language_info": {
      "codemirror_mode": {
        "name": "ipython",
        "version": 3
      },
      "file_extension": ".py",
      "mimetype": "text/x-python",
      "name": "python",
      "nbconvert_exporter": "python",
      "pygments_lexer": "ipython3",
      "version": "3.12.5"
    }
  },
  "nbformat": 4,
  "nbformat_minor": 0
}
