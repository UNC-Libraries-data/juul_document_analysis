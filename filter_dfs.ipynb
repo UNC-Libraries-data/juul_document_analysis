{
 "cells": [
  {
   "cell_type": "code",
   "execution_count": 1,
   "metadata": {},
   "outputs": [],
   "source": [
    "import os \n",
    "import pandas as pd"
   ]
  },
  {
   "cell_type": "code",
   "execution_count": 22,
   "metadata": {},
   "outputs": [],
   "source": [
    "sample_ids = []"
   ]
  },
  {
   "cell_type": "code",
   "execution_count": 3,
   "metadata": {},
   "outputs": [],
   "source": [
    "parent_dir = './JUUL_Labs_Collection/'"
   ]
  },
  {
   "cell_type": "code",
   "execution_count": 31,
   "metadata": {},
   "outputs": [
    {
     "name": "stderr",
     "output_type": "stream",
     "text": [
      "C:\\Users\\rolando\\AppData\\Local\\Temp\\ipykernel_29508\\2833619557.py:2: DtypeWarning: Columns (13) have mixed types. Specify dtype option on import or set low_memory=False.\n",
      "  temp_df = pd.read_csv(os.path.join(parent_dir, csv), encoding='utf-8', delimiter='|')\n",
      "C:\\Users\\rolando\\AppData\\Local\\Temp\\ipykernel_29508\\2833619557.py:2: DtypeWarning: Columns (13) have mixed types. Specify dtype option on import or set low_memory=False.\n",
      "  temp_df = pd.read_csv(os.path.join(parent_dir, csv), encoding='utf-8', delimiter='|')\n",
      "C:\\Users\\rolando\\AppData\\Local\\Temp\\ipykernel_29508\\2833619557.py:2: DtypeWarning: Columns (13) have mixed types. Specify dtype option on import or set low_memory=False.\n",
      "  temp_df = pd.read_csv(os.path.join(parent_dir, csv), encoding='utf-8', delimiter='|')\n",
      "C:\\Users\\rolando\\AppData\\Local\\Temp\\ipykernel_29508\\2833619557.py:2: DtypeWarning: Columns (13) have mixed types. Specify dtype option on import or set low_memory=False.\n",
      "  temp_df = pd.read_csv(os.path.join(parent_dir, csv), encoding='utf-8', delimiter='|')\n",
      "C:\\Users\\rolando\\AppData\\Local\\Temp\\ipykernel_29508\\2833619557.py:2: DtypeWarning: Columns (13) have mixed types. Specify dtype option on import or set low_memory=False.\n",
      "  temp_df = pd.read_csv(os.path.join(parent_dir, csv), encoding='utf-8', delimiter='|')\n",
      "C:\\Users\\rolando\\AppData\\Local\\Temp\\ipykernel_29508\\2833619557.py:2: DtypeWarning: Columns (13) have mixed types. Specify dtype option on import or set low_memory=False.\n",
      "  temp_df = pd.read_csv(os.path.join(parent_dir, csv), encoding='utf-8', delimiter='|')\n",
      "C:\\Users\\rolando\\AppData\\Local\\Temp\\ipykernel_29508\\2833619557.py:2: DtypeWarning: Columns (13) have mixed types. Specify dtype option on import or set low_memory=False.\n",
      "  temp_df = pd.read_csv(os.path.join(parent_dir, csv), encoding='utf-8', delimiter='|')\n"
     ]
    }
   ],
   "source": [
    "for csv in os.listdir(parent_dir):\n",
    "    temp_df = pd.read_csv(os.path.join(parent_dir, csv), encoding='utf-8', delimiter='|')\n",
    "    sample_ids.append(temp_df['id'][0])"
   ]
  },
  {
   "cell_type": "code",
   "execution_count": 37,
   "metadata": {},
   "outputs": [
    {
     "data": {
      "text/plain": [
       "'nmkd0286'"
      ]
     },
     "execution_count": 37,
     "metadata": {},
     "output_type": "execute_result"
    }
   ],
   "source": [
    "sample_ids[0]"
   ]
  },
  {
   "cell_type": "code",
   "execution_count": 38,
   "metadata": {},
   "outputs": [],
   "source": [
    "with open('sample_ids.txt', 'w') as f:\n",
    "    list_id = ','.join(sample_ids)\n",
    "    f.write(list_id)"
   ]
  },
  {
   "cell_type": "code",
   "execution_count": 39,
   "metadata": {},
   "outputs": [
    {
     "data": {
      "text/plain": [
       "['nmkd0286', 'nlyx0286', 'fnbl0285', 'qsbc0299', 'nynb0299']"
      ]
     },
     "execution_count": 39,
     "metadata": {},
     "output_type": "execute_result"
    }
   ],
   "source": [
    "# load list of ids from sample_ids.txt\n",
    "\n",
    "ids_sample = []\n",
    "\n",
    "with open('sample_ids.txt', 'r') as f:\n",
    "    id_list = f.readline().split(',')\n",
    "    sample_ids.extend(id_list)\n",
    "\n",
    "sample_ids[:5]\n"
   ]
  },
  {
   "cell_type": "code",
   "execution_count": 42,
   "metadata": {},
   "outputs": [
    {
     "name": "stdout",
     "output_type": "stream",
     "text": [
      "['id', 'tid', 'bates', 'type', 'description', 'title', 'author', 'mentioned', 'attending', 'copied', 'recipient', 'redacted', 'collection_name', 'pages', 'exhibit_number', 'document_date', 'date_added_ucsf', 'date_modified_ucsf', 'date_added_industry', 'date_modified_industry', 'date_produced', 'date_shipped', 'deposition_date', 'date_privilege_logged', 'case', 'industry', 'drug', 'adverse_ruling', 'area', 'bates_alternate', 'box', 'brand', 'country', 'language', 'court', 'format', 'express_waiver', 'file', 'genre', 'keywords', 'bates_master', 'other_number', 'request_number', 'minnesota_request_number', 'privilege_code', 'topic', 'witness', 'cited', 'availability', 'grant_number', 'source', 'folder', 'series', 'chemical', 'food', 'rights', 'attachment', 'attachmentnum', 'conversation', 'conversationid', 'custodian', 'datereceived', 'datesent', 'filename', 'filepath', 'messageid', 'subject', 'timereceived', 'timesent', 'redaction', 'ocr_text']\n"
     ]
    }
   ],
   "source": [
    "df_columns = list(pd.read_csv('./JUUL_Labs_collection/JUUL_Labs_Collection_0.csv', delimiter='|').columns)\n",
    "\n",
    "print(df_columns)"
   ]
  },
  {
   "cell_type": "code",
   "execution_count": 45,
   "metadata": {},
   "outputs": [],
   "source": [
    "def find_metadata(id_list):\n",
    "    # initialize empty dataframe\n",
    "    #df_columns = ['id', 'tid', 'bates', 'type', 'description', 'title', 'author', 'mentioned', 'attending', 'copied', 'recipient', 'redacted', 'collection_name', 'pages', 'exhibit_number', 'document_date', 'date_added_ucsf', 'date_modified_ucsf', 'date_added_industry', 'date_modified_industry', 'date_produced', 'date_shipped', 'deposition_date', 'date_privilege_logged', 'case', 'industry', 'drug', 'adverse_ruling', 'area', 'bates_alternate', 'box', 'brand', 'country', 'language', 'court', 'format', 'express_waiver', 'file', 'genre', 'keywords', 'bates_master', 'other_number', 'request_number', 'minnesota_request_number', 'privilege_code', 'topic', 'witness', 'cited', 'availability', 'grant_number', 'source', 'folder', 'series', 'chemical', 'food', 'rights', 'attachment', 'attachmentnum', 'conversation', 'conversationid', 'custodian', 'datereceived', 'datesent', 'filename', 'filepath', 'messageid', 'subject', 'timereceived', 'timesent', 'redaction', 'ocr_text']\n",
    "    result_df = pd.DataFrame()\n",
    "\n",
    "    parent_dir = './JUUL_Labs_Collection/'\n",
    "    for csv in os.listdir(parent_dir):\n",
    "        csv_path = os.path.join(parent_dir, csv)\n",
    "        \n",
    "        df = pd.read_csv(csv_path, delimiter='|')\n",
    "\n",
    "        filtered_df = df[df[df.columns[0]].isin(id_list)]\n",
    "\n",
    "        result_df = pd.concat([result_df, filtered_df])\n",
    "\n",
    "    return result_df\n"
   ]
  },
  {
   "cell_type": "code",
   "execution_count": 46,
   "metadata": {},
   "outputs": [
    {
     "name": "stderr",
     "output_type": "stream",
     "text": [
      "C:\\Users\\rolando\\AppData\\Local\\Temp\\ipykernel_29508\\472814943.py:10: DtypeWarning: Columns (13) have mixed types. Specify dtype option on import or set low_memory=False.\n",
      "  df = pd.read_csv(csv_path, delimiter='|')\n",
      "C:\\Users\\rolando\\AppData\\Local\\Temp\\ipykernel_29508\\472814943.py:10: DtypeWarning: Columns (13) have mixed types. Specify dtype option on import or set low_memory=False.\n",
      "  df = pd.read_csv(csv_path, delimiter='|')\n",
      "C:\\Users\\rolando\\AppData\\Local\\Temp\\ipykernel_29508\\472814943.py:10: DtypeWarning: Columns (13) have mixed types. Specify dtype option on import or set low_memory=False.\n",
      "  df = pd.read_csv(csv_path, delimiter='|')\n",
      "C:\\Users\\rolando\\AppData\\Local\\Temp\\ipykernel_29508\\472814943.py:10: DtypeWarning: Columns (13) have mixed types. Specify dtype option on import or set low_memory=False.\n",
      "  df = pd.read_csv(csv_path, delimiter='|')\n",
      "C:\\Users\\rolando\\AppData\\Local\\Temp\\ipykernel_29508\\472814943.py:10: DtypeWarning: Columns (13) have mixed types. Specify dtype option on import or set low_memory=False.\n",
      "  df = pd.read_csv(csv_path, delimiter='|')\n",
      "C:\\Users\\rolando\\AppData\\Local\\Temp\\ipykernel_29508\\472814943.py:10: DtypeWarning: Columns (13) have mixed types. Specify dtype option on import or set low_memory=False.\n",
      "  df = pd.read_csv(csv_path, delimiter='|')\n",
      "C:\\Users\\rolando\\AppData\\Local\\Temp\\ipykernel_29508\\472814943.py:10: DtypeWarning: Columns (13) have mixed types. Specify dtype option on import or set low_memory=False.\n",
      "  df = pd.read_csv(csv_path, delimiter='|')\n"
     ]
    }
   ],
   "source": [
    "df = find_metadata(sample_ids)"
   ]
  },
  {
   "cell_type": "code",
   "execution_count": 47,
   "metadata": {},
   "outputs": [
    {
     "data": {
      "text/html": [
       "<div>\n",
       "<style scoped>\n",
       "    .dataframe tbody tr th:only-of-type {\n",
       "        vertical-align: middle;\n",
       "    }\n",
       "\n",
       "    .dataframe tbody tr th {\n",
       "        vertical-align: top;\n",
       "    }\n",
       "\n",
       "    .dataframe thead th {\n",
       "        text-align: right;\n",
       "    }\n",
       "</style>\n",
       "<table border=\"1\" class=\"dataframe\">\n",
       "  <thead>\n",
       "    <tr style=\"text-align: right;\">\n",
       "      <th></th>\n",
       "      <th>id</th>\n",
       "      <th>tid</th>\n",
       "      <th>bates</th>\n",
       "      <th>type</th>\n",
       "      <th>description</th>\n",
       "      <th>title</th>\n",
       "      <th>author</th>\n",
       "      <th>mentioned</th>\n",
       "      <th>attending</th>\n",
       "      <th>copied</th>\n",
       "      <th>...</th>\n",
       "      <th>datereceived</th>\n",
       "      <th>datesent</th>\n",
       "      <th>filename</th>\n",
       "      <th>filepath</th>\n",
       "      <th>messageid</th>\n",
       "      <th>subject</th>\n",
       "      <th>timereceived</th>\n",
       "      <th>timesent</th>\n",
       "      <th>redaction</th>\n",
       "      <th>ocr_text</th>\n",
       "    </tr>\n",
       "  </thead>\n",
       "  <tbody>\n",
       "    <tr>\n",
       "      <th>0</th>\n",
       "      <td>sgkp0298</td>\n",
       "      <td></td>\n",
       "      <td>JLI10751857</td>\n",
       "      <td>spreadsheet</td>\n",
       "      <td></td>\n",
       "      <td>Speedway Cohort Analysis - v32_1jHgHz6HpSBwYai...</td>\n",
       "      <td>Alex Faust</td>\n",
       "      <td></td>\n",
       "      <td></td>\n",
       "      <td></td>\n",
       "      <td>...</td>\n",
       "      <td></td>\n",
       "      <td></td>\n",
       "      <td>Speedway Cohort Analysis - v32_1jHgHz6HpSBwYai...</td>\n",
       "      <td>\\Faust, Alexandre\\Alex_Faust_Drive_20\\Speedway...</td>\n",
       "      <td></td>\n",
       "      <td></td>\n",
       "      <td></td>\n",
       "      <td></td>\n",
       "      <td></td>\n",
       "      <td>﻿Outputs--&gt;   Depletion_vs_Scan   RK Cohorts R...</td>\n",
       "    </tr>\n",
       "    <tr>\n",
       "      <th>0</th>\n",
       "      <td>ymdf0288</td>\n",
       "      <td></td>\n",
       "      <td>JLI06492246</td>\n",
       "      <td>email</td>\n",
       "      <td></td>\n",
       "      <td>[PROT-00016] RE: JUUL PROT-00016 Group 1 Update</td>\n",
       "      <td>Donald Peterson &lt;dpeterson@altasciences.com&gt;</td>\n",
       "      <td></td>\n",
       "      <td></td>\n",
       "      <td>prot-00016@juul.com, Beth Williams &lt;bewilliams...</td>\n",
       "      <td>...</td>\n",
       "      <td></td>\n",
       "      <td>2018 December 17</td>\n",
       "      <td>[PROT-00016] RE: JUUL PROT-00016 Group 1 Update</td>\n",
       "      <td>\\Myers, Daniel\\Dan Myers_Laptop Druva_5-15-202...</td>\n",
       "      <td></td>\n",
       "      <td></td>\n",
       "      <td></td>\n",
       "      <td></td>\n",
       "      <td></td>\n",
       "      <td>From:  To:  CC:  Sent:  Subject:    Donald Pet...</td>\n",
       "    </tr>\n",
       "  </tbody>\n",
       "</table>\n",
       "<p>2 rows × 71 columns</p>\n",
       "</div>"
      ],
      "text/plain": [
       "         id tid        bates         type description  \\\n",
       "0  sgkp0298      JLI10751857  spreadsheet               \n",
       "0  ymdf0288      JLI06492246        email               \n",
       "\n",
       "                                               title  \\\n",
       "0  Speedway Cohort Analysis - v32_1jHgHz6HpSBwYai...   \n",
       "0    [PROT-00016] RE: JUUL PROT-00016 Group 1 Update   \n",
       "\n",
       "                                         author mentioned attending  \\\n",
       "0                                    Alex Faust                       \n",
       "0  Donald Peterson <dpeterson@altasciences.com>                       \n",
       "\n",
       "                                              copied  ... datereceived  \\\n",
       "0                                                     ...                \n",
       "0  prot-00016@juul.com, Beth Williams <bewilliams...  ...                \n",
       "\n",
       "           datesent                                           filename  \\\n",
       "0                    Speedway Cohort Analysis - v32_1jHgHz6HpSBwYai...   \n",
       "0  2018 December 17    [PROT-00016] RE: JUUL PROT-00016 Group 1 Update   \n",
       "\n",
       "                                            filepath messageid subject  \\\n",
       "0  \\Faust, Alexandre\\Alex_Faust_Drive_20\\Speedway...                     \n",
       "0  \\Myers, Daniel\\Dan Myers_Laptop Druva_5-15-202...                     \n",
       "\n",
       "  timereceived timesent redaction  \\\n",
       "0                                   \n",
       "0                                   \n",
       "\n",
       "                                            ocr_text  \n",
       "0  ﻿Outputs-->   Depletion_vs_Scan   RK Cohorts R...  \n",
       "0  From:  To:  CC:  Sent:  Subject:    Donald Pet...  \n",
       "\n",
       "[2 rows x 71 columns]"
      ]
     },
     "execution_count": 47,
     "metadata": {},
     "output_type": "execute_result"
    }
   ],
   "source": [
    "df.sample(2)"
   ]
  }
 ],
 "metadata": {
  "kernelspec": {
   "display_name": "base",
   "language": "python",
   "name": "python3"
  },
  "language_info": {
   "codemirror_mode": {
    "name": "ipython",
    "version": 3
   },
   "file_extension": ".py",
   "mimetype": "text/x-python",
   "name": "python",
   "nbconvert_exporter": "python",
   "pygments_lexer": "ipython3",
   "version": "3.11.5"
  }
 },
 "nbformat": 4,
 "nbformat_minor": 2
}
