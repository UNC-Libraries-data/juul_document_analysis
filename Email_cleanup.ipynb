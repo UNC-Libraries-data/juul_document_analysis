{
  "cells": [
    {
      "cell_type": "code",
      "execution_count": null,
      "metadata": {
        "colab": {
          "base_uri": "https://localhost:8080/"
        },
        "id": "vuAOJrBQgcf3",
        "outputId": "4768c832-3124-45df-edfb-4be687a268dd"
      },
      "outputs": [],
      "source": [
        "import os\n",
        "import pandas as pd\n",
        "df = pd.read_csv('/content/Trial.txt', sep='\\t')\n",
        "df.head(100)"
      ]
    },
    {
      "cell_type": "code",
      "execution_count": null,
      "metadata": {
        "colab": {
          "base_uri": "https://localhost:8080/"
        },
        "id": "jz69Qwj1GYjL",
        "outputId": "dbcc9d7e-64e3-4668-8a2c-5a96acf7b2a0"
      },
      "outputs": [],
      "source": [
        "df.drop(columns=['id'], inplace=True)\n",
        "df.head()"
      ]
    },
    {
      "cell_type": "code",
      "execution_count": null,
      "metadata": {
        "colab": {
          "base_uri": "https://localhost:8080/",
          "height": 176
        },
        "id": "iDotnnTW-Vx9",
        "outputId": "9270bd7f-2147-4dad-8843-22bb51cfaf6f"
      },
      "outputs": [],
      "source": [
        "# Count of unique authors\n",
        "unique_authors_count = new_df['author'].nunique()\n",
        "print(f\"Total count of unique authors: {unique_authors_count}\")"
      ]
    },
    {
      "cell_type": "code",
      "execution_count": null,
      "metadata": {
        "colab": {
          "base_uri": "https://localhost:8080/"
        },
        "id": "NygxejjV3lLH",
        "outputId": "bdd8c804-6918-43bc-ba8e-1aea1bab4533"
      },
      "outputs": [],
      "source": [
        "# Count of occurrences for each unique author\n",
        "author_occurrences = df['author'].value_counts().to_dict()\n",
        "filtered_author_occurrences = {author: count for author, count in author_occurrences.items() if count >= 1000}\n",
        "#print(len(filtered_author_occurrences))\n",
        "\n",
        "sorted_author_occurrences = dict(sorted(filtered_author_occurrences.items(), key=lambda item: item[1], reverse=True))\n",
        "print(len(sorted_author_occurrences))\n",
        "\n",
        "# Print the sorted dictionary\n",
        "for author, count in sorted_author_occurrences.items():\n",
        "    print(f\"{author}: {count}\")\n"
      ]
    },
    {
      "cell_type": "code",
      "execution_count": null,
      "metadata": {
        "id": "ceqLKYVZ_ZvB"
      },
      "outputs": [],
      "source": [
        "authors_to_keep = set(sorted_author_occurrences.keys())\n",
        "\n",
        "#  Create a new df which includes rows with authors in 'authors_to_include'\n",
        "new_df = df[df['author'].isin(authors_to_keep)]\n",
        "new_df"
      ]
    },
    {
      "cell_type": "code",
      "execution_count": null,
      "metadata": {
        "id": "eUDxzy-6nVg_"
      },
      "outputs": [],
      "source": [
        "char_replace = ['<\"', '\">', '\\\\', 'O\\\\', 'o\\\\', '\\\\\\\\','\"']\n",
        "\n",
        "new_df['author'] = new_df['author'].astype(str)\n",
        "new_df['recipient'] = new_df['recipient'].astype(str)\n",
        "new_df['copied'] = new_df['copied'].astype(str)\n",
        "\n",
        "for char in char_replace:\n",
        "    new_df['author'] = new_df['author'].str.replace(char, '', regex=False)\n",
        "    new_df['recipient'] = new_df['recipient'].str.replace(char, '', regex=False)\n",
        "    new_df['copied'] = new_df['copied'].str.replace(char, '', regex=False)"
      ]
    },
    {
      "cell_type": "code",
      "execution_count": null,
      "metadata": {
        "id": "P5bqwy0TIPJi"
      },
      "outputs": [],
      "source": [
        "def remove_duplicates(text):\n",
        "    parts = text.split()\n",
        "    unique_parts = []\n",
        "    for part in parts:\n",
        "        if part.lower() not in unique_parts:\n",
        "            unique_parts.append(part.lower())\n",
        "    return ' '.join(unique_parts)\n",
        "new_df['author']= new_df['author'].apply(remove_duplicates)\n",
        "new_df['recipient'] = new_df['recipient'].apply(remove_duplicates)\n",
        "new_df['copied'] = new_df['copied'].apply(remove_duplicates)\n"
      ]
    },
    {
      "cell_type": "code",
      "execution_count": null,
      "metadata": {
        "id": "uf59wWC0vBBX"
      },
      "outputs": [],
      "source": [
        "# Function to convert each row into individual edges\n",
        "def expand_row(row, edge_type):\n",
        "    contacts = row[edge_type].split(',') if pd.notna(row[edge_type]) else []\n",
        "    return [(row['author'].strip(), contact.strip(), edge_type) for contact in contacts]\n",
        "\n",
        "# Create edges based on 'recipient' and 'copied' fields\n",
        "edges = []\n",
        "new_df.apply(lambda row: edges.extend(expand_row(row, 'recipient')), axis=1)\n",
        "new_df.apply(lambda row: edges.extend(expand_row(row, 'copied')), axis=1)\n"
      ]
    },
    {
      "cell_type": "code",
      "execution_count": null,
      "metadata": {
        "colab": {
          "base_uri": "https://localhost:8080/"
        },
        "id": "9Lo7VXlW86LA",
        "outputId": "6a9d9fae-213b-4a13-b9f1-0b6a8d5f4e45"
      },
      "outputs": [],
      "source": [
        "print(len(edges))"
      ]
    },
    {
      "cell_type": "code",
      "execution_count": null,
      "metadata": {
        "colab": {
          "base_uri": "https://localhost:8080/"
        },
        "id": "mWZD6W5ZI8Q2",
        "outputId": "8762385e-703b-40f7-8f56-8173e0e6faf1"
      },
      "outputs": [],
      "source": [
        "import networkx as nx\n",
        "import plotly.graph_objects as go\n",
        "import matplotlib.pyplot as plt\n",
        "\n",
        "G = nx.MultiDiGraph()\n",
        "\n",
        "for author, contact, edge_type in edges:\n",
        "    if author.lower() != 'nan' and contact.lower() != 'nan':\n",
        "        G.add_edge(author, contact, relation=edge_type, weight=1)\n",
        "\n",
        "# graph that only includes nodes with degree > 1\n",
        "filtered_nodes = [node for node in G.nodes if G.degree(node) > 1]\n",
        "H = G.subgraph(filtered_nodes)\n",
        "\n",
        "pos = nx.spring_layout(H)\n",
        "\n",
        "edge_x, edge_y = [], []\n",
        "for edge in H.edges():\n",
        "    x0, y0 = pos[edge[0]]\n",
        "    x1, y1 = pos[edge[1]]\n",
        "    edge_x.extend([x0, x1, None])\n",
        "    edge_y.extend([y0, y1, None])\n",
        "\n",
        "node_x, node_y, node_info = [], [], []\n",
        "for node in H.nodes():\n",
        "    x, y = pos[node]\n",
        "    node_x.append(x)\n",
        "    node_y.append(y)\n",
        "    info = f\"{node}<br># of connections: {H.degree(node)}\"\n",
        "    node_info.append(info)\n",
        "\n",
        "node_trace = go.Scatter(x=node_x, y=node_y, mode='markers', hoverinfo='text',\n",
        "                        text=node_info, marker=dict(showscale=True, colorscale='YlGnBu', size=10,\n",
        "                                                    color=[H.degree(n) for n in H.nodes()], line_width=2))\n",
        "\n",
        "fig = go.Figure(data=[go.Scatter(x=edge_x, y=edge_y, mode='lines', line=dict(color='grey', width=0.3)),\n",
        "                      node_trace],\n",
        "                layout=go.Layout(showlegend=False, hovermode='closest', xaxis=dict(showgrid=False, zeroline=False, showticklabels=False),\n",
        "                                 yaxis=dict(showgrid=False, zeroline=False, showticklabels=False), plot_bgcolor='white'))\n",
        "\n",
        "fig.show()"
      ]
    },
    {
      "cell_type": "markdown",
      "metadata": {
        "id": "sd6SWavIePKt"
      },
      "source": []
    },
    {
      "cell_type": "markdown",
      "metadata": {
        "id": "6OuW61i5IQJS"
      },
      "source": []
    }
  ],
  "metadata": {
    "accelerator": "GPU",
    "colab": {
      "gpuType": "T4",
      "provenance": []
    },
    "kernelspec": {
      "display_name": "Python 3",
      "name": "python3"
    },
    "language_info": {
      "name": "python"
    }
  },
  "nbformat": 4,
  "nbformat_minor": 0
}
