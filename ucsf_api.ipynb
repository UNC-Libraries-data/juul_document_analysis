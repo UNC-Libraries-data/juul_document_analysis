{
 "cells": [
  {
   "cell_type": "code",
   "execution_count": 1,
   "metadata": {},
   "outputs": [],
   "source": [
    "from ucsf_api import *"
   ]
  },
  {
   "cell_type": "code",
   "execution_count": 2,
   "metadata": {},
   "outputs": [],
   "source": [
    "api = IndustryDocsSearch()"
   ]
  },
  {
   "cell_type": "code",
   "execution_count": 3,
   "metadata": {},
   "outputs": [
    {
     "name": "stdout",
     "output_type": "stream",
     "text": [
      "Results are done!\n"
     ]
    }
   ],
   "source": [
    "api.query(q='vape', wt='json')\n"
   ]
  },
  {
   "cell_type": "code",
   "execution_count": 4,
   "metadata": {},
   "outputs": [
    {
     "data": {
      "text/plain": [
       "{'id': 'ffbg0286',\n",
       " 'collection': ['JUUL Labs Collection'],\n",
       " 'collectioncode': ['juul'],\n",
       " 'custodian': ['Kania, Chelsea;Mumby, Richard;Prato Casado, Paolo'],\n",
       " 'availability': ['public', 'no restrictions'],\n",
       " 'source': '[{\"type\":\"plaintext\",\"title\":\"University Libraries, University of North Carolina at Chapel Hill\"}]',\n",
       " 'filename': 'Methodology Comments and Thoughts for PLI.docx',\n",
       " 'filepath': ['\\\\Kania, Chelsea\\\\Chelsea_Kania_chelseakania@pax.com_11.pst\\\\Top of Personal Folders\\\\Inbox\\\\Research plan methodology review and JUUL SOW comments\\\\Methodology Comments and Thoughts for PLI.docx',\n",
       "  '\\\\Mumby, Richard\\\\Richard_Mumby_richard@pax.com_2.pst\\\\Top of Personal Folders\\\\Inbox\\\\Research plan methodology review and JUUL SOW comments\\\\Methodology Comments and Thoughts for PLI.docx',\n",
       "  '\\\\Kania, Chelsea\\\\Chelsea Kania\\\\Chelsea_Kania_chelseakania@pax.com_11.pst\\\\Top of Personal Folders\\\\Inbox\\\\Research plan methodology review and JUUL SOW comments\\\\Methodology Comments and Thoughts for PLI.docx',\n",
       "  '\\\\Mumby, Richard\\\\Richard Mumby\\\\Richard_Mumby_richard@pax.com_2.pst\\\\Top of Personal Folders\\\\Inbox\\\\Research plan methodology review and JUUL SOW comments\\\\Methodology Comments and Thoughts for PLI.docx',\n",
       "  '\\\\Kania, Chelsea\\\\Chelsea Kania_Google Drive\\\\fc91bea2-9845-4477-bd38-3ef0593699bf%2Fexportly-45635056-c29b-4695-aaf2-53a1afe8802d%2FChelsea_Kania_Google_Drive_1\\\\Chelsea_Kania-1_1le0hBsrF3ykzbdSgFDNbSZPq0oDI_yFN.zip\\\\Chelsea_Kania_chelseakania@pax.com_11.pst.zip\\\\Chelsea_Kania_chelseakania@pax.com_11.pst\\\\Top of Personal Folders\\\\Inbox\\\\Research plan methodology review and JUUL SOW comments\\\\Methodology Comments and Thoughts for PLI.docx',\n",
       "  '\\\\Kania, Chelsea\\\\Chelsea Kania_Email\\\\Chelsea_Kania_chelseakania@juul.com_43.pst\\\\Top of Personal Folders\\\\Inbox\\\\Research plan methodology review and JUUL SOW comments\\\\Methodology Comments and Thoughts for PLI.docx',\n",
       "  '\\\\Mumby, Richard\\\\Richard Mumby\\\\Richard_Mumby_richard@pax.com_2.pst\\\\Top of Personal Folders\\\\Inbox\\\\Research plan methodology review and JUUL SOW comments\\\\Methodology Comments and Thoughts for PLI.docx',\n",
       "  '\\\\Prato Casado, Paolo\\\\Paolo_Prato_Email\\\\Paolo_Prato_Email_paola@juul.com_26.pst\\\\Top of Personal Folders\\\\Inbox\\\\Research plan methodology review and JUUL SOW comments\\\\Methodology Comments and Thoughts for PLI.docx'],\n",
       " 'case': ['State of North Carolina, ex rel. Joshua H. Stein, Attorney General,  v. JUUL Labs, Inc'],\n",
       " 'title': 'Methodology Comments and Thoughts for PLI.docx',\n",
       " 'author': ['Kyle Langley'],\n",
       " 'documentdate': '2016 September 14',\n",
       " 'type': ['Microsoft 2007 Word Document', 'document'],\n",
       " 'pages': 2,\n",
       " 'brand': ['Juul'],\n",
       " 'bates': 'JLI05163196',\n",
       " 'dateaddeducsf': '2024 January 25'}"
      ]
     },
     "execution_count": 4,
     "metadata": {},
     "output_type": "execute_result"
    }
   ],
   "source": [
    "api.results[0]"
   ]
  },
  {
   "cell_type": "code",
   "execution_count": 4,
   "metadata": {},
   "outputs": [],
   "source": [
    "api.save_json()"
   ]
  }
 ],
 "metadata": {
  "kernelspec": {
   "display_name": "Python 3",
   "language": "python",
   "name": "python3"
  },
  "language_info": {
   "codemirror_mode": {
    "name": "ipython",
    "version": 3
   },
   "file_extension": ".py",
   "mimetype": "text/x-python",
   "name": "python",
   "nbconvert_exporter": "python",
   "pygments_lexer": "ipython3",
   "version": "3.9.13"
  }
 },
 "nbformat": 4,
 "nbformat_minor": 2
}
