{
  "cells": [
    {
      "cell_type": "markdown",
      "metadata": {
        "id": "zgJDNNa4Geak"
      },
      "source": [
        "This notebook coves the topic of identifying which celebrities JUUL targeted to promote their vaping product."
      ]
    },
    {
      "cell_type": "markdown",
      "metadata": {
        "id": "P9Onca6x_RBm"
      },
      "source": [
        "For researchers who would prefer to work with optical character recognition (OCR) text for JUUL vs State of North Carolina case from within their own database systems, these files are available for free download via the link below.\n",
        "https://ucsf.app.box.com/v/IDL-DataSets/file/1447029625798\n",
        "\n",
        "Note: The link provides access to the most current dataset, as the website undergoes a new release each month. Ensure that you have sufficient storage available to download the zip file with the OCR text (7-9 GB).\n"
      ]
    },
    {
      "cell_type": "markdown",
      "metadata": {
        "id": "d-DbFE4ED0V5"
      },
      "source": [
        "#### Step 1: Retrieve documents ids relevant to the query using the API wrapper"
      ]
    },
    {
      "cell_type": "markdown",
      "metadata": {
        "id": "v5bjMeddHIXu"
      },
      "source": [
        "Import the required libraries"
      ]
    },
    {
      "cell_type": "code",
      "execution_count": 1,
      "metadata": {
        "id": "TeBnQn4XG_JX"
      },
      "outputs": [],
      "source": [
        "import re\n",
        "import polars as pl\n",
        "from src.api.ucsf_api import IndustryDocsSearch"
      ]
    },
    {
      "cell_type": "markdown",
      "metadata": {
        "id": "PUec9AQE_EPZ"
      },
      "source": [
        "Code to retrieve document ids which will then be used to retrieve OCR text"
      ]
    },
    {
      "cell_type": "code",
      "execution_count": null,
      "metadata": {
        "id": "ZW1mkc8I_Beh"
      },
      "outputs": [],
      "source": [
        "query = '(collection:\"JUUL labs Collection\" AND case:\"State of North Carolina\" AND \"celebrity\" AND type:\"Email\")' # modify as required\n",
        "api = IndustryDocsSearch()\n",
        "api.query(q=query, ocr=True)\n",
        "\n",
        "api.save('collected_documents.parquet')\n"
      ]
    },
    {
      "cell_type": "markdown",
      "metadata": {
        "id": "wPSPLiZMyObh"
      },
      "source": [
        "Sanity check: The documents are updated periodically and hence the ocr text for all ids may not be available in the zip file. Run the code cell below to check the document ids for which OCR text was not extracted from the zip file."
      ]
    },
    {
      "cell_type": "code",
      "execution_count": 2,
      "metadata": {
        "id": "M6ompWl0yOMU"
      },
      "outputs": [
        {
          "name": "stdout",
          "output_type": "stream",
          "text": [
            "OCR text was not extracted for the following IDs: shape: (0,)\n",
            "Series: 'id' [str]\n",
            "[\n",
            "]\n"
          ]
        }
      ],
      "source": [
        "df = pl.read_parquet('collected_documents.parquet')\n",
        "no_ocr_ids = df.filter(pl.col('ocr_content').is_null())['id']\n",
        "print(f\"OCR text was not extracted for the following IDs: {no_ocr_ids}\")\n"
      ]
    },
    {
      "cell_type": "markdown",
      "metadata": {
        "id": "AP2UWqqV3Fd0"
      },
      "source": [
        "Example of output for missing_ids\n",
        "\n",
        "![image.png](data:image/png;base64,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)\n"
      ]
    },
    {
      "cell_type": "markdown",
      "metadata": {
        "id": "e8JWKd6PxUvQ"
      },
      "source": [
        "#### Named Entity Recognition (NER) is a method that identifies and classifies key information within the text into predefined categories such as names of people, organizations, locations, dates, and other entities.\n",
        "\n",
        "#### For instance, NER can be used to identify key celebrities and organizations within the legal documents. This can be achieved using BERT (Bidirectional Encoder Representations from Transformers) which is a model designed to help machines understand human language more effectively. It's based on a type of neural network architecture called a transformer, which is particularly good at processing sequences of data, like sentences.\n",
        "\n",
        "#### Transformer-based models can be fine-tuned for specific tasks by training them on specialized datasets. The model's ability to recognize different categories, such as sentiment, named entities, or topics, depends on what data it was trained on.\n",
        "\n"
      ]
    },
    {
      "cell_type": "markdown",
      "metadata": {
        "id": "yrmUPfsRu8cd"
      },
      "source": [
        "Run the code cell below to perform name entity recognition analysis directly using the OCR text (email). The output is seperated by each individual tag for ease of analysis"
      ]
    },
    {
      "cell_type": "code",
      "execution_count": 3,
      "metadata": {
        "id": "UnNqJKi8z1g3"
      },
      "outputs": [
        {
          "name": "stderr",
          "output_type": "stream",
          "text": [
            "/Users/trippwhaley/Library/Caches/pypoetry/virtualenvs/juul-document-analysis-cEBfJikH-py3.12/lib/python3.12/site-packages/tqdm/auto.py:21: TqdmWarning: IProgress not found. Please update jupyter and ipywidgets. See https://ipywidgets.readthedocs.io/en/stable/user_install.html\n",
            "  from .autonotebook import tqdm as notebook_tqdm\n",
            "Some weights of the model checkpoint at dslim/bert-large-NER were not used when initializing BertForTokenClassification: ['bert.pooler.dense.bias', 'bert.pooler.dense.weight']\n",
            "- This IS expected if you are initializing BertForTokenClassification from the checkpoint of a model trained on another task or with another architecture (e.g. initializing a BertForSequenceClassification model from a BertForPreTraining model).\n",
            "- This IS NOT expected if you are initializing BertForTokenClassification from the checkpoint of a model that you expect to be exactly identical (initializing a BertForSequenceClassification model from a BertForSequenceClassification model).\n",
            "Hardware accelerator e.g. GPU is available in the environment, but no `device` argument is passed to the `Pipeline` object. Model will be on CPU.\n"
          ]
        }
      ],
      "source": [
        "from transformers import AutoTokenizer, AutoModelForTokenClassification, pipeline\n",
        "from itertools import tee, islice\n",
        "\n",
        "# Initialize the BERT NER model and tokenizer\n",
        "model_name = \"dslim/bert-large-NER\"\n",
        "tokenizer = AutoTokenizer.from_pretrained(model_name)\n",
        "model = AutoModelForTokenClassification.from_pretrained(model_name)\n",
        "\n",
        "# Initialize the pipeline\n",
        "ner_pipeline = pipeline(\"ner\", model=model, tokenizer=tokenizer, aggregation_strategy=\"simple\")\n",
        "\n",
        "# Function to extract text between \"Subject:\"/\"Re:\" and \"CONFIDENTIAL\".\n",
        "# This function searches for text between \"Subject:\" or \"Re:\" and \"CONFIDENTIAL\" within a given text to extract content from the email body.\n",
        "\n",
        "def extract_relevant_text(text):\n",
        "    match = re.search(r'Subject:.*?CONFIDENTIAL|Re:.*?CONFIDENTIAL', text, re.DOTALL)\n",
        "    if match:\n",
        "        relevant_text = match.group(0)\n",
        "        # Remove 'CONFIDENTIAL' and the leading part up to \"Subject:\" or \"Re:\"\n",
        "        relevant_text = re.sub(r'(Subject:|Re:)', '', relevant_text)\n",
        "        relevant_text = relevant_text.replace('CONFIDENTIAL', '').strip()\n",
        "        return relevant_text\n",
        "    return \"\"\n",
        "\n",
        "# Function to extract NER tags\n",
        "def extract_ner_tags(text):\n",
        "    ner_results = ner_pipeline(text)\n",
        "    return ner_results\n",
        "\n",
        "# Function to get unigrams and bigrams from a list of words\n",
        "def get_unigrams_and_bigrams(words):\n",
        "    unigrams = words\n",
        "    bigrams = [' '.join(bigram) for bigram in zip(words, islice(words, 1, None))]\n",
        "    return unigrams + bigrams\n",
        "\n",
        "# Process each OCR text and extract NER tags\n",
        "ner_data = []\n",
        "for row in df.head(10).iter_rows():\n",
        "    doc_id = row[df.columns.index('id')]\n",
        "    text = extract_relevant_text(str(row[df.columns.index('ocr_content')]))\n",
        "    if text:\n",
        "        ner_results = extract_ner_tags(text)\n",
        "        for result in ner_results:\n",
        "            word = result['word']\n",
        "            # Check if 'entity_group' is present, otherwise use 'entity'\n",
        "            entity = result.get('entity_group', result.get('entity'))\n",
        "            ner_data.append({'id': doc_id, 'word': word, 'tag': entity})\n",
        "\n",
        "# Convert the results to a DataFrame\n",
        "ner_df = pl.DataFrame(ner_data)\n",
        "\n",
        "# Create separate DataFrames for each tag category\n",
        "categories = ner_df['tag'].unique()\n",
        "for category in categories:\n",
        "    category_df = ner_df.filter(pl.col(\"tag\").eq(category))\n",
        "\n",
        "    # For PERSON tags, ensure unigrams and bigrams to capture more meaningful names\n",
        "    if category == 'B-PER':\n",
        "        # Group words by document ID to form bigrams within the same document\n",
        "        category_df_grouped = category_df.group_by('id')['word']\n",
        "        expanded_data = []\n",
        "        category_df_grouped_cols = category_df_grouped.columns\n",
        "        for row in category_df_grouped.iter_rows():\n",
        "            doc_id = row[category_df_grouped_cols.index('id')]\n",
        "            words = row[category_df_grouped_cols.index('word')]\n",
        "            unigrams_and_bigrams = get_unigrams_and_bigrams(words)\n",
        "            for token in unigrams_and_bigrams:\n",
        "                expanded_data.append({'id': doc_id, 'word': token, 'tag': 'B-PER'})\n",
        "        category_df = pl.DataFrame(expanded_data)\n",
        "\n",
        "    # Save each category to a separate parquet file\n",
        "    output_path = f'ner_output_{category}.parquet'\n",
        "    category_df.write_parquet(output_path)"
      ]
    },
    {
      "cell_type": "markdown",
      "metadata": {
        "id": "NHVYzmnsI-XE"
      },
      "source": [
        "#### The output may require some manual oversight. Here's an example of what the output looks like"
      ]
    },
    {
      "cell_type": "markdown",
      "metadata": {
        "id": "ivMPmNIo6MZz"
      },
      "source": [
        "Run the code cell below to remove duplicates in the word column for the person file. This is useful in cases where you you want a more concise list of words."
      ]
    },
    {
      "cell_type": "code",
      "execution_count": 4,
      "metadata": {
        "id": "TEb-O5tR6Rqb"
      },
      "outputs": [
        {
          "name": "stdout",
          "output_type": "stream",
          "text": [
            "(36, 3)\n",
            "(10, 3)\n",
            "(18, 3)\n",
            "(61, 3)\n"
          ]
        }
      ],
      "source": [
        "# Remove duplicates in ner_output_PER based on word column\n",
        "# Load the parquet file\n",
        "for category in categories:\n",
        "    df = pl.read_parquet(f'ner_output_{category}.parquet')\n",
        "\n",
        "    # Remove duplicates based on the 'word' column\n",
        "    df_cleaned = df.unique(pl.col('word'))\n",
        "    print(df_cleaned.shape)\n",
        "\n",
        "    # Save the de-duplicated DataFrame to a new Parquet file\n",
        "    df_cleaned.write_parquet(f'ner_output_{category}_cleaned.parquet',)"
      ]
    },
    {
      "cell_type": "markdown",
      "metadata": {
        "id": "B7JJp11_1uNX"
      },
      "source": [
        "Similarly, the following model can be used to extract keywords from the OCR text"
      ]
    },
    {
      "cell_type": "code",
      "execution_count": null,
      "metadata": {
        "id": "YnyUOCcE1402"
      },
      "outputs": [],
      "source": [
        "from transformers import AutoTokenizer, AutoModelForSeq2SeqLM, pipeline\n",
        "\n",
        "# Load the parquet file\n",
        "df = pl.read_parquet('collected_documents.parquet')\n",
        "\n",
        "# Initialize the keyword extraction model and tokenizer\n",
        "model_name = \"transformer3/H2-keywordextractor\"\n",
        "tokenizer = AutoTokenizer.from_pretrained(model_name)\n",
        "model = AutoModelForSeq2SeqLM.from_pretrained(model_name)\n",
        "\n",
        "# Create a pipeline for keyword extraction\n",
        "keyword_extraction_pipeline = pipeline(\"text2text-generation\", model=model, tokenizer=tokenizer)\n",
        "\n",
        "# Function to extract text between \"Subject:\"/\"Re:\" and \"CONFIDENTIAL\".\n",
        "# This function searches for text between \"Subject:\" or \"Re:\" and \"CONFIDENTIAL\" within a given text to extract content from the email body.\n",
        "def extract_relevant_text(text):\n",
        "    match = re.search(r'(Subject:|Re:).*?(CONFIDENTIAL|$)', text, re.DOTALL)\n",
        "    if match:\n",
        "        relevant_text = match.group(0)\n",
        "        # Remove 'CONFIDENTIAL' and the leading part up to \"Subject:\" or \"Re:\"\n",
        "        relevant_text = re.sub(r'(Subject:|Re:)', '', relevant_text)\n",
        "        relevant_text = relevant_text.replace('CONFIDENTIAL', '').strip()\n",
        "        return relevant_text\n",
        "    return \"\"\n",
        "\n",
        "# Function to extract keywords\n",
        "def extract_keywords(text):\n",
        "    keyword_results = keyword_extraction_pipeline(text)\n",
        "    return keyword_results\n",
        "\n",
        "# Process each OCR text and extract keywords\n",
        "keyword_data = []\n",
        "for row in df.iter_rows():\n",
        "    doc_id = row[df.columns.index('id')]\n",
        "    text = extract_relevant_text(str(row[df.columns.index('ocr_content')]))\n",
        "    if text:\n",
        "        try:\n",
        "            keyword_results = extract_keywords(text)\n",
        "            for result in keyword_results:\n",
        "                keywords = result['generated_text'].split(\", \")\n",
        "                for keyword in keywords:\n",
        "                    keyword_data.append({'id': doc_id, 'keyword': keyword})\n",
        "        except Exception:\n",
        "            pass\n",
        "\n",
        "# Convert the results to a DataFrame\n",
        "keyword_df = pl.DataFrame(keyword_data)\n",
        "print(keyword_df)\n",
        "# Save the results to a new Parquet file\n",
        "output_path = 'keyword_output.parquet'\n",
        "keyword_df.write_parquet(output_path)"
      ]
    }
  ],
  "metadata": {
    "colab": {
      "provenance": []
    },
    "kernelspec": {
      "display_name": "Python 3",
      "name": "python3"
    },
    "language_info": {
      "codemirror_mode": {
        "name": "ipython",
        "version": 3
      },
      "file_extension": ".py",
      "mimetype": "text/x-python",
      "name": "python",
      "nbconvert_exporter": "python",
      "pygments_lexer": "ipython3",
      "version": "3.12.5"
    }
  },
  "nbformat": 4,
  "nbformat_minor": 0
}
